{
 "cells": [
  {
   "cell_type": "code",
   "execution_count": 68,
   "metadata": {},
   "outputs": [],
   "source": [
    "import pandas as pd\n",
    "import numpy as np\n",
    "from sklearn.preprocessing import OneHotEncoder, RobustScaler\n",
    "from sklearn.pipeline import Pipeline\n",
    "from sklearn.compose import ColumnTransformer\n",
    "from sklearn.compose import make_column_selector\n",
    "from project_code.preprocessor import split_data\n",
    "import pickle"
   ]
  },
  {
   "cell_type": "code",
   "execution_count": 71,
   "metadata": {},
   "outputs": [
    {
     "name": "stderr",
     "output_type": "stream",
     "text": [
      "2024-07-04 15:10:29.706619: I tensorflow/core/platform/cpu_feature_guard.cc:193] This TensorFlow binary is optimized with oneAPI Deep Neural Network Library (oneDNN) to use the following CPU instructions in performance-critical operations:  AVX2 FMA\n",
      "To enable them in other operations, rebuild TensorFlow with the appropriate compiler flags.\n"
     ]
    }
   ],
   "source": [
    "\n",
    "from keras.models import Sequential, Model\n",
    "from keras.layers import Dense, Dropout, BatchNormalization\n",
    "from keras.callbacks import EarlyStopping\n",
    "from keras.optimizers import Adam\n",
    "import matplotlib.pyplot as plt\n",
    "from sklearn.metrics import mean_absolute_error, mean_squared_error\n",
    "from sklearn.model_selection import KFold"
   ]
  },
  {
   "cell_type": "markdown",
   "metadata": {},
   "source": [
    "#### importing and loading data"
   ]
  },
  {
   "cell_type": "code",
   "execution_count": 4,
   "metadata": {},
   "outputs": [
    {
     "name": "stdout",
     "output_type": "stream",
     "text": [
      "/Users/Marie/code/MarieMCodes/re_value_predictor\n"
     ]
    },
    {
     "name": "stderr",
     "output_type": "stream",
     "text": [
      "/Users/Marie/.pyenv/versions/3.10.6/envs/re_value_predictor/lib/python3.10/site-packages/IPython/core/magics/osm.py:417: UserWarning: This is now an optional IPython functionality, setting dhist requires you to install the `pickleshare` library.\n",
      "  self.shell.db['dhist'] = compress_dhist(dhist)[-100:]\n"
     ]
    }
   ],
   "source": [
    "%cd .."
   ]
  },
  {
   "cell_type": "code",
   "execution_count": 64,
   "metadata": {},
   "outputs": [],
   "source": [
    "data=pd.read_csv('raw_data/london_re_postcodes_latlon_master.zip',\n",
    "                    dtype={'price': np.int32,'month':np.int8,'year':np.int16},\n",
    "                    ).sample(300000)\n",
    "    # master: drop month, drop date\n",
    "data.drop(columns=['date','month'],inplace=True)"
   ]
  },
  {
   "cell_type": "code",
   "execution_count": 49,
   "metadata": {},
   "outputs": [
    {
     "name": "stdout",
     "output_type": "stream",
     "text": [
      "<class 'pandas.core.frame.DataFrame'>\n",
      "Int64Index: 100000 entries, 408495 to 1061438\n",
      "Data columns (total 9 columns):\n",
      " #   Column         Non-Null Count   Dtype  \n",
      "---  ------         --------------   -----  \n",
      " 0   price          100000 non-null  int32  \n",
      " 1   property_type  100000 non-null  object \n",
      " 2   property_age   100000 non-null  object \n",
      " 3   ownership      100000 non-null  object \n",
      " 4   year           100000 non-null  int16  \n",
      " 5   lat            100000 non-null  float64\n",
      " 6   lon            100000 non-null  float64\n",
      " 7   sin_time       100000 non-null  float64\n",
      " 8   cos_time       100000 non-null  float64\n",
      "dtypes: float64(4), int16(1), int32(1), object(3)\n",
      "memory usage: 6.7+ MB\n"
     ]
    }
   ],
   "source": [
    "data.info()"
   ]
  },
  {
   "cell_type": "code",
   "execution_count": 95,
   "metadata": {},
   "outputs": [
    {
     "data": {
      "text/plain": [
       "(300000, 1)"
      ]
     },
     "execution_count": 95,
     "metadata": {},
     "output_type": "execute_result"
    }
   ],
   "source": [
    "X=data.drop(columns='price')\n",
    "y=data[['price']]\n",
    "y.shape"
   ]
  },
  {
   "cell_type": "code",
   "execution_count": 110,
   "metadata": {},
   "outputs": [
    {
     "data": {
      "text/html": [
       "<div>\n",
       "<style scoped>\n",
       "    .dataframe tbody tr th:only-of-type {\n",
       "        vertical-align: middle;\n",
       "    }\n",
       "\n",
       "    .dataframe tbody tr th {\n",
       "        vertical-align: top;\n",
       "    }\n",
       "\n",
       "    .dataframe thead th {\n",
       "        text-align: right;\n",
       "    }\n",
       "</style>\n",
       "<table border=\"1\" class=\"dataframe\">\n",
       "  <thead>\n",
       "    <tr style=\"text-align: right;\">\n",
       "      <th></th>\n",
       "      <th>price</th>\n",
       "      <th>year</th>\n",
       "      <th>lat</th>\n",
       "      <th>lon</th>\n",
       "      <th>sin_time</th>\n",
       "      <th>cos_time</th>\n",
       "    </tr>\n",
       "  </thead>\n",
       "  <tbody>\n",
       "    <tr>\n",
       "      <th>count</th>\n",
       "      <td>3.165900e+04</td>\n",
       "      <td>31659.000000</td>\n",
       "      <td>31659.000000</td>\n",
       "      <td>31659.000000</td>\n",
       "      <td>3.165900e+04</td>\n",
       "      <td>3.165900e+04</td>\n",
       "    </tr>\n",
       "    <tr>\n",
       "      <th>mean</th>\n",
       "      <td>6.916474e+05</td>\n",
       "      <td>2021.509492</td>\n",
       "      <td>51.498837</td>\n",
       "      <td>-0.115222</td>\n",
       "      <td>1.034899e-01</td>\n",
       "      <td>-6.448691e-02</td>\n",
       "    </tr>\n",
       "    <tr>\n",
       "      <th>std</th>\n",
       "      <td>6.851404e+05</td>\n",
       "      <td>0.606207</td>\n",
       "      <td>0.077155</td>\n",
       "      <td>0.153160</td>\n",
       "      <td>7.077638e-01</td>\n",
       "      <td>6.958684e-01</td>\n",
       "    </tr>\n",
       "    <tr>\n",
       "      <th>min</th>\n",
       "      <td>2.000000e+05</td>\n",
       "      <td>2021.000000</td>\n",
       "      <td>51.293401</td>\n",
       "      <td>-0.498166</td>\n",
       "      <td>-1.000000e+00</td>\n",
       "      <td>-1.000000e+00</td>\n",
       "    </tr>\n",
       "    <tr>\n",
       "      <th>25%</th>\n",
       "      <td>3.850000e+05</td>\n",
       "      <td>2021.000000</td>\n",
       "      <td>51.443223</td>\n",
       "      <td>-0.210711</td>\n",
       "      <td>-5.000000e-01</td>\n",
       "      <td>-8.660254e-01</td>\n",
       "    </tr>\n",
       "    <tr>\n",
       "      <th>50%</th>\n",
       "      <td>5.157610e+05</td>\n",
       "      <td>2021.000000</td>\n",
       "      <td>51.499752</td>\n",
       "      <td>-0.116026</td>\n",
       "      <td>1.224647e-16</td>\n",
       "      <td>-1.836970e-16</td>\n",
       "    </tr>\n",
       "    <tr>\n",
       "      <th>75%</th>\n",
       "      <td>7.400000e+05</td>\n",
       "      <td>2022.000000</td>\n",
       "      <td>51.559608</td>\n",
       "      <td>-0.015721</td>\n",
       "      <td>8.660254e-01</td>\n",
       "      <td>5.000000e-01</td>\n",
       "    </tr>\n",
       "    <tr>\n",
       "      <th>max</th>\n",
       "      <td>1.400000e+07</td>\n",
       "      <td>2023.000000</td>\n",
       "      <td>51.682136</td>\n",
       "      <td>0.325661</td>\n",
       "      <td>1.000000e+00</td>\n",
       "      <td>1.000000e+00</td>\n",
       "    </tr>\n",
       "  </tbody>\n",
       "</table>\n",
       "</div>"
      ],
      "text/plain": [
       "              price          year           lat           lon      sin_time  \\\n",
       "count  3.165900e+04  31659.000000  31659.000000  31659.000000  3.165900e+04   \n",
       "mean   6.916474e+05   2021.509492     51.498837     -0.115222  1.034899e-01   \n",
       "std    6.851404e+05      0.606207      0.077155      0.153160  7.077638e-01   \n",
       "min    2.000000e+05   2021.000000     51.293401     -0.498166 -1.000000e+00   \n",
       "25%    3.850000e+05   2021.000000     51.443223     -0.210711 -5.000000e-01   \n",
       "50%    5.157610e+05   2021.000000     51.499752     -0.116026  1.224647e-16   \n",
       "75%    7.400000e+05   2022.000000     51.559608     -0.015721  8.660254e-01   \n",
       "max    1.400000e+07   2023.000000     51.682136      0.325661  1.000000e+00   \n",
       "\n",
       "           cos_time  \n",
       "count  3.165900e+04  \n",
       "mean  -6.448691e-02  \n",
       "std    6.958684e-01  \n",
       "min   -1.000000e+00  \n",
       "25%   -8.660254e-01  \n",
       "50%   -1.836970e-16  \n",
       "75%    5.000000e-01  \n",
       "max    1.000000e+00  "
      ]
     },
     "execution_count": 110,
     "metadata": {},
     "output_type": "execute_result"
    }
   ],
   "source": [
    "# exploring prices and outliers in recent years\n",
    "data[data['year']>2020].describe()"
   ]
  },
  {
   "cell_type": "code",
   "execution_count": 111,
   "metadata": {},
   "outputs": [
    {
     "data": {
      "text/html": [
       "<div>\n",
       "<style scoped>\n",
       "    .dataframe tbody tr th:only-of-type {\n",
       "        vertical-align: middle;\n",
       "    }\n",
       "\n",
       "    .dataframe tbody tr th {\n",
       "        vertical-align: top;\n",
       "    }\n",
       "\n",
       "    .dataframe thead th {\n",
       "        text-align: right;\n",
       "    }\n",
       "</style>\n",
       "<table border=\"1\" class=\"dataframe\">\n",
       "  <thead>\n",
       "    <tr style=\"text-align: right;\">\n",
       "      <th></th>\n",
       "      <th>price</th>\n",
       "      <th>property_type</th>\n",
       "      <th>property_age</th>\n",
       "      <th>ownership</th>\n",
       "      <th>year</th>\n",
       "      <th>lat</th>\n",
       "      <th>lon</th>\n",
       "      <th>sin_time</th>\n",
       "      <th>cos_time</th>\n",
       "    </tr>\n",
       "  </thead>\n",
       "  <tbody>\n",
       "    <tr>\n",
       "      <th>1959092</th>\n",
       "      <td>11750000</td>\n",
       "      <td>T</td>\n",
       "      <td>N</td>\n",
       "      <td>F</td>\n",
       "      <td>2022</td>\n",
       "      <td>51.513074</td>\n",
       "      <td>-0.205475</td>\n",
       "      <td>1.000000e+00</td>\n",
       "      <td>6.123234e-17</td>\n",
       "    </tr>\n",
       "    <tr>\n",
       "      <th>1892059</th>\n",
       "      <td>12790000</td>\n",
       "      <td>T</td>\n",
       "      <td>N</td>\n",
       "      <td>F</td>\n",
       "      <td>2021</td>\n",
       "      <td>51.488992</td>\n",
       "      <td>-0.172297</td>\n",
       "      <td>-5.000000e-01</td>\n",
       "      <td>-8.660254e-01</td>\n",
       "    </tr>\n",
       "    <tr>\n",
       "      <th>1812442</th>\n",
       "      <td>10900000</td>\n",
       "      <td>F</td>\n",
       "      <td>Y</td>\n",
       "      <td>L</td>\n",
       "      <td>2021</td>\n",
       "      <td>51.489060</td>\n",
       "      <td>-0.154163</td>\n",
       "      <td>1.000000e+00</td>\n",
       "      <td>6.123234e-17</td>\n",
       "    </tr>\n",
       "    <tr>\n",
       "      <th>1968644</th>\n",
       "      <td>12600000</td>\n",
       "      <td>T</td>\n",
       "      <td>N</td>\n",
       "      <td>F</td>\n",
       "      <td>2022</td>\n",
       "      <td>51.494534</td>\n",
       "      <td>-0.150091</td>\n",
       "      <td>1.000000e+00</td>\n",
       "      <td>6.123234e-17</td>\n",
       "    </tr>\n",
       "    <tr>\n",
       "      <th>1894618</th>\n",
       "      <td>10187500</td>\n",
       "      <td>F</td>\n",
       "      <td>Y</td>\n",
       "      <td>L</td>\n",
       "      <td>2021</td>\n",
       "      <td>51.516404</td>\n",
       "      <td>-0.145980</td>\n",
       "      <td>5.000000e-01</td>\n",
       "      <td>8.660254e-01</td>\n",
       "    </tr>\n",
       "    <tr>\n",
       "      <th>1848052</th>\n",
       "      <td>11030000</td>\n",
       "      <td>T</td>\n",
       "      <td>N</td>\n",
       "      <td>L</td>\n",
       "      <td>2021</td>\n",
       "      <td>51.520319</td>\n",
       "      <td>-0.144650</td>\n",
       "      <td>1.224647e-16</td>\n",
       "      <td>-1.000000e+00</td>\n",
       "    </tr>\n",
       "    <tr>\n",
       "      <th>1809551</th>\n",
       "      <td>12500000</td>\n",
       "      <td>T</td>\n",
       "      <td>N</td>\n",
       "      <td>F</td>\n",
       "      <td>2021</td>\n",
       "      <td>51.498175</td>\n",
       "      <td>-0.185703</td>\n",
       "      <td>1.224647e-16</td>\n",
       "      <td>-1.000000e+00</td>\n",
       "    </tr>\n",
       "    <tr>\n",
       "      <th>1990182</th>\n",
       "      <td>12500000</td>\n",
       "      <td>F</td>\n",
       "      <td>N</td>\n",
       "      <td>L</td>\n",
       "      <td>2023</td>\n",
       "      <td>51.501396</td>\n",
       "      <td>-0.163876</td>\n",
       "      <td>8.660254e-01</td>\n",
       "      <td>-5.000000e-01</td>\n",
       "    </tr>\n",
       "    <tr>\n",
       "      <th>1969154</th>\n",
       "      <td>11750000</td>\n",
       "      <td>T</td>\n",
       "      <td>N</td>\n",
       "      <td>F</td>\n",
       "      <td>2022</td>\n",
       "      <td>51.491642</td>\n",
       "      <td>-0.188324</td>\n",
       "      <td>-1.000000e+00</td>\n",
       "      <td>-1.836970e-16</td>\n",
       "    </tr>\n",
       "    <tr>\n",
       "      <th>1892258</th>\n",
       "      <td>12621255</td>\n",
       "      <td>F</td>\n",
       "      <td>Y</td>\n",
       "      <td>L</td>\n",
       "      <td>2021</td>\n",
       "      <td>51.516404</td>\n",
       "      <td>-0.145980</td>\n",
       "      <td>1.000000e+00</td>\n",
       "      <td>6.123234e-17</td>\n",
       "    </tr>\n",
       "    <tr>\n",
       "      <th>1812737</th>\n",
       "      <td>13850000</td>\n",
       "      <td>T</td>\n",
       "      <td>N</td>\n",
       "      <td>F</td>\n",
       "      <td>2021</td>\n",
       "      <td>51.486194</td>\n",
       "      <td>-0.174526</td>\n",
       "      <td>-2.449294e-16</td>\n",
       "      <td>1.000000e+00</td>\n",
       "    </tr>\n",
       "    <tr>\n",
       "      <th>1829839</th>\n",
       "      <td>14000000</td>\n",
       "      <td>D</td>\n",
       "      <td>N</td>\n",
       "      <td>F</td>\n",
       "      <td>2021</td>\n",
       "      <td>51.540247</td>\n",
       "      <td>-0.166408</td>\n",
       "      <td>1.000000e+00</td>\n",
       "      <td>6.123234e-17</td>\n",
       "    </tr>\n",
       "    <tr>\n",
       "      <th>1879138</th>\n",
       "      <td>10087500</td>\n",
       "      <td>T</td>\n",
       "      <td>N</td>\n",
       "      <td>L</td>\n",
       "      <td>2021</td>\n",
       "      <td>51.498919</td>\n",
       "      <td>-0.170531</td>\n",
       "      <td>-5.000000e-01</td>\n",
       "      <td>-8.660254e-01</td>\n",
       "    </tr>\n",
       "    <tr>\n",
       "      <th>1865835</th>\n",
       "      <td>13500000</td>\n",
       "      <td>D</td>\n",
       "      <td>N</td>\n",
       "      <td>F</td>\n",
       "      <td>2021</td>\n",
       "      <td>51.560226</td>\n",
       "      <td>-0.177247</td>\n",
       "      <td>-8.660254e-01</td>\n",
       "      <td>-5.000000e-01</td>\n",
       "    </tr>\n",
       "  </tbody>\n",
       "</table>\n",
       "</div>"
      ],
      "text/plain": [
       "            price property_type property_age ownership  year        lat  \\\n",
       "1959092  11750000             T            N         F  2022  51.513074   \n",
       "1892059  12790000             T            N         F  2021  51.488992   \n",
       "1812442  10900000             F            Y         L  2021  51.489060   \n",
       "1968644  12600000             T            N         F  2022  51.494534   \n",
       "1894618  10187500             F            Y         L  2021  51.516404   \n",
       "1848052  11030000             T            N         L  2021  51.520319   \n",
       "1809551  12500000             T            N         F  2021  51.498175   \n",
       "1990182  12500000             F            N         L  2023  51.501396   \n",
       "1969154  11750000             T            N         F  2022  51.491642   \n",
       "1892258  12621255             F            Y         L  2021  51.516404   \n",
       "1812737  13850000             T            N         F  2021  51.486194   \n",
       "1829839  14000000             D            N         F  2021  51.540247   \n",
       "1879138  10087500             T            N         L  2021  51.498919   \n",
       "1865835  13500000             D            N         F  2021  51.560226   \n",
       "\n",
       "              lon      sin_time      cos_time  \n",
       "1959092 -0.205475  1.000000e+00  6.123234e-17  \n",
       "1892059 -0.172297 -5.000000e-01 -8.660254e-01  \n",
       "1812442 -0.154163  1.000000e+00  6.123234e-17  \n",
       "1968644 -0.150091  1.000000e+00  6.123234e-17  \n",
       "1894618 -0.145980  5.000000e-01  8.660254e-01  \n",
       "1848052 -0.144650  1.224647e-16 -1.000000e+00  \n",
       "1809551 -0.185703  1.224647e-16 -1.000000e+00  \n",
       "1990182 -0.163876  8.660254e-01 -5.000000e-01  \n",
       "1969154 -0.188324 -1.000000e+00 -1.836970e-16  \n",
       "1892258 -0.145980  1.000000e+00  6.123234e-17  \n",
       "1812737 -0.174526 -2.449294e-16  1.000000e+00  \n",
       "1829839 -0.166408  1.000000e+00  6.123234e-17  \n",
       "1879138 -0.170531 -5.000000e-01 -8.660254e-01  \n",
       "1865835 -0.177247 -8.660254e-01 -5.000000e-01  "
      ]
     },
     "execution_count": 111,
     "metadata": {},
     "output_type": "execute_result"
    }
   ],
   "source": [
    "data[(data['year']>2020) & (data['price']>10000000)]"
   ]
  },
  {
   "cell_type": "code",
   "execution_count": 113,
   "metadata": {},
   "outputs": [
    {
     "data": {
      "text/plain": [
       "array(['F', 'T', 'S', 'D'], dtype=object)"
      ]
     },
     "execution_count": 113,
     "metadata": {},
     "output_type": "execute_result"
    }
   ],
   "source": [
    "data['property_type'].unique()"
   ]
  },
  {
   "cell_type": "markdown",
   "metadata": {},
   "source": [
    "### Preprocessing data"
   ]
  },
  {
   "cell_type": "code",
   "execution_count": 96,
   "metadata": {},
   "outputs": [],
   "source": [
    "def preprocess_X(X):\n",
    "    preprocessor=pickle.load(open(\"models/preprocessor_latlon.pkl\",\"rb\"))\n",
    "    X_processed=preprocessor.transform(X)\n",
    "    print(f\"✅ new data processed with shape {X_processed.shape}\")\n",
    "    return X_processed\n",
    "\n",
    "def process_y(y):\n",
    "    y_processed=np.log(y)\n",
    "    print(f\"✅ y logged  with shape {y_processed.shape}\")\n",
    "    return y_processed\n",
    "\n",
    "\n",
    "def split_x_y(X_processed,y_processed):\n",
    "    # split the processed X and y\n",
    "    X_train, X_test, y_train, y_test= split_data(X_processed,y_processed)\n",
    "    return X_train, X_test, y_train, y_test\n",
    "\n",
    "\n",
    "def process_and_split(X,y):\n",
    "    X_processed=preprocess_X(X)\n",
    "    y_processed=process_y(y)\n",
    "    X_train, X_test, y_train, y_test=split_x_y(X_processed,y_processed)\n",
    "    return X_train, X_test, y_train, y_test\n"
   ]
  },
  {
   "cell_type": "code",
   "execution_count": 62,
   "metadata": {},
   "outputs": [
    {
     "name": "stdout",
     "output_type": "stream",
     "text": [
      "/Users/Marie/code/MarieMCodes/re_value_predictor\n"
     ]
    }
   ],
   "source": [
    "!pwd"
   ]
  },
  {
   "cell_type": "code",
   "execution_count": 97,
   "metadata": {},
   "outputs": [
    {
     "name": "stdout",
     "output_type": "stream",
     "text": [
      "✅ new data processed with shape (300000, 11)\n",
      "✅ y logged  with shape (300000, 1)\n"
     ]
    },
    {
     "data": {
      "text/plain": [
       "((210000, 11), (90000, 11), (210000, 1), (90000, 1))"
      ]
     },
     "execution_count": 97,
     "metadata": {},
     "output_type": "execute_result"
    }
   ],
   "source": [
    "X_train, X_test, y_train, y_test=process_and_split(X,y)\n",
    "X_train.shape, X_test.shape, y_train.shape, y_test.shape"
   ]
  },
  {
   "cell_type": "code",
   "execution_count": null,
   "metadata": {},
   "outputs": [],
   "source": []
  },
  {
   "cell_type": "markdown",
   "metadata": {},
   "source": [
    "### Building model architecture -> into Pipeline"
   ]
  },
  {
   "cell_type": "code",
   "execution_count": 101,
   "metadata": {},
   "outputs": [],
   "source": [
    "def initialize_model() -> Model:\n",
    "    \"\"\"\n",
    "    Initialize the Neural Network with random weights\n",
    "    \"\"\"\n",
    "    model = Sequential()\n",
    "    model.add(Dense(128, activation='relu'))\n",
    "    model.add(BatchNormalization())\n",
    "    model.add(Dropout(0.3))\n",
    "    model.add(Dense(64, activation='relu'))\n",
    "    model.add(BatchNormalization())\n",
    "    model.add(Dropout(0.3))\n",
    "    model.add(Dense(32, activation='relu'))\n",
    "    model.add(BatchNormalization())\n",
    "    model.add(Dropout(0.3))\n",
    "    model.add(Dense(1, activation='linear'))  # Output layer\n",
    "    return model\n",
    "\n",
    "\n",
    "def compile_model(model:Model, learning_rate: 0.001, epochs: 50, batch_size=32) -> tuple[Model, dict]:\n",
    "    \"\"\"\n",
    "    compiles model\n",
    "    \"\"\"\n",
    "    model.compile(optimizer=Adam(learning_rate=learning_rate),\n",
    "                  loss='mse',\n",
    "                  metrics=['mae'])\n",
    "    print(\"✅ Model compiled\")\n",
    "    return model\n",
    "\n",
    "\n",
    "def train_model(\n",
    "        model: Model,\n",
    "        X_train: np.ndarray,\n",
    "        y_train: np.ndarray,\n",
    "        batch_size=64,\n",
    "        patience=2,\n",
    "        validation_data=None,\n",
    "        validation_split=0.3\n",
    "    ) -> tuple[Model, dict]:\n",
    "    \"\"\"\n",
    "    trains model\n",
    "    \"\"\"\n",
    "    print(\"starting model training\")\n",
    "\n",
    "    es = EarlyStopping(\n",
    "        monitor=\"val_loss\",\n",
    "        patience=patience,\n",
    "        restore_best_weights=True,\n",
    "        verbose=1\n",
    "    )\n",
    "\n",
    "    history = model.fit(\n",
    "        X_train,\n",
    "        y_train,\n",
    "        validation_data=validation_data,\n",
    "        validation_split=validation_split,\n",
    "        epochs=100,\n",
    "        batch_size=batch_size,\n",
    "        callbacks=[es],\n",
    "        verbose=0\n",
    "    )\n",
    "\n",
    "    print(f\"✅ Model trained on {len(X_train)} rows with min val MAE: {round(np.min(history.history['val_mae']), 2)}\")\n",
    "\n",
    "    return model, history\n",
    "\n",
    "\n",
    "\n",
    "\n",
    "def evaluate_model(model: Model, X_test: np.ndarray, y_test: np.ndarray) -> tuple[float, float]:\n",
    "    \"\"\"\n",
    "    evaluate trained model on test data\n",
    "    \"\"\"\n",
    "    metrics = model.evaluate(X_test,\n",
    "                             y_test,\n",
    "                             batch_size=32,\n",
    "                             return_dict=True\n",
    "    )\n",
    "\n",
    "    mse = metrics[\"loss\"]\n",
    "    mae = metrics[\"mae\"]\n",
    "    print(f\"Mean Absolute Error (MAE): {mae}\")\n",
    "    print(f\"Mean Squared Error (MSE): {mse}\")\n",
    "    return mae, mse\n"
   ]
  },
  {
   "cell_type": "markdown",
   "metadata": {},
   "source": [
    "### Run model"
   ]
  },
  {
   "cell_type": "code",
   "execution_count": 103,
   "metadata": {},
   "outputs": [
    {
     "name": "stdout",
     "output_type": "stream",
     "text": [
      "✅ Model compiled\n",
      "starting model training\n",
      "Restoring model weights from the end of the best epoch: 11.\n",
      "Epoch 13: early stopping\n",
      "✅ Model trained on 210000 rows with min val MAE: 0.27\n",
      "✅ model finished training\n",
      "2813/2813 [==============================] - 6s 2ms/step - loss: 0.1398 - mae: 0.2683\n",
      "Mean Absolute Error (MAE): 0.26827889680862427\n",
      "Mean Squared Error (MSE): 0.1398274451494217\n",
      "MAE is 0.26827889680862427, and MSE is 0.1398274451494217. Training is complete\n"
     ]
    }
   ],
   "source": [
    "# initialise_model\n",
    "model=initialize_model()\n",
    "\n",
    "# compile_model\n",
    "model=compile_model(model,learning_rate=0.001, epochs=80 )\n",
    "\n",
    "# train_model\n",
    "model,history=train_model(model,X_train,y_train)\n",
    "print('✅ model finished training')\n",
    "\n",
    "#save model\n",
    "#save_model(model, '../models/model_latlon_full.h5')\n",
    "#print('✅ model saved ')\n",
    "\n",
    "# evaluate\n",
    "mae, mse=evaluate_model(model,X_test,y_test)\n",
    "print(f'MAE is {mae}, and MSE is {mse}. Training is complete')"
   ]
  },
  {
   "cell_type": "markdown",
   "metadata": {},
   "source": [
    "### Plot learning history of model"
   ]
  },
  {
   "cell_type": "code",
   "execution_count": 104,
   "metadata": {},
   "outputs": [
    {
     "data": {
      "image/png": "[encoded data removed]",
      "text/plain": [
       "<Figure size 640x480 with 1 Axes>"
      ]
     },
     "metadata": {},
     "output_type": "display_data"
    }
   ],
   "source": [
    "def plot_history(history):\n",
    "    plt.plot(history.history['loss'])\n",
    "    plt.title('Train loss')\n",
    "    plt.ylabel('Loss')\n",
    "    plt.xlabel('Epoch')\n",
    "    plt.show()\n",
    "\n",
    "plot_history(history)"
   ]
  },
  {
   "cell_type": "markdown",
   "metadata": {},
   "source": [
    "### Predict against X_test"
   ]
  },
  {
   "cell_type": "code",
   "execution_count": 105,
   "metadata": {
    "scrolled": true
   },
   "outputs": [
    {
     "name": "stdout",
     "output_type": "stream",
     "text": [
      "2813/2813 [==============================] - 5s 2ms/step\n",
      "✅ model predicted\n",
      " Your predicted price for the property is: [[253354.25]\n",
      " [275580.78]\n",
      " [665544.94]\n",
      " ...\n",
      " [451726.84]\n",
      " [325289.4 ]\n",
      " [508163.9 ]]\n"
     ]
    }
   ],
   "source": [
    "def prediction(X_new):\n",
    "    \n",
    "    # year=2023,\n",
    "    # property_type='F',\n",
    "    # property_age='O',\n",
    "    # ownership='L',\n",
    "    # lat=51.491539,\n",
    "    # lon=0.026218,\n",
    "    # sin_time=0.5,\n",
    "    # cos_time=0.85)\n",
    "    \"\"\"\n",
    "    takes new X, processes them and predicts\n",
    "    \"\"\"\n",
    "    #y_new=pd.DataFrame(locals(),index=[0])\n",
    "    #print(f\"✅ new data loaded in df with shape {X_new.shape}\")\n",
    "\n",
    "    # load preprocessor\n",
    "    # preprocessor=pickle.load(open(\"models/preprocessor_latlon.pkl\",\"rb\"))\n",
    "    # X_new_processed=preprocessor.transform(X_new)\n",
    "    # print(f\"✅ new data processed with shape {X_new_processed.shape}\")\n",
    "\n",
    "    # predict\n",
    "    X_new_processed=X_new\n",
    "    ypred=model.predict(X_new_processed)\n",
    "    print(\"✅ model predicted\")\n",
    "\n",
    "    # reverse log price to actual price\n",
    "    prediction=np.exp(ypred)\n",
    "    print(f\" Your predicted price for the property is: {prediction}\")\n",
    "    return prediction\n",
    "\n",
    "prediction=prediction(X_test)"
   ]
  },
  {
   "cell_type": "markdown",
   "metadata": {},
   "source": [
    "### Plot predictions (of x-test) against actual y-test"
   ]
  },
  {
   "cell_type": "code",
   "execution_count": 106,
   "metadata": {},
   "outputs": [
    {
     "data": {
      "text/html": [
       "<div>\n",
       "<style scoped>\n",
       "    .dataframe tbody tr th:only-of-type {\n",
       "        vertical-align: middle;\n",
       "    }\n",
       "\n",
       "    .dataframe tbody tr th {\n",
       "        vertical-align: top;\n",
       "    }\n",
       "\n",
       "    .dataframe thead th {\n",
       "        text-align: right;\n",
       "    }\n",
       "</style>\n",
       "<table border=\"1\" class=\"dataframe\">\n",
       "  <thead>\n",
       "    <tr style=\"text-align: right;\">\n",
       "      <th></th>\n",
       "      <th>price</th>\n",
       "    </tr>\n",
       "  </thead>\n",
       "  <tbody>\n",
       "    <tr>\n",
       "      <th>2122632</th>\n",
       "      <td>260000.0</td>\n",
       "    </tr>\n",
       "    <tr>\n",
       "      <th>365539</th>\n",
       "      <td>244950.0</td>\n",
       "    </tr>\n",
       "    <tr>\n",
       "      <th>395810</th>\n",
       "      <td>2450000.0</td>\n",
       "    </tr>\n",
       "    <tr>\n",
       "      <th>687916</th>\n",
       "      <td>345000.0</td>\n",
       "    </tr>\n",
       "    <tr>\n",
       "      <th>98696</th>\n",
       "      <td>540000.0</td>\n",
       "    </tr>\n",
       "    <tr>\n",
       "      <th>...</th>\n",
       "      <td>...</td>\n",
       "    </tr>\n",
       "    <tr>\n",
       "      <th>1072874</th>\n",
       "      <td>485000.0</td>\n",
       "    </tr>\n",
       "    <tr>\n",
       "      <th>1753522</th>\n",
       "      <td>780000.0</td>\n",
       "    </tr>\n",
       "    <tr>\n",
       "      <th>1741484</th>\n",
       "      <td>379500.0</td>\n",
       "    </tr>\n",
       "    <tr>\n",
       "      <th>2138048</th>\n",
       "      <td>315000.0</td>\n",
       "    </tr>\n",
       "    <tr>\n",
       "      <th>1675670</th>\n",
       "      <td>495000.0</td>\n",
       "    </tr>\n",
       "  </tbody>\n",
       "</table>\n",
       "<p>90000 rows × 1 columns</p>\n",
       "</div>"
      ],
      "text/plain": [
       "             price\n",
       "2122632   260000.0\n",
       "365539    244950.0\n",
       "395810   2450000.0\n",
       "687916    345000.0\n",
       "98696     540000.0\n",
       "...            ...\n",
       "1072874   485000.0\n",
       "1753522   780000.0\n",
       "1741484   379500.0\n",
       "2138048   315000.0\n",
       "1675670   495000.0\n",
       "\n",
       "[90000 rows x 1 columns]"
      ]
     },
     "execution_count": 106,
     "metadata": {},
     "output_type": "execute_result"
    }
   ],
   "source": [
    "y_test_exp=np.exp(y_test)\n",
    "y_test_exp"
   ]
  },
  {
   "cell_type": "code",
   "execution_count": 109,
   "metadata": {},
   "outputs": [
    {
     "data": {
      "image/png": "[encoded data removed]",
      "text/plain": [
       "<Figure size 1000x600 with 1 Axes>"
      ]
     },
     "metadata": {},
     "output_type": "display_data"
    }
   ],
   "source": [
    "\n",
    "def plot_predictions(y_test: np.ndarray, y_pred: np.ndarray):\n",
    "    plt.figure(figsize=(10, 6))\n",
    "    plt.scatter(y_test, y_pred, alpha=0.5)\n",
    "    plt.xlabel('Actual Prices')\n",
    "    plt.ylabel('Predicted Prices')\n",
    "    plt.title('Actual vs Predicted Prices')\n",
    "    #plt.plot([y_test.min(), y_test.max()], [y_test.min(), y_test.max()], 'k--', lw=2)\n",
    "    plt.show()\n",
    "\n",
    "plot_predictions(y_test_exp[:100],prediction[:100])"
   ]
  },
  {
   "cell_type": "code",
   "execution_count": null,
   "metadata": {},
   "outputs": [],
   "source": [
    "results_train = model.evaluate(X_train, y_train, verbose = 0)\n",
    "results_test = model.evaluate(X_test, y_test, verbose = 0)\n",
    "\n",
    "loss_train=results_train[0]\n",
    "loss_test=results_test[0]\n",
    "print (f\"loss from training is {loss_train} vs loss from test data {loss_test}\")\n",
    "print(\" if train score is > test score, then model is overfitting. Underfitting if \")"
   ]
  },
  {
   "cell_type": "code",
   "execution_count": null,
   "metadata": {},
   "outputs": [],
   "source": []
  },
  {
   "cell_type": "code",
   "execution_count": null,
   "metadata": {},
   "outputs": [],
   "source": []
  }
 ],
 "metadata": {
  "kernelspec": {
   "display_name": "Python 3 (ipykernel)",
   "language": "python",
   "name": "python3"
  },
  "language_info": {
   "codemirror_mode": {
    "name": "ipython",
    "version": 3
   },
   "file_extension": ".py",
   "mimetype": "text/x-python",
   "name": "python",
   "nbconvert_exporter": "python",
   "pygments_lexer": "ipython3",
   "version": "3.10.6"
  },
  "widgets": {
   "application/vnd.jupyter.widget-state+json": {
    "state": {},
    "version_major": 2,
    "version_minor": 0
   }
  }
 },
 "nbformat": 4,
 "nbformat_minor": 4
}
