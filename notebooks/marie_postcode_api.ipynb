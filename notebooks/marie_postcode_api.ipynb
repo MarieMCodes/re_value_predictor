{
 "cells": [
  {
   "cell_type": "markdown",
   "metadata": {},
   "source": [
    "### Testing the postcode.io api to retrieve lat lon per postcode"
   ]
  },
  {
   "cell_type": "markdown",
   "metadata": {},
   "source": [
    "#### imports"
   ]
  },
  {
   "cell_type": "code",
   "execution_count": 2,
   "metadata": {},
   "outputs": [],
   "source": [
    "import pandas as pd\n",
    "import numpy as np\n",
    "import requests"
   ]
  },
  {
   "cell_type": "code",
   "execution_count": 28,
   "metadata": {},
   "outputs": [
    {
     "name": "stdout",
     "output_type": "stream",
     "text": [
      "/Users/Marie/code/MarieMCodes/re_value_predictor\n"
     ]
    },
    {
     "name": "stderr",
     "output_type": "stream",
     "text": [
      "/Users/Marie/.pyenv/versions/3.10.6/envs/re_value_predictor/lib/python3.10/site-packages/IPython/core/magics/osm.py:417: UserWarning: This is now an optional IPython functionality, setting dhist requires you to install the `pickleshare` library.\n",
      "  self.shell.db['dhist'] = compress_dhist(dhist)[-100:]\n"
     ]
    }
   ],
   "source": [
    "%cd .."
   ]
  },
  {
   "cell_type": "code",
   "execution_count": 75,
   "metadata": {},
   "outputs": [],
   "source": [
    "from project_code.data import load_csv, tidy_df"
   ]
  },
  {
   "cell_type": "code",
   "execution_count": 68,
   "metadata": {},
   "outputs": [],
   "source": [
    "%load_ext autoreload\n",
    "%autoreload 2"
   ]
  },
  {
   "cell_type": "markdown",
   "metadata": {},
   "source": [
    "#### testing api"
   ]
  },
  {
   "cell_type": "markdown",
   "metadata": {},
   "source": [
    "api.postcodes.io/postcodes\n",
    "\n",
    "{\n",
    "  \"postcodes\" : [\"OX49 5NU\", \"M32 0JG\", \"NE30 1DP\"]\n",
    "}\n",
    "bulk upload = 100 postcodes max\n",
    "\n",
    "https://api.postcodes.io/postcodes/N79EE\n",
    "\n",
    "RESULT:\n",
    "{\n",
    "\"status\": 200,\n",
    "\"result\": {\n",
    "    \"postcode\": \"N7 9EE\",\n",
    "    \"quality\": 1,\n",
    "    \"eastings\": 530242,\n",
    "    \"northings\": 184992,\n",
    "    \"country\": \"England\",\n",
    "    \"nhs_ha\": \"London\",\n",
    "    \"longitude\": -0.123025,\n",
    "    \"latitude\": 51.548796,\n",
    "\n"
   ]
  },
  {
   "cell_type": "code",
   "execution_count": 93,
   "metadata": {},
   "outputs": [
    {
     "data": {
      "text/plain": [
       "'ERROR'"
      ]
     },
     "execution_count": 93,
     "metadata": {},
     "output_type": "execute_result"
    }
   ],
   "source": [
    "def postcode_api(postcode):\n",
    "    url=f\"https://api.postcodes.io/postcodes/{postcode}\"\n",
    "    try:\n",
    "        response=requests.get(url).json()\n",
    "        #print (response)\n",
    "        #print (response[\"result\"])\n",
    "        lon=response[\"result\"][\"longitude\"]\n",
    "        lat=response[\"result\"][\"latitude\"]\n",
    "        return lat, lon\n",
    "    except:\n",
    "        return \"ERROR\"\n",
    "\n",
    "postcode=np.nan\n",
    "postcode_api(postcode)"
   ]
  },
  {
   "cell_type": "code",
   "execution_count": null,
   "metadata": {},
   "outputs": [],
   "source": [
    "# trying with bulk postcodes but doesn't work\n",
    "def postcodes_api(postcodes):\n",
    "    url=f\"https://api.postcodes.io/{postcodes}\"\n",
    "    try:\n",
    "        response=requests.get(url).json()\n",
    "        #print (response)\n",
    "        #print (response[\"result\"])\n",
    "        lon=response[\"result\"][\"longitude\"]\n",
    "        lat=response[\"result\"][\"latitude\"]\n",
    "        return lat, lon\n",
    "    except:\n",
    "        return \"ERROR\"\n",
    "\n",
    "postcodes={\"postcodes\":[\"N7 9EE\",\"W1G 8NT\"]}\n",
    "postcodes_api(postcodes)"
   ]
  },
  {
   "cell_type": "code",
   "execution_count": 31,
   "metadata": {},
   "outputs": [
    {
     "data": {
      "text/plain": [
       "\"api.postcodes.io/postcodes/['N7 9EE']\""
      ]
     },
     "execution_count": 31,
     "metadata": {},
     "output_type": "execute_result"
    }
   ],
   "source": [
    "url=f\"api.postcodes.io/postcodes/{postcode}\"\n",
    "url"
   ]
  },
  {
   "cell_type": "markdown",
   "metadata": {
    "scrolled": true
   },
   "source": [
    "### Try it on sample data"
   ]
  },
  {
   "cell_type": "code",
   "execution_count": 55,
   "metadata": {},
   "outputs": [],
   "source": [
    "#data=load_csv().sample(10000,random_state=42)\n",
    "data=load_csv()"
   ]
  },
  {
   "cell_type": "code",
   "execution_count": 94,
   "metadata": {},
   "outputs": [],
   "source": [
    "df=tidy_df(data)"
   ]
  },
  {
   "cell_type": "code",
   "execution_count": 95,
   "metadata": {},
   "outputs": [
    {
     "data": {
      "text/plain": [
       "3566539"
      ]
     },
     "execution_count": 95,
     "metadata": {},
     "output_type": "execute_result"
    }
   ],
   "source": [
    "len(df)"
   ]
  },
  {
   "cell_type": "code",
   "execution_count": 49,
   "metadata": {},
   "outputs": [],
   "source": [
    "# testing on smaller df\n",
    "df.columns\n",
    "df=df.drop(columns=['price', 'date', 'property_type', 'property_age',\n",
    "       'ownership', 'number', 'additional_info', 'locality', 'town', 'county', 'year', 'month', 'day'])"
   ]
  },
  {
   "cell_type": "code",
   "execution_count": 53,
   "metadata": {},
   "outputs": [],
   "source": [
    "# picking smaller sample to call api, and test time (ca. 4 min)\n",
    "cols=['borough','full_property_number','street','postcode']\n",
    "df=df[cols]\n",
    "df=df.sample(1000,random_state=42)"
   ]
  },
  {
   "cell_type": "code",
   "execution_count": 54,
   "metadata": {},
   "outputs": [
    {
     "data": {
      "text/html": [
       "<div>\n",
       "<style scoped>\n",
       "    .dataframe tbody tr th:only-of-type {\n",
       "        vertical-align: middle;\n",
       "    }\n",
       "\n",
       "    .dataframe tbody tr th {\n",
       "        vertical-align: top;\n",
       "    }\n",
       "\n",
       "    .dataframe thead th {\n",
       "        text-align: right;\n",
       "    }\n",
       "</style>\n",
       "<table border=\"1\" class=\"dataframe\">\n",
       "  <thead>\n",
       "    <tr style=\"text-align: right;\">\n",
       "      <th></th>\n",
       "      <th>postcode</th>\n",
       "      <th>street</th>\n",
       "      <th>borough</th>\n",
       "      <th>full_property_number</th>\n",
       "      <th>lat_lon</th>\n",
       "    </tr>\n",
       "  </thead>\n",
       "  <tbody>\n",
       "    <tr>\n",
       "      <th>1430780</th>\n",
       "      <td>WC1X 0LQ</td>\n",
       "      <td>CUBITT STREET</td>\n",
       "      <td>CAMDEN</td>\n",
       "      <td>2 FLAT 9</td>\n",
       "      <td>(51.526891, -0.114642)</td>\n",
       "    </tr>\n",
       "    <tr>\n",
       "      <th>198929</th>\n",
       "      <td>NW5 1SU</td>\n",
       "      <td>DARTMOUTH PARK ROAD</td>\n",
       "      <td>CAMDEN</td>\n",
       "      <td>21</td>\n",
       "      <td>(51.558238, -0.145084)</td>\n",
       "    </tr>\n",
       "    <tr>\n",
       "      <th>3441998</th>\n",
       "      <td>SW12 0PD</td>\n",
       "      <td>EMMANUEL ROAD</td>\n",
       "      <td>LAMBETH</td>\n",
       "      <td>HEATHWOOD COURT 10</td>\n",
       "      <td>(51.441927, -0.142131)</td>\n",
       "    </tr>\n",
       "    <tr>\n",
       "      <th>3110629</th>\n",
       "      <td>TW8 8FN</td>\n",
       "      <td>DURHAM WHARF DRIVE</td>\n",
       "      <td>HOUNSLOW</td>\n",
       "      <td>COPLAND COURT FLAT 5</td>\n",
       "      <td>(51.484431, -0.313186)</td>\n",
       "    </tr>\n",
       "    <tr>\n",
       "      <th>3476006</th>\n",
       "      <td>SM3 8NR</td>\n",
       "      <td>FIELDSEND ROAD</td>\n",
       "      <td>SUTTON</td>\n",
       "      <td>18</td>\n",
       "      <td>(51.363632, -0.215272)</td>\n",
       "    </tr>\n",
       "    <tr>\n",
       "      <th>...</th>\n",
       "      <td>...</td>\n",
       "      <td>...</td>\n",
       "      <td>...</td>\n",
       "      <td>...</td>\n",
       "      <td>...</td>\n",
       "    </tr>\n",
       "    <tr>\n",
       "      <th>3393216</th>\n",
       "      <td>E15 4JY</td>\n",
       "      <td>BOLTON ROAD</td>\n",
       "      <td>NEWHAM</td>\n",
       "      <td>28A</td>\n",
       "      <td>(51.542532, 0.016057)</td>\n",
       "    </tr>\n",
       "    <tr>\n",
       "      <th>1781599</th>\n",
       "      <td>SE15 5NR</td>\n",
       "      <td>DENMAN ROAD</td>\n",
       "      <td>SOUTHWARK</td>\n",
       "      <td>68</td>\n",
       "      <td>(51.471882, -0.075816)</td>\n",
       "    </tr>\n",
       "    <tr>\n",
       "      <th>1250877</th>\n",
       "      <td>N12 7HG</td>\n",
       "      <td>SOUTHOVER</td>\n",
       "      <td>BARNET</td>\n",
       "      <td>85</td>\n",
       "      <td>(51.622869, -0.192251)</td>\n",
       "    </tr>\n",
       "    <tr>\n",
       "      <th>2790328</th>\n",
       "      <td>SE26 5NY</td>\n",
       "      <td>BAILEY PLACE</td>\n",
       "      <td>BROMLEY</td>\n",
       "      <td>KITE HOUSE FLAT 6</td>\n",
       "      <td>(51.420012, -0.051847)</td>\n",
       "    </tr>\n",
       "    <tr>\n",
       "      <th>3336869</th>\n",
       "      <td>N10 2EG</td>\n",
       "      <td>MUSWELL AVENUE</td>\n",
       "      <td>HARINGEY</td>\n",
       "      <td>40D</td>\n",
       "      <td>(51.595447, -0.143066)</td>\n",
       "    </tr>\n",
       "  </tbody>\n",
       "</table>\n",
       "<p>1000 rows × 5 columns</p>\n",
       "</div>"
      ],
      "text/plain": [
       "         postcode               street    borough  full_property_number  \\\n",
       "1430780  WC1X 0LQ        CUBITT STREET     CAMDEN              2 FLAT 9   \n",
       "198929    NW5 1SU  DARTMOUTH PARK ROAD     CAMDEN                   21    \n",
       "3441998  SW12 0PD        EMMANUEL ROAD    LAMBETH    HEATHWOOD COURT 10   \n",
       "3110629   TW8 8FN   DURHAM WHARF DRIVE   HOUNSLOW  COPLAND COURT FLAT 5   \n",
       "3476006   SM3 8NR       FIELDSEND ROAD     SUTTON                   18    \n",
       "...           ...                  ...        ...                   ...   \n",
       "3393216   E15 4JY          BOLTON ROAD     NEWHAM                  28A    \n",
       "1781599  SE15 5NR          DENMAN ROAD  SOUTHWARK                   68    \n",
       "1250877   N12 7HG            SOUTHOVER     BARNET                   85    \n",
       "2790328  SE26 5NY         BAILEY PLACE    BROMLEY     KITE HOUSE FLAT 6   \n",
       "3336869   N10 2EG       MUSWELL AVENUE   HARINGEY                  40D    \n",
       "\n",
       "                        lat_lon  \n",
       "1430780  (51.526891, -0.114642)  \n",
       "198929   (51.558238, -0.145084)  \n",
       "3441998  (51.441927, -0.142131)  \n",
       "3110629  (51.484431, -0.313186)  \n",
       "3476006  (51.363632, -0.215272)  \n",
       "...                         ...  \n",
       "3393216   (51.542532, 0.016057)  \n",
       "1781599  (51.471882, -0.075816)  \n",
       "1250877  (51.622869, -0.192251)  \n",
       "2790328  (51.420012, -0.051847)  \n",
       "3336869  (51.595447, -0.143066)  \n",
       "\n",
       "[1000 rows x 5 columns]"
      ]
     },
     "execution_count": 54,
     "metadata": {},
     "output_type": "execute_result"
    }
   ],
   "source": [
    "# calling api and filling df\n",
    "df['lat_lon']=df['postcode'].apply(postcode_api)\n",
    "df"
   ]
  },
  {
   "cell_type": "markdown",
   "metadata": {},
   "source": [
    "#### Call api on full dataset"
   ]
  },
  {
   "cell_type": "code",
   "execution_count": 90,
   "metadata": {
    "scrolled": true
   },
   "outputs": [],
   "source": [
    "# drop postcode nans - kept even the nan postcodes, might be able to fill those with the openstreet api\n",
    "# df=df.dropna(subset=['postcode'])"
   ]
  },
  {
   "cell_type": "code",
   "execution_count": null,
   "metadata": {},
   "outputs": [],
   "source": [
    "# call the api and fill whole df\n",
    "df['lat_lon']=df['postcode'].apply(postcode_api)\n",
    "df"
   ]
  },
  {
   "cell_type": "code",
   "execution_count": null,
   "metadata": {},
   "outputs": [],
   "source": []
  },
  {
   "cell_type": "code",
   "execution_count": null,
   "metadata": {},
   "outputs": [],
   "source": [
    "# split into 2 columns lat and lon\n",
    "df['lat']=df['lat_lon'].apply(lambda x: x[0])\n",
    "df['lon']=df['lat_lon'].apply(lambda x: x[1])\n"
   ]
  },
  {
   "cell_type": "code",
   "execution_count": null,
   "metadata": {},
   "outputs": [],
   "source": [
    "# write to csv\n"
   ]
  }
 ],
 "metadata": {
  "kernelspec": {
   "display_name": "Python 3 (ipykernel)",
   "language": "python",
   "name": "python3"
  },
  "language_info": {
   "codemirror_mode": {
    "name": "ipython",
    "version": 3
   },
   "file_extension": ".py",
   "mimetype": "text/x-python",
   "name": "python",
   "nbconvert_exporter": "python",
   "pygments_lexer": "ipython3",
   "version": "3.10.6"
  },
  "widgets": {
   "application/vnd.jupyter.widget-state+json": {
    "state": {},
    "version_major": 2,
    "version_minor": 0
   }
  }
 },
 "nbformat": 4,
 "nbformat_minor": 4
}
