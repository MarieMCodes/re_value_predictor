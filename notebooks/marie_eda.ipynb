{
 "cells": [
  {
   "cell_type": "markdown",
   "metadata": {},
   "source": [
    "## Imports"
   ]
  },
  {
   "cell_type": "code",
   "execution_count": 1,
   "metadata": {},
   "outputs": [],
   "source": [
    "import pandas as pd\n",
    "import numpy as np\n",
    "import seaborn as sns\n",
    "import matplotlib.pyplot as plt\n",
    "from datetime import datetime, date, time\n",
    "import plotly.express as px"
   ]
  },
  {
   "cell_type": "markdown",
   "metadata": {},
   "source": [
    "# Retrieving data"
   ]
  },
  {
   "cell_type": "code",
   "execution_count": 3,
   "metadata": {},
   "outputs": [],
   "source": [
    "dataframe=pd.read_csv('../raw_data/london_real_estate_data.zip', compression='zip',\n",
    "                dtype={'price': np.int32,'day':np.int16, 'month':np.int16,'year':np.int16}\n",
    ")"
   ]
  },
  {
   "cell_type": "code",
   "execution_count": 138,
   "metadata": {},
   "outputs": [
    {
     "data": {
      "text/plain": [
       "Index(['price', 'date', 'postcode', 'property_type', 'property_age', 'ground',\n",
       "       'number', 'additional_info', 'street', 'locality', 'town', 'district',\n",
       "       'county', 'year', 'month', 'day'],\n",
       "      dtype='object')"
      ]
     },
     "execution_count": 138,
     "metadata": {},
     "output_type": "execute_result"
    }
   ],
   "source": [
    "dataframe.columns\n"
   ]
  },
  {
   "cell_type": "markdown",
   "metadata": {},
   "source": [
    "## Building function to tidy df"
   ]
  },
  {
   "cell_type": "code",
   "execution_count": 4,
   "metadata": {},
   "outputs": [
    {
     "data": {
      "text/html": [
       "<div>\n",
       "<style scoped>\n",
       "    .dataframe tbody tr th:only-of-type {\n",
       "        vertical-align: middle;\n",
       "    }\n",
       "\n",
       "    .dataframe tbody tr th {\n",
       "        vertical-align: top;\n",
       "    }\n",
       "\n",
       "    .dataframe thead th {\n",
       "        text-align: right;\n",
       "    }\n",
       "</style>\n",
       "<table border=\"1\" class=\"dataframe\">\n",
       "  <thead>\n",
       "    <tr style=\"text-align: right;\">\n",
       "      <th></th>\n",
       "      <th>price</th>\n",
       "      <th>date</th>\n",
       "      <th>postcode</th>\n",
       "      <th>property_type</th>\n",
       "      <th>property_age</th>\n",
       "      <th>ground</th>\n",
       "      <th>street</th>\n",
       "      <th>borough</th>\n",
       "      <th>year</th>\n",
       "      <th>month</th>\n",
       "      <th>day</th>\n",
       "      <th>full_property_number</th>\n",
       "    </tr>\n",
       "  </thead>\n",
       "  <tbody>\n",
       "    <tr>\n",
       "      <th>3623314</th>\n",
       "      <td>1180000</td>\n",
       "      <td>23-01-06 00:00</td>\n",
       "      <td>W12 7GR</td>\n",
       "      <td>F</td>\n",
       "      <td>N</td>\n",
       "      <td>L</td>\n",
       "      <td>WOOD CRESCENT</td>\n",
       "      <td>HAMMERSMITH AND FULHAM</td>\n",
       "      <td>2023</td>\n",
       "      <td>1</td>\n",
       "      <td>6</td>\n",
       "      <td>5APARTMENT 106</td>\n",
       "    </tr>\n",
       "    <tr>\n",
       "      <th>3623315</th>\n",
       "      <td>365000</td>\n",
       "      <td>23-01-11 00:00</td>\n",
       "      <td>E4 9QB</td>\n",
       "      <td>F</td>\n",
       "      <td>N</td>\n",
       "      <td>L</td>\n",
       "      <td>CASTLE AVENUE</td>\n",
       "      <td>WALTHAM FOREST</td>\n",
       "      <td>2023</td>\n",
       "      <td>1</td>\n",
       "      <td>11</td>\n",
       "      <td>BAILEY COURT6</td>\n",
       "    </tr>\n",
       "    <tr>\n",
       "      <th>3623316</th>\n",
       "      <td>370000</td>\n",
       "      <td>23-01-17 00:00</td>\n",
       "      <td>RM6 6SX</td>\n",
       "      <td>S</td>\n",
       "      <td>N</td>\n",
       "      <td>F</td>\n",
       "      <td>HENLEY GARDENS</td>\n",
       "      <td>BARKING AND DAGENHAM</td>\n",
       "      <td>2023</td>\n",
       "      <td>1</td>\n",
       "      <td>17</td>\n",
       "      <td>12</td>\n",
       "    </tr>\n",
       "    <tr>\n",
       "      <th>3623317</th>\n",
       "      <td>310000</td>\n",
       "      <td>23-01-06 00:00</td>\n",
       "      <td>E4 9SY</td>\n",
       "      <td>F</td>\n",
       "      <td>N</td>\n",
       "      <td>L</td>\n",
       "      <td>NEW ROAD</td>\n",
       "      <td>WALTHAM FOREST</td>\n",
       "      <td>2023</td>\n",
       "      <td>1</td>\n",
       "      <td>6</td>\n",
       "      <td>108B</td>\n",
       "    </tr>\n",
       "    <tr>\n",
       "      <th>3623318</th>\n",
       "      <td>490000</td>\n",
       "      <td>23-01-13 00:00</td>\n",
       "      <td>RM1 4SR</td>\n",
       "      <td>T</td>\n",
       "      <td>N</td>\n",
       "      <td>F</td>\n",
       "      <td>HEATHER GLEN</td>\n",
       "      <td>HAVERING</td>\n",
       "      <td>2023</td>\n",
       "      <td>1</td>\n",
       "      <td>13</td>\n",
       "      <td>12</td>\n",
       "    </tr>\n",
       "  </tbody>\n",
       "</table>\n",
       "</div>"
      ],
      "text/plain": [
       "           price            date postcode property_type property_age ground  \\\n",
       "3623314  1180000  23-01-06 00:00  W12 7GR             F            N      L   \n",
       "3623315   365000  23-01-11 00:00   E4 9QB             F            N      L   \n",
       "3623316   370000  23-01-17 00:00  RM6 6SX             S            N      F   \n",
       "3623317   310000  23-01-06 00:00   E4 9SY             F            N      L   \n",
       "3623318   490000  23-01-13 00:00  RM1 4SR             T            N      F   \n",
       "\n",
       "                 street                 borough  year  month  day  \\\n",
       "3623314   WOOD CRESCENT  HAMMERSMITH AND FULHAM  2023      1    6   \n",
       "3623315   CASTLE AVENUE          WALTHAM FOREST  2023      1   11   \n",
       "3623316  HENLEY GARDENS    BARKING AND DAGENHAM  2023      1   17   \n",
       "3623317        NEW ROAD          WALTHAM FOREST  2023      1    6   \n",
       "3623318    HEATHER GLEN                HAVERING  2023      1   13   \n",
       "\n",
       "        full_property_number  \n",
       "3623314       5APARTMENT 106  \n",
       "3623315        BAILEY COURT6  \n",
       "3623316                   12  \n",
       "3623317                 108B  \n",
       "3623318                   12  "
      ]
     },
     "execution_count": 4,
     "metadata": {},
     "output_type": "execute_result"
    }
   ],
   "source": [
    "def tidy_df(df):\n",
    "    ''' takes london re data df and deletes locality, town, county columns, \n",
    "    merges number and additional info to create new column and deleting the former individual ones,\n",
    "    and renames district column to borough.'''\n",
    "    # replace nan values w empty strings\n",
    "    df.fillna({'additional_info':''}, inplace=True)\n",
    "\n",
    "    # merging number and additional number\n",
    "    df['full_property_number']=df['number']+ '' + df['additional_info']\n",
    "    \n",
    "    # dropping columns\n",
    "    df.drop(columns=['number', 'additional_info', 'locality','town','county'], inplace=True)\n",
    "\n",
    "    df.rename(columns={'district':'borough'}, inplace=True)\n",
    "\n",
    "    # dropping rows where 'type'=='O'\n",
    "    df=df[df['property_type']!='O']\n",
    "\n",
    "    # dropping rows where 'ground' == 'U'\n",
    "    df=df[df['ground']!='U']\n",
    "    \n",
    "    return df\n",
    "\n",
    "df=tidy_df(dataframe)\n",
    "df.tail()"
   ]
  },
  {
   "cell_type": "code",
   "execution_count": null,
   "metadata": {},
   "outputs": [],
   "source": [
    "def feature_engineer(df):\n",
    "    ''' taking dataframe and adding new columns:\n",
    "    - 2 and 3 chars shortened postcodes,\n",
    "    - sin cos for months\n",
    "    returns df'''\n",
    "\n",
    "    # shortened postcodes\n",
    "    df['short2_pc']=df[['postcode']].apply(lambda x: x.str[:2])\n",
    "    df['short3_pc']=df[['postcode']].apply(lambda x: x.str[:3])\n",
    "\n",
    "    # can drop postcode now? not needed for analysis\n",
    "    # df.drop(columns='postcode', inplace=True)\n",
    "\n",
    "    return df\n",
    "\n",
    "df= feature_engineer(df)\n",
    "df.head()"
   ]
  },
  {
   "cell_type": "code",
   "execution_count": 70,
   "metadata": {},
   "outputs": [
    {
     "data": {
      "text/plain": [
       "price                    int32\n",
       "date                    object\n",
       "postcode                object\n",
       "property_type           object\n",
       "property_age            object\n",
       "ground                  object\n",
       "street                  object\n",
       "borough                 object\n",
       "year                     int16\n",
       "month                    int16\n",
       "day                      int16\n",
       "full_property_number    object\n",
       "short2_pc               object\n",
       "short3_pc               object\n",
       "dtype: object"
      ]
     },
     "execution_count": 70,
     "metadata": {},
     "output_type": "execute_result"
    }
   ],
   "source": [
    "df.dtypes"
   ]
  },
  {
   "cell_type": "code",
   "execution_count": null,
   "metadata": {},
   "outputs": [
    {
     "data": {
      "text/plain": [
       "(3566539, 12)"
      ]
     },
     "execution_count": 107,
     "metadata": {},
     "output_type": "execute_result"
    }
   ],
   "source": [
    "df.shape"
   ]
  },
  {
   "cell_type": "code",
   "execution_count": 108,
   "metadata": {},
   "outputs": [
    {
     "data": {
      "text/plain": [
       "Index(['price', 'date', 'postcode', 'property_type', 'property_age', 'ground',\n",
       "       'street', 'borough', 'year', 'month', 'day', 'full_property_number'],\n",
       "      dtype='object')"
      ]
     },
     "execution_count": 108,
     "metadata": {},
     "output_type": "execute_result"
    }
   ],
   "source": [
    "df.columns"
   ]
  },
  {
   "cell_type": "code",
   "execution_count": null,
   "metadata": {},
   "outputs": [],
   "source": []
  },
  {
   "cell_type": "markdown",
   "metadata": {},
   "source": [
    "# Exploring Columns"
   ]
  },
  {
   "cell_type": "markdown",
   "metadata": {
    "jp-MarkdownHeadingCollapsed": true
   },
   "source": [
    "## Irrelevant columns - locality - town"
   ]
  },
  {
   "cell_type": "code",
   "execution_count": 13,
   "metadata": {},
   "outputs": [
    {
     "data": {
      "text/plain": [
       "locality\n",
       "LONDON              898451\n",
       "ILFORD               31574\n",
       "ENFIELD              30275\n",
       "ROMFORD              26937\n",
       "HARROW               26358\n",
       "                     ...  \n",
       "EAST END ROAD            1\n",
       "WATERWORKS ROAD          1\n",
       "CHART STREET             1\n",
       "STATION APPROACH         1\n",
       "LLANOVER ROAD            1\n",
       "Name: count, Length: 666, dtype: int64"
      ]
     },
     "execution_count": 13,
     "metadata": {},
     "output_type": "execute_result"
    }
   ],
   "source": [
    "df['locality'].value_counts()"
   ]
  },
  {
   "cell_type": "code",
   "execution_count": 14,
   "metadata": {},
   "outputs": [
    {
     "data": {
      "text/plain": [
       "town\n",
       "LONDON              2162986\n",
       "ROMFORD               73399\n",
       "CROYDON               67341\n",
       "ILFORD                64786\n",
       "ENFIELD               61670\n",
       "                     ...   \n",
       "NEWPORT                   1\n",
       "SUTTON COLDFIELD          1\n",
       "WARRINGTON                1\n",
       "WALTHAM ABBEY             1\n",
       "NORTHWICH                 1\n",
       "Name: count, Length: 94, dtype: int64"
      ]
     },
     "execution_count": 14,
     "metadata": {},
     "output_type": "execute_result"
    }
   ],
   "source": [
    "df['town'].value_counts()"
   ]
  },
  {
   "cell_type": "code",
   "execution_count": 15,
   "metadata": {},
   "outputs": [
    {
     "data": {
      "text/plain": [
       "array(['BECKENHAM', 'LONDON', 'NORTHOLT', 'ILFORD', 'SUTTON', 'UXBRIDGE',\n",
       "       'CARSHALTON', 'ENFIELD', 'DAGENHAM', 'CROYDON', 'THORNTON HEATH',\n",
       "       'MITCHAM', 'ROMFORD', 'RICHMOND', 'WEST DRAYTON', 'BELVEDERE',\n",
       "       'GREENFORD', 'HAYES', 'ORPINGTON', 'BROMLEY', 'ERITH', 'PURLEY',\n",
       "       'STANMORE', 'SOUTH CROYDON', 'HARROW', 'BARNET', 'SURBITON',\n",
       "       'HORNCHURCH', 'TEDDINGTON', 'EDGWARE', 'HOUNSLOW', 'WEMBLEY',\n",
       "       'BEXLEYHEATH', 'ISLEWORTH', 'DARTFORD', 'TWICKENHAM', 'NEW MALDEN',\n",
       "       'PINNER', 'HAMPTON', 'WALLINGTON', 'FELTHAM', 'SIDCUP', 'WELLING',\n",
       "       'COULSDON', 'WOODFORD GREEN', 'MORDEN', 'RAINHAM', 'NORTHWOOD',\n",
       "       'WEST WICKHAM', 'SOUTHALL', 'KINGSTON UPON THAMES', 'BARKING',\n",
       "       'KENLEY', 'UPMINSTER', 'WORCESTER PARK', 'BEXLEY', 'CHESSINGTON',\n",
       "       'CHIGWELL', 'CHISLEHURST', 'RUISLIP', 'KESTON', 'WESTERHAM',\n",
       "       'BRENTFORD', 'WHYTELEAFE', 'BUCKHURST HILL', 'EAST MOLESEY',\n",
       "       'BANSTEAD', 'WARLINGHAM', 'EPSOM', 'WALTHAM CROSS', 'CATERHAM',\n",
       "       'SEVENOAKS', 'RUNCORN', 'SWANLEY', 'ASHFORD', 'RICKMANSWORTH',\n",
       "       'STAINES', 'BUSHEY', 'BOREHAMWOOD', 'POTTERS BAR', 'BRENTWOOD',\n",
       "       'SOUTH OCKENDON', 'WALTHAM ABBEY', 'WISBECH', 'LEATHERHEAD',\n",
       "       'WARRINGTON', 'SHREWSBURY', 'SUTTON COLDFIELD', 'NEWPORT',\n",
       "       'BANBURY', 'NORTHAMPTON', 'STAINES-UPON-THAMES',\n",
       "       'SUNBURY-ON-THAMES', 'NORTHWICH'], dtype=object)"
      ]
     },
     "execution_count": 15,
     "metadata": {},
     "output_type": "execute_result"
    }
   ],
   "source": [
    "df['town'].unique()"
   ]
  },
  {
   "cell_type": "code",
   "execution_count": 18,
   "metadata": {},
   "outputs": [
    {
     "data": {
      "text/plain": [
       "33"
      ]
     },
     "execution_count": 18,
     "metadata": {},
     "output_type": "execute_result"
    }
   ],
   "source": [
    "len(df['district'].unique())"
   ]
  },
  {
   "cell_type": "code",
   "execution_count": 21,
   "metadata": {},
   "outputs": [],
   "source": [
    "df.drop(columns=['town','locality','county'], inplace=True)"
   ]
  },
  {
   "cell_type": "markdown",
   "metadata": {
    "jp-MarkdownHeadingCollapsed": true
   },
   "source": [
    "## Exploring property type"
   ]
  },
  {
   "cell_type": "code",
   "execution_count": 22,
   "metadata": {},
   "outputs": [
    {
     "data": {
      "text/plain": [
       "property_type\n",
       "F    1827792\n",
       "T    1041668\n",
       "S     537157\n",
       "D     160014\n",
       "O      56688\n",
       "Name: count, dtype: int64"
      ]
     },
     "execution_count": 22,
     "metadata": {},
     "output_type": "execute_result"
    }
   ],
   "source": [
    "# inspecting property types, F = flat, T=Terraced property, S= semi-detached house, D=detached house, O= other\n",
    "df.property_type.value_counts()\n"
   ]
  },
  {
   "cell_type": "code",
   "execution_count": 35,
   "metadata": {},
   "outputs": [
    {
     "data": {
      "text/plain": [
       "5"
      ]
     },
     "execution_count": 35,
     "metadata": {},
     "output_type": "execute_result"
    }
   ],
   "source": [
    "df.property_type.nunique()"
   ]
  },
  {
   "cell_type": "code",
   "execution_count": 83,
   "metadata": {},
   "outputs": [
    {
     "data": {
      "text/plain": [
       "0.015645324079938863"
      ]
     },
     "execution_count": 83,
     "metadata": {},
     "output_type": "execute_result"
    }
   ],
   "source": [
    "len(df[df['property_type']==\"O\"])/len(df)"
   ]
  },
  {
   "cell_type": "markdown",
   "metadata": {
    "jp-MarkdownHeadingCollapsed": true
   },
   "source": [
    "## Exploring Ground - Freehold Leasehold"
   ]
  },
  {
   "cell_type": "code",
   "execution_count": 102,
   "metadata": {},
   "outputs": [
    {
     "data": {
      "text/plain": [
       "ground\n",
       "L    1886861\n",
       "F    1736366\n",
       "U         92\n",
       "Name: count, dtype: int64"
      ]
     },
     "execution_count": 102,
     "metadata": {},
     "output_type": "execute_result"
    }
   ],
   "source": [
    "df.ground.value_counts()"
   ]
  },
  {
   "cell_type": "code",
   "execution_count": 34,
   "metadata": {},
   "outputs": [
    {
     "data": {
      "text/plain": [
       "3"
      ]
     },
     "execution_count": 34,
     "metadata": {},
     "output_type": "execute_result"
    }
   ],
   "source": [
    "df.ground.nunique()"
   ]
  },
  {
   "cell_type": "code",
   "execution_count": 103,
   "metadata": {},
   "outputs": [
    {
     "data": {
      "text/html": [
       "<div>\n",
       "<style scoped>\n",
       "    .dataframe tbody tr th:only-of-type {\n",
       "        vertical-align: middle;\n",
       "    }\n",
       "\n",
       "    .dataframe tbody tr th {\n",
       "        vertical-align: top;\n",
       "    }\n",
       "\n",
       "    .dataframe thead th {\n",
       "        text-align: right;\n",
       "    }\n",
       "</style>\n",
       "<table border=\"1\" class=\"dataframe\">\n",
       "  <thead>\n",
       "    <tr style=\"text-align: right;\">\n",
       "      <th></th>\n",
       "      <th>price</th>\n",
       "      <th>date</th>\n",
       "      <th>postcode</th>\n",
       "      <th>property_type</th>\n",
       "      <th>property_age</th>\n",
       "      <th>ground</th>\n",
       "      <th>street</th>\n",
       "      <th>borough</th>\n",
       "      <th>year</th>\n",
       "      <th>month</th>\n",
       "      <th>day</th>\n",
       "      <th>full_property_number</th>\n",
       "    </tr>\n",
       "  </thead>\n",
       "  <tbody>\n",
       "    <tr>\n",
       "      <th>1858</th>\n",
       "      <td>42016</td>\n",
       "      <td>95-01-30 00:00</td>\n",
       "      <td>SW4 9NG</td>\n",
       "      <td>F</td>\n",
       "      <td>N</td>\n",
       "      <td>U</td>\n",
       "      <td>ABBEVILLE ROAD</td>\n",
       "      <td>LAMBETH</td>\n",
       "      <td>1995</td>\n",
       "      <td>1</td>\n",
       "      <td>30</td>\n",
       "      <td>40</td>\n",
       "    </tr>\n",
       "    <tr>\n",
       "      <th>26457</th>\n",
       "      <td>75000</td>\n",
       "      <td>95-08-25 00:00</td>\n",
       "      <td>SE12 9JB</td>\n",
       "      <td>S</td>\n",
       "      <td>N</td>\n",
       "      <td>U</td>\n",
       "      <td>PITFOLD ROAD</td>\n",
       "      <td>LEWISHAM</td>\n",
       "      <td>1995</td>\n",
       "      <td>8</td>\n",
       "      <td>25</td>\n",
       "      <td>67</td>\n",
       "    </tr>\n",
       "    <tr>\n",
       "      <th>108643</th>\n",
       "      <td>87995</td>\n",
       "      <td>95-12-18 00:00</td>\n",
       "      <td>CR4 2AR</td>\n",
       "      <td>S</td>\n",
       "      <td>Y</td>\n",
       "      <td>U</td>\n",
       "      <td>KENNEDY CLOSE</td>\n",
       "      <td>MERTON</td>\n",
       "      <td>1995</td>\n",
       "      <td>12</td>\n",
       "      <td>18</td>\n",
       "      <td>13</td>\n",
       "    </tr>\n",
       "    <tr>\n",
       "      <th>749446</th>\n",
       "      <td>172000</td>\n",
       "      <td>00-10-16 00:00</td>\n",
       "      <td>EN4 8LA</td>\n",
       "      <td>S</td>\n",
       "      <td>N</td>\n",
       "      <td>U</td>\n",
       "      <td>FERNEY ROAD</td>\n",
       "      <td>BARNET</td>\n",
       "      <td>2000</td>\n",
       "      <td>10</td>\n",
       "      <td>16</td>\n",
       "      <td>49</td>\n",
       "    </tr>\n",
       "    <tr>\n",
       "      <th>806192</th>\n",
       "      <td>420000</td>\n",
       "      <td>00-09-21 00:00</td>\n",
       "      <td>SM5 2TG</td>\n",
       "      <td>D</td>\n",
       "      <td>N</td>\n",
       "      <td>U</td>\n",
       "      <td>WESTCROFT ROAD</td>\n",
       "      <td>SUTTON</td>\n",
       "      <td>2000</td>\n",
       "      <td>9</td>\n",
       "      <td>21</td>\n",
       "      <td>37</td>\n",
       "    </tr>\n",
       "    <tr>\n",
       "      <th>...</th>\n",
       "      <td>...</td>\n",
       "      <td>...</td>\n",
       "      <td>...</td>\n",
       "      <td>...</td>\n",
       "      <td>...</td>\n",
       "      <td>...</td>\n",
       "      <td>...</td>\n",
       "      <td>...</td>\n",
       "      <td>...</td>\n",
       "      <td>...</td>\n",
       "      <td>...</td>\n",
       "      <td>...</td>\n",
       "    </tr>\n",
       "    <tr>\n",
       "      <th>1730148</th>\n",
       "      <td>249950</td>\n",
       "      <td>06-06-28 00:00</td>\n",
       "      <td>BR3 5LP</td>\n",
       "      <td>F</td>\n",
       "      <td>Y</td>\n",
       "      <td>U</td>\n",
       "      <td>ALBEMARLE ROAD</td>\n",
       "      <td>BROMLEY</td>\n",
       "      <td>2006</td>\n",
       "      <td>6</td>\n",
       "      <td>28</td>\n",
       "      <td>LAIT HOUSE, 1FLAT 117</td>\n",
       "    </tr>\n",
       "    <tr>\n",
       "      <th>1730220</th>\n",
       "      <td>298700</td>\n",
       "      <td>06-11-22 00:00</td>\n",
       "      <td>IG11 8PG</td>\n",
       "      <td>T</td>\n",
       "      <td>Y</td>\n",
       "      <td>U</td>\n",
       "      <td>PICKERING ROAD</td>\n",
       "      <td>BARKING AND DAGENHAM</td>\n",
       "      <td>2006</td>\n",
       "      <td>11</td>\n",
       "      <td>22</td>\n",
       "      <td>13</td>\n",
       "    </tr>\n",
       "    <tr>\n",
       "      <th>1759807</th>\n",
       "      <td>298750</td>\n",
       "      <td>06-10-05 00:00</td>\n",
       "      <td>IG11 8PG</td>\n",
       "      <td>T</td>\n",
       "      <td>Y</td>\n",
       "      <td>U</td>\n",
       "      <td>PICKERING ROAD</td>\n",
       "      <td>BARKING AND DAGENHAM</td>\n",
       "      <td>2006</td>\n",
       "      <td>10</td>\n",
       "      <td>5</td>\n",
       "      <td>7</td>\n",
       "    </tr>\n",
       "    <tr>\n",
       "      <th>1811677</th>\n",
       "      <td>298750</td>\n",
       "      <td>06-11-30 00:00</td>\n",
       "      <td>IG11 8PG</td>\n",
       "      <td>T</td>\n",
       "      <td>Y</td>\n",
       "      <td>U</td>\n",
       "      <td>PICKERING ROAD</td>\n",
       "      <td>BARKING AND DAGENHAM</td>\n",
       "      <td>2006</td>\n",
       "      <td>11</td>\n",
       "      <td>30</td>\n",
       "      <td>9</td>\n",
       "    </tr>\n",
       "    <tr>\n",
       "      <th>1974412</th>\n",
       "      <td>278250</td>\n",
       "      <td>07-03-12 00:00</td>\n",
       "      <td>IG11 8PF</td>\n",
       "      <td>T</td>\n",
       "      <td>Y</td>\n",
       "      <td>U</td>\n",
       "      <td>CHURCH ROAD</td>\n",
       "      <td>BARKING AND DAGENHAM</td>\n",
       "      <td>2007</td>\n",
       "      <td>3</td>\n",
       "      <td>12</td>\n",
       "      <td>4</td>\n",
       "    </tr>\n",
       "  </tbody>\n",
       "</table>\n",
       "<p>92 rows × 12 columns</p>\n",
       "</div>"
      ],
      "text/plain": [
       "          price            date  postcode property_type property_age ground  \\\n",
       "1858      42016  95-01-30 00:00   SW4 9NG             F            N      U   \n",
       "26457     75000  95-08-25 00:00  SE12 9JB             S            N      U   \n",
       "108643    87995  95-12-18 00:00   CR4 2AR             S            Y      U   \n",
       "749446   172000  00-10-16 00:00   EN4 8LA             S            N      U   \n",
       "806192   420000  00-09-21 00:00   SM5 2TG             D            N      U   \n",
       "...         ...             ...       ...           ...          ...    ...   \n",
       "1730148  249950  06-06-28 00:00   BR3 5LP             F            Y      U   \n",
       "1730220  298700  06-11-22 00:00  IG11 8PG             T            Y      U   \n",
       "1759807  298750  06-10-05 00:00  IG11 8PG             T            Y      U   \n",
       "1811677  298750  06-11-30 00:00  IG11 8PG             T            Y      U   \n",
       "1974412  278250  07-03-12 00:00  IG11 8PF             T            Y      U   \n",
       "\n",
       "                 street               borough  year  month  day  \\\n",
       "1858     ABBEVILLE ROAD               LAMBETH  1995      1   30   \n",
       "26457      PITFOLD ROAD              LEWISHAM  1995      8   25   \n",
       "108643    KENNEDY CLOSE                MERTON  1995     12   18   \n",
       "749446      FERNEY ROAD                BARNET  2000     10   16   \n",
       "806192   WESTCROFT ROAD                SUTTON  2000      9   21   \n",
       "...                 ...                   ...   ...    ...  ...   \n",
       "1730148  ALBEMARLE ROAD               BROMLEY  2006      6   28   \n",
       "1730220  PICKERING ROAD  BARKING AND DAGENHAM  2006     11   22   \n",
       "1759807  PICKERING ROAD  BARKING AND DAGENHAM  2006     10    5   \n",
       "1811677  PICKERING ROAD  BARKING AND DAGENHAM  2006     11   30   \n",
       "1974412     CHURCH ROAD  BARKING AND DAGENHAM  2007      3   12   \n",
       "\n",
       "          full_property_number  \n",
       "1858                        40  \n",
       "26457                       67  \n",
       "108643                      13  \n",
       "749446                      49  \n",
       "806192                      37  \n",
       "...                        ...  \n",
       "1730148  LAIT HOUSE, 1FLAT 117  \n",
       "1730220                     13  \n",
       "1759807                      7  \n",
       "1811677                      9  \n",
       "1974412                      4  \n",
       "\n",
       "[92 rows x 12 columns]"
      ]
     },
     "execution_count": 103,
     "metadata": {},
     "output_type": "execute_result"
    }
   ],
   "source": [
    "df[df['ground']=='U']"
   ]
  },
  {
   "cell_type": "code",
   "execution_count": 86,
   "metadata": {},
   "outputs": [
    {
     "data": {
      "text/plain": [
       "2.5391084803739333e-05"
      ]
     },
     "execution_count": 86,
     "metadata": {},
     "output_type": "execute_result"
    }
   ],
   "source": [
    "len(df[df['ground']==\"U\"])/len(df)"
   ]
  },
  {
   "cell_type": "markdown",
   "metadata": {
    "jp-MarkdownHeadingCollapsed": true
   },
   "source": [
    "## Exploring Property Age"
   ]
  },
  {
   "cell_type": "code",
   "execution_count": 27,
   "metadata": {},
   "outputs": [
    {
     "data": {
      "text/plain": [
       "property_age\n",
       "N    3290439\n",
       "Y     332880\n",
       "Name: count, dtype: int64"
      ]
     },
     "execution_count": 27,
     "metadata": {},
     "output_type": "execute_result"
    }
   ],
   "source": [
    "df.property_age.value_counts()"
   ]
  },
  {
   "cell_type": "code",
   "execution_count": 33,
   "metadata": {},
   "outputs": [
    {
     "data": {
      "text/plain": [
       "2"
      ]
     },
     "execution_count": 33,
     "metadata": {},
     "output_type": "execute_result"
    }
   ],
   "source": [
    "df.property_age.nunique()"
   ]
  },
  {
   "cell_type": "markdown",
   "metadata": {
    "jp-MarkdownHeadingCollapsed": true
   },
   "source": [
    "## Exploring 'additional info'"
   ]
  },
  {
   "cell_type": "code",
   "execution_count": 39,
   "metadata": {},
   "outputs": [
    {
     "data": {
      "text/plain": [
       "19480"
      ]
     },
     "execution_count": 39,
     "metadata": {},
     "output_type": "execute_result"
    }
   ],
   "source": [
    "df.additional_info.nunique()"
   ]
  },
  {
   "cell_type": "code",
   "execution_count": 48,
   "metadata": {},
   "outputs": [
    {
     "data": {
      "text/plain": [
       "0.6746212519515946"
      ]
     },
     "execution_count": 48,
     "metadata": {},
     "output_type": "execute_result"
    }
   ],
   "source": [
    "# proportion of missing values\n",
    "sum(df['additional_info'].isnull()==True)/len(df)"
   ]
  },
  {
   "cell_type": "code",
   "execution_count": null,
   "metadata": {},
   "outputs": [],
   "source": [
    "df[df['additional_info'].isnull()==False]"
   ]
  },
  {
   "cell_type": "code",
   "execution_count": 65,
   "metadata": {},
   "outputs": [
    {
     "data": {
      "text/html": [
       "<div>\n",
       "<style scoped>\n",
       "    .dataframe tbody tr th:only-of-type {\n",
       "        vertical-align: middle;\n",
       "    }\n",
       "\n",
       "    .dataframe tbody tr th {\n",
       "        vertical-align: top;\n",
       "    }\n",
       "\n",
       "    .dataframe thead th {\n",
       "        text-align: right;\n",
       "    }\n",
       "</style>\n",
       "<table border=\"1\" class=\"dataframe\">\n",
       "  <thead>\n",
       "    <tr style=\"text-align: right;\">\n",
       "      <th></th>\n",
       "      <th>price</th>\n",
       "      <th>date</th>\n",
       "      <th>postcode</th>\n",
       "      <th>property_type</th>\n",
       "      <th>property_age</th>\n",
       "      <th>ground</th>\n",
       "      <th>street</th>\n",
       "      <th>district</th>\n",
       "      <th>year</th>\n",
       "      <th>month</th>\n",
       "      <th>day</th>\n",
       "      <th>full_property_number</th>\n",
       "    </tr>\n",
       "  </thead>\n",
       "  <tbody>\n",
       "    <tr>\n",
       "      <th>3623219</th>\n",
       "      <td>450000</td>\n",
       "      <td>23-01-10 00:00</td>\n",
       "      <td>UB7 9EX</td>\n",
       "      <td>T</td>\n",
       "      <td>N</td>\n",
       "      <td>F</td>\n",
       "      <td>BLACKTHORN AVENUE</td>\n",
       "      <td>HILLINGDON</td>\n",
       "      <td>2023</td>\n",
       "      <td>1</td>\n",
       "      <td>10</td>\n",
       "      <td>48</td>\n",
       "    </tr>\n",
       "    <tr>\n",
       "      <th>3623220</th>\n",
       "      <td>425000</td>\n",
       "      <td>23-01-05 00:00</td>\n",
       "      <td>W4 2HD</td>\n",
       "      <td>F</td>\n",
       "      <td>N</td>\n",
       "      <td>L</td>\n",
       "      <td>DEVONSHIRE ROAD</td>\n",
       "      <td>HOUNSLOW</td>\n",
       "      <td>2023</td>\n",
       "      <td>1</td>\n",
       "      <td>5</td>\n",
       "      <td>2E</td>\n",
       "    </tr>\n",
       "    <tr>\n",
       "      <th>3623221</th>\n",
       "      <td>265000</td>\n",
       "      <td>23-01-27 00:00</td>\n",
       "      <td>EN5 1QU</td>\n",
       "      <td>F</td>\n",
       "      <td>N</td>\n",
       "      <td>L</td>\n",
       "      <td>STATION ROAD</td>\n",
       "      <td>BARNET</td>\n",
       "      <td>2023</td>\n",
       "      <td>1</td>\n",
       "      <td>27</td>\n",
       "      <td>COLERIDGE COURT, 81FLAT 18</td>\n",
       "    </tr>\n",
       "    <tr>\n",
       "      <th>3623222</th>\n",
       "      <td>465000</td>\n",
       "      <td>23-01-20 00:00</td>\n",
       "      <td>W7 2AZ</td>\n",
       "      <td>F</td>\n",
       "      <td>N</td>\n",
       "      <td>L</td>\n",
       "      <td>WELLMEADOW ROAD</td>\n",
       "      <td>EALING</td>\n",
       "      <td>2023</td>\n",
       "      <td>1</td>\n",
       "      <td>20</td>\n",
       "      <td>INSPIRE COURTFLAT 6</td>\n",
       "    </tr>\n",
       "    <tr>\n",
       "      <th>3623223</th>\n",
       "      <td>359000</td>\n",
       "      <td>23-01-31 00:00</td>\n",
       "      <td>UB8 2SP</td>\n",
       "      <td>F</td>\n",
       "      <td>N</td>\n",
       "      <td>L</td>\n",
       "      <td>WATERLOO ROAD</td>\n",
       "      <td>HILLINGDON</td>\n",
       "      <td>2023</td>\n",
       "      <td>1</td>\n",
       "      <td>31</td>\n",
       "      <td>BLYTHE WOOD COURT, 14412</td>\n",
       "    </tr>\n",
       "    <tr>\n",
       "      <th>...</th>\n",
       "      <td>...</td>\n",
       "      <td>...</td>\n",
       "      <td>...</td>\n",
       "      <td>...</td>\n",
       "      <td>...</td>\n",
       "      <td>...</td>\n",
       "      <td>...</td>\n",
       "      <td>...</td>\n",
       "      <td>...</td>\n",
       "      <td>...</td>\n",
       "      <td>...</td>\n",
       "      <td>...</td>\n",
       "    </tr>\n",
       "    <tr>\n",
       "      <th>3623314</th>\n",
       "      <td>1180000</td>\n",
       "      <td>23-01-06 00:00</td>\n",
       "      <td>W12 7GR</td>\n",
       "      <td>F</td>\n",
       "      <td>N</td>\n",
       "      <td>L</td>\n",
       "      <td>WOOD CRESCENT</td>\n",
       "      <td>HAMMERSMITH AND FULHAM</td>\n",
       "      <td>2023</td>\n",
       "      <td>1</td>\n",
       "      <td>6</td>\n",
       "      <td>5APARTMENT 106</td>\n",
       "    </tr>\n",
       "    <tr>\n",
       "      <th>3623315</th>\n",
       "      <td>365000</td>\n",
       "      <td>23-01-11 00:00</td>\n",
       "      <td>E4 9QB</td>\n",
       "      <td>F</td>\n",
       "      <td>N</td>\n",
       "      <td>L</td>\n",
       "      <td>CASTLE AVENUE</td>\n",
       "      <td>WALTHAM FOREST</td>\n",
       "      <td>2023</td>\n",
       "      <td>1</td>\n",
       "      <td>11</td>\n",
       "      <td>BAILEY COURT6</td>\n",
       "    </tr>\n",
       "    <tr>\n",
       "      <th>3623316</th>\n",
       "      <td>370000</td>\n",
       "      <td>23-01-17 00:00</td>\n",
       "      <td>RM6 6SX</td>\n",
       "      <td>S</td>\n",
       "      <td>N</td>\n",
       "      <td>F</td>\n",
       "      <td>HENLEY GARDENS</td>\n",
       "      <td>BARKING AND DAGENHAM</td>\n",
       "      <td>2023</td>\n",
       "      <td>1</td>\n",
       "      <td>17</td>\n",
       "      <td>12</td>\n",
       "    </tr>\n",
       "    <tr>\n",
       "      <th>3623317</th>\n",
       "      <td>310000</td>\n",
       "      <td>23-01-06 00:00</td>\n",
       "      <td>E4 9SY</td>\n",
       "      <td>F</td>\n",
       "      <td>N</td>\n",
       "      <td>L</td>\n",
       "      <td>NEW ROAD</td>\n",
       "      <td>WALTHAM FOREST</td>\n",
       "      <td>2023</td>\n",
       "      <td>1</td>\n",
       "      <td>6</td>\n",
       "      <td>108B</td>\n",
       "    </tr>\n",
       "    <tr>\n",
       "      <th>3623318</th>\n",
       "      <td>490000</td>\n",
       "      <td>23-01-13 00:00</td>\n",
       "      <td>RM1 4SR</td>\n",
       "      <td>T</td>\n",
       "      <td>N</td>\n",
       "      <td>F</td>\n",
       "      <td>HEATHER GLEN</td>\n",
       "      <td>HAVERING</td>\n",
       "      <td>2023</td>\n",
       "      <td>1</td>\n",
       "      <td>13</td>\n",
       "      <td>12</td>\n",
       "    </tr>\n",
       "  </tbody>\n",
       "</table>\n",
       "<p>100 rows × 12 columns</p>\n",
       "</div>"
      ],
      "text/plain": [
       "           price            date postcode property_type property_age ground  \\\n",
       "3623219   450000  23-01-10 00:00  UB7 9EX             T            N      F   \n",
       "3623220   425000  23-01-05 00:00   W4 2HD             F            N      L   \n",
       "3623221   265000  23-01-27 00:00  EN5 1QU             F            N      L   \n",
       "3623222   465000  23-01-20 00:00   W7 2AZ             F            N      L   \n",
       "3623223   359000  23-01-31 00:00  UB8 2SP             F            N      L   \n",
       "...          ...             ...      ...           ...          ...    ...   \n",
       "3623314  1180000  23-01-06 00:00  W12 7GR             F            N      L   \n",
       "3623315   365000  23-01-11 00:00   E4 9QB             F            N      L   \n",
       "3623316   370000  23-01-17 00:00  RM6 6SX             S            N      F   \n",
       "3623317   310000  23-01-06 00:00   E4 9SY             F            N      L   \n",
       "3623318   490000  23-01-13 00:00  RM1 4SR             T            N      F   \n",
       "\n",
       "                    street                district  year  month  day  \\\n",
       "3623219  BLACKTHORN AVENUE              HILLINGDON  2023      1   10   \n",
       "3623220    DEVONSHIRE ROAD                HOUNSLOW  2023      1    5   \n",
       "3623221       STATION ROAD                  BARNET  2023      1   27   \n",
       "3623222    WELLMEADOW ROAD                  EALING  2023      1   20   \n",
       "3623223      WATERLOO ROAD              HILLINGDON  2023      1   31   \n",
       "...                    ...                     ...   ...    ...  ...   \n",
       "3623314      WOOD CRESCENT  HAMMERSMITH AND FULHAM  2023      1    6   \n",
       "3623315      CASTLE AVENUE          WALTHAM FOREST  2023      1   11   \n",
       "3623316     HENLEY GARDENS    BARKING AND DAGENHAM  2023      1   17   \n",
       "3623317           NEW ROAD          WALTHAM FOREST  2023      1    6   \n",
       "3623318       HEATHER GLEN                HAVERING  2023      1   13   \n",
       "\n",
       "               full_property_number  \n",
       "3623219                          48  \n",
       "3623220                          2E  \n",
       "3623221  COLERIDGE COURT, 81FLAT 18  \n",
       "3623222         INSPIRE COURTFLAT 6  \n",
       "3623223    BLYTHE WOOD COURT, 14412  \n",
       "...                             ...  \n",
       "3623314              5APARTMENT 106  \n",
       "3623315               BAILEY COURT6  \n",
       "3623316                          12  \n",
       "3623317                        108B  \n",
       "3623318                          12  \n",
       "\n",
       "[100 rows x 12 columns]"
      ]
     },
     "execution_count": 65,
     "metadata": {},
     "output_type": "execute_result"
    }
   ],
   "source": [
    "# replacing nan values with empty string, so can merge  with number\n",
    "\n",
    "df.fillna({'additional_info':''}, inplace=True)\n",
    "\n",
    "# merging  number and additional number\n",
    "df['full_property_number']=df['number']+ '' + df['additional_info']\n",
    "\n",
    "# dropping number and additional info column\n",
    "df=df.drop(columns=['number', 'additional_info'])\n",
    "df.tail(100)                        "
   ]
  },
  {
   "cell_type": "markdown",
   "metadata": {},
   "source": [
    " ## Exploring postcodes"
   ]
  },
  {
   "cell_type": "code",
   "execution_count": 67,
   "metadata": {},
   "outputs": [
    {
     "data": {
      "text/plain": [
       "postcode\n",
       "E14 9GU     442\n",
       "WC2A 2AT    322\n",
       "W2 6HP      305\n",
       "N7 6JT      303\n",
       "CR4 4FD     303\n",
       "           ... \n",
       "W1D 7AT       1\n",
       "NW4 2DF       1\n",
       "W1B 1NH       1\n",
       "SW5 0QY       1\n",
       "SW15 4BG      1\n",
       "Name: count, Length: 140532, dtype: int64"
      ]
     },
     "execution_count": 67,
     "metadata": {},
     "output_type": "execute_result"
    }
   ],
   "source": [
    "df.postcode.value_counts()"
   ]
  },
  {
   "cell_type": "markdown",
   "metadata": {},
   "source": [
    "## Exploring sales over time"
   ]
  },
  {
   "cell_type": "code",
   "execution_count": 89,
   "metadata": {
    "scrolled": true
   },
   "outputs": [
    {
     "data": {
      "text/html": [
       "<div>\n",
       "<style scoped>\n",
       "    .dataframe tbody tr th:only-of-type {\n",
       "        vertical-align: middle;\n",
       "    }\n",
       "\n",
       "    .dataframe tbody tr th {\n",
       "        vertical-align: top;\n",
       "    }\n",
       "\n",
       "    .dataframe thead th {\n",
       "        text-align: right;\n",
       "    }\n",
       "</style>\n",
       "<table border=\"1\" class=\"dataframe\">\n",
       "  <thead>\n",
       "    <tr style=\"text-align: right;\">\n",
       "      <th></th>\n",
       "      <th>price</th>\n",
       "      <th>month</th>\n",
       "      <th>day</th>\n",
       "    </tr>\n",
       "    <tr>\n",
       "      <th>year</th>\n",
       "      <th></th>\n",
       "      <th></th>\n",
       "      <th></th>\n",
       "    </tr>\n",
       "  </thead>\n",
       "  <tbody>\n",
       "    <tr>\n",
       "      <th>1995</th>\n",
       "      <td>72995.0</td>\n",
       "      <td>7.0</td>\n",
       "      <td>19.0</td>\n",
       "    </tr>\n",
       "    <tr>\n",
       "      <th>1996</th>\n",
       "      <td>77000.0</td>\n",
       "      <td>7.0</td>\n",
       "      <td>19.0</td>\n",
       "    </tr>\n",
       "    <tr>\n",
       "      <th>1997</th>\n",
       "      <td>86000.0</td>\n",
       "      <td>7.0</td>\n",
       "      <td>18.0</td>\n",
       "    </tr>\n",
       "    <tr>\n",
       "      <th>1998</th>\n",
       "      <td>96545.0</td>\n",
       "      <td>7.0</td>\n",
       "      <td>18.0</td>\n",
       "    </tr>\n",
       "    <tr>\n",
       "      <th>1999</th>\n",
       "      <td>118000.0</td>\n",
       "      <td>7.0</td>\n",
       "      <td>17.0</td>\n",
       "    </tr>\n",
       "    <tr>\n",
       "      <th>2000</th>\n",
       "      <td>138000.0</td>\n",
       "      <td>6.0</td>\n",
       "      <td>18.0</td>\n",
       "    </tr>\n",
       "    <tr>\n",
       "      <th>2001</th>\n",
       "      <td>155000.0</td>\n",
       "      <td>7.0</td>\n",
       "      <td>17.0</td>\n",
       "    </tr>\n",
       "    <tr>\n",
       "      <th>2002</th>\n",
       "      <td>180500.0</td>\n",
       "      <td>7.0</td>\n",
       "      <td>17.0</td>\n",
       "    </tr>\n",
       "    <tr>\n",
       "      <th>2003</th>\n",
       "      <td>200000.0</td>\n",
       "      <td>7.0</td>\n",
       "      <td>17.0</td>\n",
       "    </tr>\n",
       "    <tr>\n",
       "      <th>2004</th>\n",
       "      <td>220000.0</td>\n",
       "      <td>6.0</td>\n",
       "      <td>17.0</td>\n",
       "    </tr>\n",
       "    <tr>\n",
       "      <th>2005</th>\n",
       "      <td>230000.0</td>\n",
       "      <td>7.0</td>\n",
       "      <td>17.0</td>\n",
       "    </tr>\n",
       "    <tr>\n",
       "      <th>2006</th>\n",
       "      <td>245000.0</td>\n",
       "      <td>7.0</td>\n",
       "      <td>17.0</td>\n",
       "    </tr>\n",
       "    <tr>\n",
       "      <th>2007</th>\n",
       "      <td>263000.0</td>\n",
       "      <td>7.0</td>\n",
       "      <td>17.0</td>\n",
       "    </tr>\n",
       "    <tr>\n",
       "      <th>2008</th>\n",
       "      <td>259000.0</td>\n",
       "      <td>5.0</td>\n",
       "      <td>17.0</td>\n",
       "    </tr>\n",
       "    <tr>\n",
       "      <th>2009</th>\n",
       "      <td>250000.0</td>\n",
       "      <td>8.0</td>\n",
       "      <td>17.0</td>\n",
       "    </tr>\n",
       "    <tr>\n",
       "      <th>2010</th>\n",
       "      <td>287500.0</td>\n",
       "      <td>7.0</td>\n",
       "      <td>17.0</td>\n",
       "    </tr>\n",
       "    <tr>\n",
       "      <th>2011</th>\n",
       "      <td>292750.0</td>\n",
       "      <td>7.0</td>\n",
       "      <td>16.0</td>\n",
       "    </tr>\n",
       "    <tr>\n",
       "      <th>2012</th>\n",
       "      <td>300000.0</td>\n",
       "      <td>7.0</td>\n",
       "      <td>17.0</td>\n",
       "    </tr>\n",
       "    <tr>\n",
       "      <th>2013</th>\n",
       "      <td>323000.0</td>\n",
       "      <td>7.0</td>\n",
       "      <td>17.0</td>\n",
       "    </tr>\n",
       "    <tr>\n",
       "      <th>2014</th>\n",
       "      <td>362000.0</td>\n",
       "      <td>7.0</td>\n",
       "      <td>17.0</td>\n",
       "    </tr>\n",
       "    <tr>\n",
       "      <th>2015</th>\n",
       "      <td>398000.0</td>\n",
       "      <td>7.0</td>\n",
       "      <td>17.0</td>\n",
       "    </tr>\n",
       "    <tr>\n",
       "      <th>2016</th>\n",
       "      <td>435000.0</td>\n",
       "      <td>6.0</td>\n",
       "      <td>18.0</td>\n",
       "    </tr>\n",
       "    <tr>\n",
       "      <th>2017</th>\n",
       "      <td>450000.0</td>\n",
       "      <td>7.0</td>\n",
       "      <td>17.0</td>\n",
       "    </tr>\n",
       "    <tr>\n",
       "      <th>2018</th>\n",
       "      <td>450000.0</td>\n",
       "      <td>7.0</td>\n",
       "      <td>17.0</td>\n",
       "    </tr>\n",
       "    <tr>\n",
       "      <th>2019</th>\n",
       "      <td>455000.0</td>\n",
       "      <td>7.0</td>\n",
       "      <td>17.0</td>\n",
       "    </tr>\n",
       "    <tr>\n",
       "      <th>2020</th>\n",
       "      <td>482000.0</td>\n",
       "      <td>8.0</td>\n",
       "      <td>17.0</td>\n",
       "    </tr>\n",
       "    <tr>\n",
       "      <th>2021</th>\n",
       "      <td>495000.0</td>\n",
       "      <td>6.0</td>\n",
       "      <td>20.0</td>\n",
       "    </tr>\n",
       "    <tr>\n",
       "      <th>2022</th>\n",
       "      <td>520000.0</td>\n",
       "      <td>7.0</td>\n",
       "      <td>17.0</td>\n",
       "    </tr>\n",
       "    <tr>\n",
       "      <th>2023</th>\n",
       "      <td>510000.0</td>\n",
       "      <td>2.0</td>\n",
       "      <td>16.0</td>\n",
       "    </tr>\n",
       "  </tbody>\n",
       "</table>\n",
       "</div>"
      ],
      "text/plain": [
       "         price  month   day\n",
       "year                       \n",
       "1995   72995.0    7.0  19.0\n",
       "1996   77000.0    7.0  19.0\n",
       "1997   86000.0    7.0  18.0\n",
       "1998   96545.0    7.0  18.0\n",
       "1999  118000.0    7.0  17.0\n",
       "2000  138000.0    6.0  18.0\n",
       "2001  155000.0    7.0  17.0\n",
       "2002  180500.0    7.0  17.0\n",
       "2003  200000.0    7.0  17.0\n",
       "2004  220000.0    6.0  17.0\n",
       "2005  230000.0    7.0  17.0\n",
       "2006  245000.0    7.0  17.0\n",
       "2007  263000.0    7.0  17.0\n",
       "2008  259000.0    5.0  17.0\n",
       "2009  250000.0    8.0  17.0\n",
       "2010  287500.0    7.0  17.0\n",
       "2011  292750.0    7.0  16.0\n",
       "2012  300000.0    7.0  17.0\n",
       "2013  323000.0    7.0  17.0\n",
       "2014  362000.0    7.0  17.0\n",
       "2015  398000.0    7.0  17.0\n",
       "2016  435000.0    6.0  18.0\n",
       "2017  450000.0    7.0  17.0\n",
       "2018  450000.0    7.0  17.0\n",
       "2019  455000.0    7.0  17.0\n",
       "2020  482000.0    8.0  17.0\n",
       "2021  495000.0    6.0  20.0\n",
       "2022  520000.0    7.0  17.0\n",
       "2023  510000.0    2.0  16.0"
      ]
     },
     "execution_count": 89,
     "metadata": {},
     "output_type": "execute_result"
    }
   ],
   "source": [
    "median_annual_price=df.groupby(['year']).median('price')\n",
    "median_annual_price\n",
    "# df.groupby(['year', 'month']).median('price')\n",
    "# visualise only monthly sales data or even annual sales data"
   ]
  },
  {
   "cell_type": "code",
   "execution_count": 92,
   "metadata": {},
   "outputs": [
    {
     "data": {
      "text/plain": [
       "<Axes: xlabel='year', ylabel='price'>"
      ]
     },
     "execution_count": 92,
     "metadata": {},
     "output_type": "execute_result"
    },
    {
     "data": {
      "image/png": "[encoded data removed]",
      "text/plain": [
       "<Figure size 640x480 with 1 Axes>"
      ]
     },
     "metadata": {},
     "output_type": "display_data"
    }
   ],
   "source": [
    "# Plotting annual median sales price \n",
    "sn.lineplot(median_annual_price['price'])"
   ]
  },
  {
   "cell_type": "markdown",
   "metadata": {
    "jp-MarkdownHeadingCollapsed": true
   },
   "source": [
    "## Exploring price outliers"
   ]
  },
  {
   "cell_type": "code",
   "execution_count": 115,
   "metadata": {},
   "outputs": [
    {
     "data": {
      "text/plain": [
       "223"
      ]
     },
     "execution_count": 115,
     "metadata": {},
     "output_type": "execute_result"
    }
   ],
   "source": [
    "# amount of properties (in overall dataset) with price ABOVE ..... e.g 40M=27, 30M = 70, \n",
    "len(df[df['price']>=20_000_000])"
   ]
  },
  {
   "cell_type": "code",
   "execution_count": 5,
   "metadata": {},
   "outputs": [
    {
     "data": {
      "text/plain": [
       "99554"
      ]
     },
     "execution_count": 5,
     "metadata": {},
     "output_type": "execute_result"
    }
   ],
   "source": [
    "# amount of properties (in overall dataset) with price BELOW ..... e.g 50T=100T (half of which take place in 1995/96, 100T = 70, \n",
    "len(df[df['price']<=50_000])"
   ]
  },
  {
   "cell_type": "code",
   "execution_count": 24,
   "metadata": {},
   "outputs": [
    {
     "data": {
      "text/plain": [
       "3657"
      ]
     },
     "execution_count": 24,
     "metadata": {},
     "output_type": "execute_result"
    }
   ],
   "source": [
    "\n",
    "# examining price & sales year\n",
    "# half the sales <50k, take place in 95 and 96\n",
    "# 28k since 98, 14k since 99, 36 since 2000\n",
    "\n",
    "tmp=df[(df['price']<=50_000) & (df['year']> 2000)]\n",
    "len(tmp)"
   ]
  },
  {
   "cell_type": "markdown",
   "metadata": {},
   "source": [
    "## Exploring postcodes"
   ]
  },
  {
   "cell_type": "code",
   "execution_count": 26,
   "metadata": {},
   "outputs": [
    {
     "data": {
      "text/plain": [
       "2998"
      ]
     },
     "execution_count": 26,
     "metadata": {},
     "output_type": "execute_result"
    }
   ],
   "source": [
    "# postcodes with NAN value\n",
    "df.postcode.isnull().sum()"
   ]
  },
  {
   "cell_type": "code",
   "execution_count": 35,
   "metadata": {},
   "outputs": [
    {
     "data": {
      "text/html": [
       "<div>\n",
       "<style scoped>\n",
       "    .dataframe tbody tr th:only-of-type {\n",
       "        vertical-align: middle;\n",
       "    }\n",
       "\n",
       "    .dataframe tbody tr th {\n",
       "        vertical-align: top;\n",
       "    }\n",
       "\n",
       "    .dataframe thead th {\n",
       "        text-align: right;\n",
       "    }\n",
       "</style>\n",
       "<table border=\"1\" class=\"dataframe\">\n",
       "  <thead>\n",
       "    <tr style=\"text-align: right;\">\n",
       "      <th></th>\n",
       "      <th>price</th>\n",
       "      <th>date</th>\n",
       "      <th>postcode</th>\n",
       "      <th>property_type</th>\n",
       "      <th>property_age</th>\n",
       "      <th>ground</th>\n",
       "      <th>street</th>\n",
       "      <th>borough</th>\n",
       "      <th>year</th>\n",
       "      <th>month</th>\n",
       "      <th>day</th>\n",
       "      <th>full_property_number</th>\n",
       "    </tr>\n",
       "  </thead>\n",
       "  <tbody>\n",
       "    <tr>\n",
       "      <th>2355</th>\n",
       "      <td>89000</td>\n",
       "      <td>95-08-04 00:00</td>\n",
       "      <td>NaN</td>\n",
       "      <td>F</td>\n",
       "      <td>N</td>\n",
       "      <td>L</td>\n",
       "      <td>CLAVERTON STREET</td>\n",
       "      <td>CITY OF WESTMINSTER</td>\n",
       "      <td>1995</td>\n",
       "      <td>8</td>\n",
       "      <td>4</td>\n",
       "      <td>38FIRST FLOOR FLAT</td>\n",
       "    </tr>\n",
       "    <tr>\n",
       "      <th>2772</th>\n",
       "      <td>71500</td>\n",
       "      <td>95-06-23 00:00</td>\n",
       "      <td>NaN</td>\n",
       "      <td>F</td>\n",
       "      <td>N</td>\n",
       "      <td>L</td>\n",
       "      <td>FOYLE ROAD</td>\n",
       "      <td>GREENWICH</td>\n",
       "      <td>1995</td>\n",
       "      <td>6</td>\n",
       "      <td>23</td>\n",
       "      <td>46FLAT 1</td>\n",
       "    </tr>\n",
       "    <tr>\n",
       "      <th>3599</th>\n",
       "      <td>72500</td>\n",
       "      <td>95-05-24 00:00</td>\n",
       "      <td>NaN</td>\n",
       "      <td>F</td>\n",
       "      <td>N</td>\n",
       "      <td>L</td>\n",
       "      <td>PLOUGH MEWS</td>\n",
       "      <td>WANDSWORTH</td>\n",
       "      <td>1995</td>\n",
       "      <td>5</td>\n",
       "      <td>24</td>\n",
       "      <td>8A</td>\n",
       "    </tr>\n",
       "    <tr>\n",
       "      <th>3973</th>\n",
       "      <td>88000</td>\n",
       "      <td>95-09-08 00:00</td>\n",
       "      <td>NaN</td>\n",
       "      <td>F</td>\n",
       "      <td>N</td>\n",
       "      <td>L</td>\n",
       "      <td>MONNERY ROAD</td>\n",
       "      <td>ISLINGTON</td>\n",
       "      <td>1995</td>\n",
       "      <td>9</td>\n",
       "      <td>8</td>\n",
       "      <td>7SECOND AND THIRD FLOOR FLAT</td>\n",
       "    </tr>\n",
       "    <tr>\n",
       "      <th>4028</th>\n",
       "      <td>165000</td>\n",
       "      <td>95-11-15 00:00</td>\n",
       "      <td>NaN</td>\n",
       "      <td>F</td>\n",
       "      <td>N</td>\n",
       "      <td>L</td>\n",
       "      <td>CHARLWOOD STREET</td>\n",
       "      <td>CITY OF WESTMINSTER</td>\n",
       "      <td>1995</td>\n",
       "      <td>11</td>\n",
       "      <td>15</td>\n",
       "      <td>27UNIT 3</td>\n",
       "    </tr>\n",
       "    <tr>\n",
       "      <th>...</th>\n",
       "      <td>...</td>\n",
       "      <td>...</td>\n",
       "      <td>...</td>\n",
       "      <td>...</td>\n",
       "      <td>...</td>\n",
       "      <td>...</td>\n",
       "      <td>...</td>\n",
       "      <td>...</td>\n",
       "      <td>...</td>\n",
       "      <td>...</td>\n",
       "      <td>...</td>\n",
       "      <td>...</td>\n",
       "    </tr>\n",
       "    <tr>\n",
       "      <th>3593914</th>\n",
       "      <td>2996000</td>\n",
       "      <td>22-10-31 00:00</td>\n",
       "      <td>NaN</td>\n",
       "      <td>D</td>\n",
       "      <td>N</td>\n",
       "      <td>F</td>\n",
       "      <td>GOLDHAWK ROAD</td>\n",
       "      <td>HAMMERSMITH AND FULHAM</td>\n",
       "      <td>2022</td>\n",
       "      <td>10</td>\n",
       "      <td>31</td>\n",
       "      <td>298</td>\n",
       "    </tr>\n",
       "    <tr>\n",
       "      <th>3599218</th>\n",
       "      <td>335000</td>\n",
       "      <td>22-11-21 00:00</td>\n",
       "      <td>NaN</td>\n",
       "      <td>F</td>\n",
       "      <td>N</td>\n",
       "      <td>L</td>\n",
       "      <td>LEADEN HILL</td>\n",
       "      <td>CROYDON</td>\n",
       "      <td>2022</td>\n",
       "      <td>11</td>\n",
       "      <td>21</td>\n",
       "      <td>WYNNE HOUSEFLAT 13</td>\n",
       "    </tr>\n",
       "    <tr>\n",
       "      <th>3603969</th>\n",
       "      <td>520000</td>\n",
       "      <td>22-12-02 00:00</td>\n",
       "      <td>NaN</td>\n",
       "      <td>F</td>\n",
       "      <td>N</td>\n",
       "      <td>L</td>\n",
       "      <td>LEA BRIDGE ROAD</td>\n",
       "      <td>WALTHAM FOREST</td>\n",
       "      <td>2022</td>\n",
       "      <td>12</td>\n",
       "      <td>2</td>\n",
       "      <td>FREYA COURT, 16211</td>\n",
       "    </tr>\n",
       "    <tr>\n",
       "      <th>3605261</th>\n",
       "      <td>308000</td>\n",
       "      <td>22-09-21 00:00</td>\n",
       "      <td>NaN</td>\n",
       "      <td>F</td>\n",
       "      <td>N</td>\n",
       "      <td>L</td>\n",
       "      <td>HERMON HILL</td>\n",
       "      <td>REDBRIDGE</td>\n",
       "      <td>2022</td>\n",
       "      <td>9</td>\n",
       "      <td>21</td>\n",
       "      <td>4FLAT</td>\n",
       "    </tr>\n",
       "    <tr>\n",
       "      <th>3612408</th>\n",
       "      <td>450000</td>\n",
       "      <td>23-02-17 00:00</td>\n",
       "      <td>NaN</td>\n",
       "      <td>F</td>\n",
       "      <td>N</td>\n",
       "      <td>L</td>\n",
       "      <td>LEA BRIDGE ROAD</td>\n",
       "      <td>WALTHAM FOREST</td>\n",
       "      <td>2023</td>\n",
       "      <td>2</td>\n",
       "      <td>17</td>\n",
       "      <td>FREYA COURT, 1627</td>\n",
       "    </tr>\n",
       "  </tbody>\n",
       "</table>\n",
       "<p>2998 rows × 12 columns</p>\n",
       "</div>"
      ],
      "text/plain": [
       "           price            date postcode property_type property_age ground  \\\n",
       "2355       89000  95-08-04 00:00      NaN             F            N      L   \n",
       "2772       71500  95-06-23 00:00      NaN             F            N      L   \n",
       "3599       72500  95-05-24 00:00      NaN             F            N      L   \n",
       "3973       88000  95-09-08 00:00      NaN             F            N      L   \n",
       "4028      165000  95-11-15 00:00      NaN             F            N      L   \n",
       "...          ...             ...      ...           ...          ...    ...   \n",
       "3593914  2996000  22-10-31 00:00      NaN             D            N      F   \n",
       "3599218   335000  22-11-21 00:00      NaN             F            N      L   \n",
       "3603969   520000  22-12-02 00:00      NaN             F            N      L   \n",
       "3605261   308000  22-09-21 00:00      NaN             F            N      L   \n",
       "3612408   450000  23-02-17 00:00      NaN             F            N      L   \n",
       "\n",
       "                   street                 borough  year  month  day  \\\n",
       "2355     CLAVERTON STREET     CITY OF WESTMINSTER  1995      8    4   \n",
       "2772           FOYLE ROAD               GREENWICH  1995      6   23   \n",
       "3599          PLOUGH MEWS              WANDSWORTH  1995      5   24   \n",
       "3973         MONNERY ROAD               ISLINGTON  1995      9    8   \n",
       "4028     CHARLWOOD STREET     CITY OF WESTMINSTER  1995     11   15   \n",
       "...                   ...                     ...   ...    ...  ...   \n",
       "3593914     GOLDHAWK ROAD  HAMMERSMITH AND FULHAM  2022     10   31   \n",
       "3599218       LEADEN HILL                 CROYDON  2022     11   21   \n",
       "3603969   LEA BRIDGE ROAD          WALTHAM FOREST  2022     12    2   \n",
       "3605261       HERMON HILL               REDBRIDGE  2022      9   21   \n",
       "3612408   LEA BRIDGE ROAD          WALTHAM FOREST  2023      2   17   \n",
       "\n",
       "                 full_property_number  \n",
       "2355               38FIRST FLOOR FLAT  \n",
       "2772                         46FLAT 1  \n",
       "3599                               8A  \n",
       "3973     7SECOND AND THIRD FLOOR FLAT  \n",
       "4028                         27UNIT 3  \n",
       "...                               ...  \n",
       "3593914                           298  \n",
       "3599218            WYNNE HOUSEFLAT 13  \n",
       "3603969            FREYA COURT, 16211  \n",
       "3605261                         4FLAT  \n",
       "3612408             FREYA COURT, 1627  \n",
       "\n",
       "[2998 rows x 12 columns]"
      ]
     },
     "execution_count": 35,
     "metadata": {},
     "output_type": "execute_result"
    }
   ],
   "source": [
    "df[df['postcode'].isnull()==True]\n",
    "# same formula below\n",
    "#df[df['postcode'].isna()]"
   ]
  },
  {
   "cell_type": "code",
   "execution_count": 67,
   "metadata": {},
   "outputs": [
    {
     "data": {
      "text/plain": [
       "borough\n",
       "BARKING AND DAGENHAM      2589\n",
       "BARNET                    7330\n",
       "BEXLEY                    3853\n",
       "BRENT                     4753\n",
       "BROMLEY                   6277\n",
       "CAMDEN                    4231\n",
       "CITY OF LONDON             282\n",
       "CITY OF WESTMINSTER       5597\n",
       "CROYDON                   6122\n",
       "EALING                    5253\n",
       "ENFIELD                   5372\n",
       "GREENWICH                 4141\n",
       "HACKNEY                   3413\n",
       "HAMMERSMITH AND FULHAM    2840\n",
       "HARINGEY                  3671\n",
       "HARROW                    4305\n",
       "HAVERING                  4268\n",
       "HILLINGDON                5042\n",
       "HOUNSLOW                  3919\n",
       "ISLINGTON                 3459\n",
       "KENSINGTON AND CHELSEA    3281\n",
       "KINGSTON UPON THAMES      2916\n",
       "LAMBETH                   4945\n",
       "LEWISHAM                  4196\n",
       "MERTON                    3105\n",
       "NEWHAM                    3397\n",
       "REDBRIDGE                 4044\n",
       "RICHMOND UPON THAMES      3802\n",
       "SOUTHWARK                 4599\n",
       "SUTTON                    3397\n",
       "TOWER HAMLETS             3845\n",
       "WALTHAM FOREST            3160\n",
       "WANDSWORTH                5045\n",
       "Name: postcode, dtype: int64"
      ]
     },
     "execution_count": 67,
     "metadata": {},
     "output_type": "execute_result"
    }
   ],
   "source": [
    "# let's explore how many unique postcodes per borough typically\n",
    "\n",
    "df.groupby('borough').nunique()['postcode']"
   ]
  },
  {
   "cell_type": "code",
   "execution_count": 68,
   "metadata": {},
   "outputs": [
    {
     "data": {
      "text/plain": [
       "borough\n",
       "BARKING AND DAGENHAM       6\n",
       "BARNET                    18\n",
       "BEXLEY                     5\n",
       "BRENT                     10\n",
       "BROMLEY                    8\n",
       "CAMDEN                    12\n",
       "CITY OF LONDON             9\n",
       "CITY OF WESTMINSTER       11\n",
       "CROYDON                    9\n",
       "EALING                    16\n",
       "ENFIELD                   19\n",
       "GREENWICH                  8\n",
       "HACKNEY                   16\n",
       "HAMMERSMITH AND FULHAM     9\n",
       "HARINGEY                  21\n",
       "HARROW                    10\n",
       "HAVERING                  10\n",
       "HILLINGDON                18\n",
       "HOUNSLOW                  19\n",
       "ISLINGTON                 14\n",
       "KENSINGTON AND CHELSEA     7\n",
       "KINGSTON UPON THAMES       7\n",
       "LAMBETH                    6\n",
       "LEWISHAM                   6\n",
       "MERTON                     6\n",
       "NEWHAM                     9\n",
       "REDBRIDGE                 10\n",
       "RICHMOND UPON THAMES       4\n",
       "SOUTHWARK                  6\n",
       "SUTTON                     9\n",
       "TOWER HAMLETS             12\n",
       "WALTHAM FOREST            14\n",
       "WANDSWORTH                 5\n",
       "Name: short2_pc, dtype: int64"
      ]
     },
     "execution_count": 68,
     "metadata": {},
     "output_type": "execute_result"
    }
   ],
   "source": [
    "# explore shortened postcodes\n",
    "# could use this to assign a 2n short postcode to Nan values based on borough\n",
    "df.groupby('borough').nunique()['short2_pc']"
   ]
  },
  {
   "cell_type": "code",
   "execution_count": 69,
   "metadata": {},
   "outputs": [
    {
     "data": {
      "text/plain": [
       "borough\n",
       "BARKING AND DAGENHAM      21\n",
       "BARNET                    46\n",
       "BEXLEY                    17\n",
       "BRENT                     24\n",
       "BROMLEY                   21\n",
       "CAMDEN                    30\n",
       "CITY OF LONDON            13\n",
       "CITY OF WESTMINSTER       39\n",
       "CROYDON                   26\n",
       "EALING                    40\n",
       "ENFIELD                   45\n",
       "GREENWICH                 16\n",
       "HACKNEY                   24\n",
       "HAMMERSMITH AND FULHAM    16\n",
       "HARINGEY                  47\n",
       "HARROW                    29\n",
       "HAVERING                  24\n",
       "HILLINGDON                43\n",
       "HOUNSLOW                  39\n",
       "ISLINGTON                 19\n",
       "KENSINGTON AND CHELSEA    14\n",
       "KINGSTON UPON THAMES      19\n",
       "LAMBETH                   12\n",
       "LEWISHAM                  16\n",
       "MERTON                    11\n",
       "NEWHAM                    23\n",
       "REDBRIDGE                 30\n",
       "RICHMOND UPON THAMES      16\n",
       "SOUTHWARK                 13\n",
       "SUTTON                    27\n",
       "TOWER HAMLETS             18\n",
       "WALTHAM FOREST            28\n",
       "WANDSWORTH                12\n",
       "Name: short3_pc, dtype: int64"
      ]
     },
     "execution_count": 69,
     "metadata": {},
     "output_type": "execute_result"
    }
   ],
   "source": [
    "# explore shortened postcodes\n",
    "df.groupby('borough').nunique()['short3_pc']"
   ]
  },
  {
   "cell_type": "markdown",
   "metadata": {},
   "source": [
    "## Exploring sampled data"
   ]
  },
  {
   "cell_type": "code",
   "execution_count": 127,
   "metadata": {},
   "outputs": [],
   "source": [
    "file='../raw_data/london_real_estate_data.zip'\n",
    "df_sample=pd.read_csv(file,\n",
    "                compression='zip',\n",
    "                dtype={'price': np.int32,'day':np.int16, 'month':np.int16,'year':np.int16}).sample(350_000,random_state=42)"
   ]
  },
  {
   "cell_type": "code",
   "execution_count": 24,
   "metadata": {},
   "outputs": [],
   "source": [
    "df_sample=tidy_df(df_sample)"
   ]
  },
  {
   "cell_type": "code",
   "execution_count": 25,
   "metadata": {},
   "outputs": [],
   "source": [
    "df_sample=df_sample.sort_values(by='date', ascending=True)"
   ]
  },
  {
   "cell_type": "code",
   "execution_count": 101,
   "metadata": {},
   "outputs": [],
   "source": [
    "# QUESTION: shows yearly mean (!) sales and confidence interval per borough. \n",
    "\n",
    "# sn.lineplot(x='year', y='price', hue='borough', data=df_sample)"
   ]
  },
  {
   "cell_type": "code",
   "execution_count": 102,
   "metadata": {},
   "outputs": [],
   "source": [
    "# shows yearly avg sales per month\n",
    "# sn.lineplot(x='year', y='price', style='month', data=df_sample, legend='full')\n",
    "# plt.set_ylim(1000,10_000)"
   ]
  },
  {
   "cell_type": "code",
   "execution_count": 74,
   "metadata": {},
   "outputs": [
    {
     "data": {
      "text/plain": [
       "<seaborn.axisgrid.FacetGrid at 0x14f456020>"
      ]
     },
     "execution_count": 74,
     "metadata": {},
     "output_type": "execute_result"
    },
    {
     "data": {
      "image/png": "[encoded data removed]",
      "text/plain": [
       "<Figure size 1753x500 with 3 Axes>"
      ]
     },
     "metadata": {},
     "output_type": "display_data"
    }
   ],
   "source": [
    "sn.relplot(\n",
    "    data=df_sample, x=\"year\", y=\"price\",\n",
    "    col=\"ground\", style=\"borough\",\n",
    "    kind=\"line\"\n",
    ")"
   ]
  },
  {
   "cell_type": "code",
   "execution_count": 57,
   "metadata": {},
   "outputs": [
    {
     "data": {
      "text/plain": [
       "<Axes: >"
      ]
     },
     "execution_count": 57,
     "metadata": {},
     "output_type": "execute_result"
    },
    {
     "data": {
      "image/png": "[encoded data removed]",
      "text/plain": [
       "<Figure size 640x480 with 1 Axes>"
      ]
     },
     "metadata": {},
     "output_type": "display_data"
    }
   ],
   "source": [
    "sn.boxplot(df_sample)"
   ]
  },
  {
   "cell_type": "markdown",
   "metadata": {
    "jp-MarkdownHeadingCollapsed": true
   },
   "source": [
    "## Inspecting price outliers"
   ]
  },
  {
   "cell_type": "code",
   "execution_count": 67,
   "metadata": {},
   "outputs": [
    {
     "data": {
      "text/html": [
       "<div>\n",
       "<style scoped>\n",
       "    .dataframe tbody tr th:only-of-type {\n",
       "        vertical-align: middle;\n",
       "    }\n",
       "\n",
       "    .dataframe tbody tr th {\n",
       "        vertical-align: top;\n",
       "    }\n",
       "\n",
       "    .dataframe thead th {\n",
       "        text-align: right;\n",
       "    }\n",
       "</style>\n",
       "<table border=\"1\" class=\"dataframe\">\n",
       "  <thead>\n",
       "    <tr style=\"text-align: right;\">\n",
       "      <th></th>\n",
       "      <th>price</th>\n",
       "      <th>date</th>\n",
       "      <th>postcode</th>\n",
       "      <th>property_type</th>\n",
       "      <th>property_age</th>\n",
       "      <th>ground</th>\n",
       "      <th>street</th>\n",
       "      <th>borough</th>\n",
       "      <th>year</th>\n",
       "      <th>month</th>\n",
       "      <th>day</th>\n",
       "      <th>full_property_number</th>\n",
       "    </tr>\n",
       "  </thead>\n",
       "  <tbody>\n",
       "    <tr>\n",
       "      <th>2707081</th>\n",
       "      <td>1000</td>\n",
       "      <td>15-03-24 00:00</td>\n",
       "      <td>E7 0DR</td>\n",
       "      <td>T</td>\n",
       "      <td>N</td>\n",
       "      <td>F</td>\n",
       "      <td>DAMES ROAD</td>\n",
       "      <td>NEWHAM</td>\n",
       "      <td>2015</td>\n",
       "      <td>3</td>\n",
       "      <td>24</td>\n",
       "      <td>57C - 57D</td>\n",
       "    </tr>\n",
       "    <tr>\n",
       "      <th>80287</th>\n",
       "      <td>600</td>\n",
       "      <td>95-01-27 00:00</td>\n",
       "      <td>SW6 2PF</td>\n",
       "      <td>T</td>\n",
       "      <td>N</td>\n",
       "      <td>F</td>\n",
       "      <td>STEPHENDALE ROAD</td>\n",
       "      <td>HAMMERSMITH AND FULHAM</td>\n",
       "      <td>1995</td>\n",
       "      <td>1</td>\n",
       "      <td>27</td>\n",
       "      <td>50</td>\n",
       "    </tr>\n",
       "    <tr>\n",
       "      <th>79451</th>\n",
       "      <td>100</td>\n",
       "      <td>95-01-31 00:00</td>\n",
       "      <td>SM3 9TR</td>\n",
       "      <td>T</td>\n",
       "      <td>N</td>\n",
       "      <td>F</td>\n",
       "      <td>BUXTON CRESCENT</td>\n",
       "      <td>SUTTON</td>\n",
       "      <td>1995</td>\n",
       "      <td>1</td>\n",
       "      <td>31</td>\n",
       "      <td>77</td>\n",
       "    </tr>\n",
       "    <tr>\n",
       "      <th>102657</th>\n",
       "      <td>480</td>\n",
       "      <td>95-04-01 00:00</td>\n",
       "      <td>SW12 0BN</td>\n",
       "      <td>T</td>\n",
       "      <td>N</td>\n",
       "      <td>F</td>\n",
       "      <td>CAVENDISH ROAD</td>\n",
       "      <td>LAMBETH</td>\n",
       "      <td>1995</td>\n",
       "      <td>4</td>\n",
       "      <td>1</td>\n",
       "      <td>117</td>\n",
       "    </tr>\n",
       "    <tr>\n",
       "      <th>66252</th>\n",
       "      <td>300</td>\n",
       "      <td>95-04-18 00:00</td>\n",
       "      <td>SE23 3TQ</td>\n",
       "      <td>S</td>\n",
       "      <td>N</td>\n",
       "      <td>F</td>\n",
       "      <td>DEVONSHIRE ROAD</td>\n",
       "      <td>LEWISHAM</td>\n",
       "      <td>1995</td>\n",
       "      <td>4</td>\n",
       "      <td>18</td>\n",
       "      <td>214A</td>\n",
       "    </tr>\n",
       "    <tr>\n",
       "      <th>104891</th>\n",
       "      <td>800</td>\n",
       "      <td>95-06-15 00:00</td>\n",
       "      <td>HA1 1RY</td>\n",
       "      <td>T</td>\n",
       "      <td>N</td>\n",
       "      <td>F</td>\n",
       "      <td>RADNOR ROAD</td>\n",
       "      <td>HARROW</td>\n",
       "      <td>1995</td>\n",
       "      <td>6</td>\n",
       "      <td>15</td>\n",
       "      <td>3</td>\n",
       "    </tr>\n",
       "    <tr>\n",
       "      <th>95479</th>\n",
       "      <td>450</td>\n",
       "      <td>95-08-11 00:00</td>\n",
       "      <td>W12 9BY</td>\n",
       "      <td>T</td>\n",
       "      <td>N</td>\n",
       "      <td>F</td>\n",
       "      <td>GAYFORD ROAD</td>\n",
       "      <td>HAMMERSMITH AND FULHAM</td>\n",
       "      <td>1995</td>\n",
       "      <td>8</td>\n",
       "      <td>11</td>\n",
       "      <td>77</td>\n",
       "    </tr>\n",
       "    <tr>\n",
       "      <th>103955</th>\n",
       "      <td>1000</td>\n",
       "      <td>95-08-31 00:00</td>\n",
       "      <td>KT2 6BP</td>\n",
       "      <td>S</td>\n",
       "      <td>N</td>\n",
       "      <td>F</td>\n",
       "      <td>AUDRIC CLOSE</td>\n",
       "      <td>KINGSTON UPON THAMES</td>\n",
       "      <td>1995</td>\n",
       "      <td>8</td>\n",
       "      <td>31</td>\n",
       "      <td>32</td>\n",
       "    </tr>\n",
       "    <tr>\n",
       "      <th>78933</th>\n",
       "      <td>750</td>\n",
       "      <td>95-10-11 00:00</td>\n",
       "      <td>NW11 6HA</td>\n",
       "      <td>D</td>\n",
       "      <td>N</td>\n",
       "      <td>F</td>\n",
       "      <td>ERSKINE HILL</td>\n",
       "      <td>BARNET</td>\n",
       "      <td>1995</td>\n",
       "      <td>10</td>\n",
       "      <td>11</td>\n",
       "      <td>3</td>\n",
       "    </tr>\n",
       "    <tr>\n",
       "      <th>78106</th>\n",
       "      <td>500</td>\n",
       "      <td>95-11-06 00:00</td>\n",
       "      <td>SM4 4HX</td>\n",
       "      <td>T</td>\n",
       "      <td>N</td>\n",
       "      <td>F</td>\n",
       "      <td>GREENWOOD CLOSE</td>\n",
       "      <td>MERTON</td>\n",
       "      <td>1995</td>\n",
       "      <td>11</td>\n",
       "      <td>6</td>\n",
       "      <td>20</td>\n",
       "    </tr>\n",
       "    <tr>\n",
       "      <th>67535</th>\n",
       "      <td>900</td>\n",
       "      <td>95-12-01 00:00</td>\n",
       "      <td>W11 1NT</td>\n",
       "      <td>T</td>\n",
       "      <td>N</td>\n",
       "      <td>F</td>\n",
       "      <td>ST MARKS PLACE</td>\n",
       "      <td>KENSINGTON AND CHELSEA</td>\n",
       "      <td>1995</td>\n",
       "      <td>12</td>\n",
       "      <td>1</td>\n",
       "      <td>11</td>\n",
       "    </tr>\n",
       "    <tr>\n",
       "      <th>63094</th>\n",
       "      <td>500</td>\n",
       "      <td>95-12-06 00:00</td>\n",
       "      <td>EN4 8TF</td>\n",
       "      <td>T</td>\n",
       "      <td>N</td>\n",
       "      <td>F</td>\n",
       "      <td>EAST BARNET ROAD</td>\n",
       "      <td>BARNET</td>\n",
       "      <td>1995</td>\n",
       "      <td>12</td>\n",
       "      <td>6</td>\n",
       "      <td>244D</td>\n",
       "    </tr>\n",
       "    <tr>\n",
       "      <th>146550</th>\n",
       "      <td>100</td>\n",
       "      <td>96-03-06 00:00</td>\n",
       "      <td>SE15 1AG</td>\n",
       "      <td>T</td>\n",
       "      <td>N</td>\n",
       "      <td>F</td>\n",
       "      <td>NUTCROFT ROAD</td>\n",
       "      <td>SOUTHWARK</td>\n",
       "      <td>1996</td>\n",
       "      <td>3</td>\n",
       "      <td>6</td>\n",
       "      <td>15</td>\n",
       "    </tr>\n",
       "    <tr>\n",
       "      <th>141594</th>\n",
       "      <td>900</td>\n",
       "      <td>96-03-07 00:00</td>\n",
       "      <td>W13 8DG</td>\n",
       "      <td>T</td>\n",
       "      <td>N</td>\n",
       "      <td>F</td>\n",
       "      <td>ROSEACRE CLOSE</td>\n",
       "      <td>EALING</td>\n",
       "      <td>1996</td>\n",
       "      <td>3</td>\n",
       "      <td>7</td>\n",
       "      <td>2</td>\n",
       "    </tr>\n",
       "    <tr>\n",
       "      <th>141602</th>\n",
       "      <td>900</td>\n",
       "      <td>96-03-07 00:00</td>\n",
       "      <td>W13 8DX</td>\n",
       "      <td>T</td>\n",
       "      <td>N</td>\n",
       "      <td>F</td>\n",
       "      <td>TEMPLEWOOD</td>\n",
       "      <td>EALING</td>\n",
       "      <td>1996</td>\n",
       "      <td>3</td>\n",
       "      <td>7</td>\n",
       "      <td>30</td>\n",
       "    </tr>\n",
       "    <tr>\n",
       "      <th>141608</th>\n",
       "      <td>900</td>\n",
       "      <td>96-03-07 00:00</td>\n",
       "      <td>W13 8EB</td>\n",
       "      <td>T</td>\n",
       "      <td>N</td>\n",
       "      <td>F</td>\n",
       "      <td>MALVERN WAY</td>\n",
       "      <td>EALING</td>\n",
       "      <td>1996</td>\n",
       "      <td>3</td>\n",
       "      <td>7</td>\n",
       "      <td>6</td>\n",
       "    </tr>\n",
       "    <tr>\n",
       "      <th>143170</th>\n",
       "      <td>1000</td>\n",
       "      <td>96-03-11 00:00</td>\n",
       "      <td>SW6 6AH</td>\n",
       "      <td>T</td>\n",
       "      <td>N</td>\n",
       "      <td>F</td>\n",
       "      <td>MABLETHORPE ROAD</td>\n",
       "      <td>HAMMERSMITH AND FULHAM</td>\n",
       "      <td>1996</td>\n",
       "      <td>3</td>\n",
       "      <td>11</td>\n",
       "      <td>8</td>\n",
       "    </tr>\n",
       "    <tr>\n",
       "      <th>149972</th>\n",
       "      <td>350</td>\n",
       "      <td>96-04-02 00:00</td>\n",
       "      <td>CR7 8RB</td>\n",
       "      <td>T</td>\n",
       "      <td>N</td>\n",
       "      <td>F</td>\n",
       "      <td>COTFORD ROAD</td>\n",
       "      <td>CROYDON</td>\n",
       "      <td>1996</td>\n",
       "      <td>4</td>\n",
       "      <td>2</td>\n",
       "      <td>12</td>\n",
       "    </tr>\n",
       "    <tr>\n",
       "      <th>142449</th>\n",
       "      <td>100</td>\n",
       "      <td>96-04-16 00:00</td>\n",
       "      <td>SW14 7LY</td>\n",
       "      <td>F</td>\n",
       "      <td>N</td>\n",
       "      <td>F</td>\n",
       "      <td>ST LEONARDS ROAD</td>\n",
       "      <td>RICHMOND UPON THAMES</td>\n",
       "      <td>1996</td>\n",
       "      <td>4</td>\n",
       "      <td>16</td>\n",
       "      <td>23</td>\n",
       "    </tr>\n",
       "    <tr>\n",
       "      <th>109218</th>\n",
       "      <td>750</td>\n",
       "      <td>96-05-31 00:00</td>\n",
       "      <td>SM4 4HE</td>\n",
       "      <td>T</td>\n",
       "      <td>N</td>\n",
       "      <td>F</td>\n",
       "      <td>NORTHWAY</td>\n",
       "      <td>MERTON</td>\n",
       "      <td>1996</td>\n",
       "      <td>5</td>\n",
       "      <td>31</td>\n",
       "      <td>27</td>\n",
       "    </tr>\n",
       "    <tr>\n",
       "      <th>140252</th>\n",
       "      <td>800</td>\n",
       "      <td>96-06-26 00:00</td>\n",
       "      <td>IG3 9YD</td>\n",
       "      <td>T</td>\n",
       "      <td>N</td>\n",
       "      <td>F</td>\n",
       "      <td>GUILDFORD ROAD</td>\n",
       "      <td>REDBRIDGE</td>\n",
       "      <td>1996</td>\n",
       "      <td>6</td>\n",
       "      <td>26</td>\n",
       "      <td>69</td>\n",
       "    </tr>\n",
       "    <tr>\n",
       "      <th>120946</th>\n",
       "      <td>1000</td>\n",
       "      <td>96-06-28 00:00</td>\n",
       "      <td>SW6 6RE</td>\n",
       "      <td>T</td>\n",
       "      <td>N</td>\n",
       "      <td>F</td>\n",
       "      <td>WARDO AVENUE</td>\n",
       "      <td>HAMMERSMITH AND FULHAM</td>\n",
       "      <td>1996</td>\n",
       "      <td>6</td>\n",
       "      <td>28</td>\n",
       "      <td>50A</td>\n",
       "    </tr>\n",
       "    <tr>\n",
       "      <th>121771</th>\n",
       "      <td>100</td>\n",
       "      <td>96-11-07 00:00</td>\n",
       "      <td>SW6 6RE</td>\n",
       "      <td>F</td>\n",
       "      <td>N</td>\n",
       "      <td>F</td>\n",
       "      <td>WARDO AVENUE</td>\n",
       "      <td>HAMMERSMITH AND FULHAM</td>\n",
       "      <td>1996</td>\n",
       "      <td>11</td>\n",
       "      <td>7</td>\n",
       "      <td>28</td>\n",
       "    </tr>\n",
       "    <tr>\n",
       "      <th>130252</th>\n",
       "      <td>1000</td>\n",
       "      <td>96-11-12 00:00</td>\n",
       "      <td>N7 6DH</td>\n",
       "      <td>T</td>\n",
       "      <td>N</td>\n",
       "      <td>F</td>\n",
       "      <td>CAEDMON ROAD</td>\n",
       "      <td>ISLINGTON</td>\n",
       "      <td>1996</td>\n",
       "      <td>11</td>\n",
       "      <td>12</td>\n",
       "      <td>4</td>\n",
       "    </tr>\n",
       "    <tr>\n",
       "      <th>121660</th>\n",
       "      <td>200</td>\n",
       "      <td>96-11-19 00:00</td>\n",
       "      <td>CR4 3AY</td>\n",
       "      <td>T</td>\n",
       "      <td>N</td>\n",
       "      <td>F</td>\n",
       "      <td>DE'ARN GARDENS</td>\n",
       "      <td>MERTON</td>\n",
       "      <td>1996</td>\n",
       "      <td>11</td>\n",
       "      <td>19</td>\n",
       "      <td>68</td>\n",
       "    </tr>\n",
       "    <tr>\n",
       "      <th>378633</th>\n",
       "      <td>750</td>\n",
       "      <td>97-05-01 00:00</td>\n",
       "      <td>CR7 8NQ</td>\n",
       "      <td>F</td>\n",
       "      <td>N</td>\n",
       "      <td>F</td>\n",
       "      <td>MERSHAM ROAD</td>\n",
       "      <td>CROYDON</td>\n",
       "      <td>1997</td>\n",
       "      <td>5</td>\n",
       "      <td>1</td>\n",
       "      <td>164</td>\n",
       "    </tr>\n",
       "    <tr>\n",
       "      <th>511410</th>\n",
       "      <td>500</td>\n",
       "      <td>98-07-30 00:00</td>\n",
       "      <td>SW11 1QS</td>\n",
       "      <td>F</td>\n",
       "      <td>N</td>\n",
       "      <td>F</td>\n",
       "      <td>BARNARD ROAD</td>\n",
       "      <td>WANDSWORTH</td>\n",
       "      <td>1998</td>\n",
       "      <td>7</td>\n",
       "      <td>30</td>\n",
       "      <td>20</td>\n",
       "    </tr>\n",
       "    <tr>\n",
       "      <th>499959</th>\n",
       "      <td>1000</td>\n",
       "      <td>98-08-28 00:00</td>\n",
       "      <td>W5 4BB</td>\n",
       "      <td>T</td>\n",
       "      <td>N</td>\n",
       "      <td>F</td>\n",
       "      <td>DARWIN ROAD</td>\n",
       "      <td>EALING</td>\n",
       "      <td>1998</td>\n",
       "      <td>8</td>\n",
       "      <td>28</td>\n",
       "      <td>131</td>\n",
       "    </tr>\n",
       "  </tbody>\n",
       "</table>\n",
       "</div>"
      ],
      "text/plain": [
       "         price            date  postcode property_type property_age ground  \\\n",
       "2707081   1000  15-03-24 00:00    E7 0DR             T            N      F   \n",
       "80287      600  95-01-27 00:00   SW6 2PF             T            N      F   \n",
       "79451      100  95-01-31 00:00   SM3 9TR             T            N      F   \n",
       "102657     480  95-04-01 00:00  SW12 0BN             T            N      F   \n",
       "66252      300  95-04-18 00:00  SE23 3TQ             S            N      F   \n",
       "104891     800  95-06-15 00:00   HA1 1RY             T            N      F   \n",
       "95479      450  95-08-11 00:00   W12 9BY             T            N      F   \n",
       "103955    1000  95-08-31 00:00   KT2 6BP             S            N      F   \n",
       "78933      750  95-10-11 00:00  NW11 6HA             D            N      F   \n",
       "78106      500  95-11-06 00:00   SM4 4HX             T            N      F   \n",
       "67535      900  95-12-01 00:00   W11 1NT             T            N      F   \n",
       "63094      500  95-12-06 00:00   EN4 8TF             T            N      F   \n",
       "146550     100  96-03-06 00:00  SE15 1AG             T            N      F   \n",
       "141594     900  96-03-07 00:00   W13 8DG             T            N      F   \n",
       "141602     900  96-03-07 00:00   W13 8DX             T            N      F   \n",
       "141608     900  96-03-07 00:00   W13 8EB             T            N      F   \n",
       "143170    1000  96-03-11 00:00   SW6 6AH             T            N      F   \n",
       "149972     350  96-04-02 00:00   CR7 8RB             T            N      F   \n",
       "142449     100  96-04-16 00:00  SW14 7LY             F            N      F   \n",
       "109218     750  96-05-31 00:00   SM4 4HE             T            N      F   \n",
       "140252     800  96-06-26 00:00   IG3 9YD             T            N      F   \n",
       "120946    1000  96-06-28 00:00   SW6 6RE             T            N      F   \n",
       "121771     100  96-11-07 00:00   SW6 6RE             F            N      F   \n",
       "130252    1000  96-11-12 00:00    N7 6DH             T            N      F   \n",
       "121660     200  96-11-19 00:00   CR4 3AY             T            N      F   \n",
       "378633     750  97-05-01 00:00   CR7 8NQ             F            N      F   \n",
       "511410     500  98-07-30 00:00  SW11 1QS             F            N      F   \n",
       "499959    1000  98-08-28 00:00    W5 4BB             T            N      F   \n",
       "\n",
       "                   street                 borough  year  month  day  \\\n",
       "2707081        DAMES ROAD                  NEWHAM  2015      3   24   \n",
       "80287    STEPHENDALE ROAD  HAMMERSMITH AND FULHAM  1995      1   27   \n",
       "79451     BUXTON CRESCENT                  SUTTON  1995      1   31   \n",
       "102657     CAVENDISH ROAD                 LAMBETH  1995      4    1   \n",
       "66252     DEVONSHIRE ROAD                LEWISHAM  1995      4   18   \n",
       "104891        RADNOR ROAD                  HARROW  1995      6   15   \n",
       "95479        GAYFORD ROAD  HAMMERSMITH AND FULHAM  1995      8   11   \n",
       "103955       AUDRIC CLOSE    KINGSTON UPON THAMES  1995      8   31   \n",
       "78933        ERSKINE HILL                  BARNET  1995     10   11   \n",
       "78106     GREENWOOD CLOSE                  MERTON  1995     11    6   \n",
       "67535      ST MARKS PLACE  KENSINGTON AND CHELSEA  1995     12    1   \n",
       "63094    EAST BARNET ROAD                  BARNET  1995     12    6   \n",
       "146550      NUTCROFT ROAD               SOUTHWARK  1996      3    6   \n",
       "141594     ROSEACRE CLOSE                  EALING  1996      3    7   \n",
       "141602         TEMPLEWOOD                  EALING  1996      3    7   \n",
       "141608        MALVERN WAY                  EALING  1996      3    7   \n",
       "143170   MABLETHORPE ROAD  HAMMERSMITH AND FULHAM  1996      3   11   \n",
       "149972       COTFORD ROAD                 CROYDON  1996      4    2   \n",
       "142449   ST LEONARDS ROAD    RICHMOND UPON THAMES  1996      4   16   \n",
       "109218           NORTHWAY                  MERTON  1996      5   31   \n",
       "140252     GUILDFORD ROAD               REDBRIDGE  1996      6   26   \n",
       "120946       WARDO AVENUE  HAMMERSMITH AND FULHAM  1996      6   28   \n",
       "121771       WARDO AVENUE  HAMMERSMITH AND FULHAM  1996     11    7   \n",
       "130252       CAEDMON ROAD               ISLINGTON  1996     11   12   \n",
       "121660     DE'ARN GARDENS                  MERTON  1996     11   19   \n",
       "378633       MERSHAM ROAD                 CROYDON  1997      5    1   \n",
       "511410       BARNARD ROAD              WANDSWORTH  1998      7   30   \n",
       "499959        DARWIN ROAD                  EALING  1998      8   28   \n",
       "\n",
       "        full_property_number  \n",
       "2707081            57C - 57D  \n",
       "80287                     50  \n",
       "79451                     77  \n",
       "102657                   117  \n",
       "66252                   214A  \n",
       "104891                     3  \n",
       "95479                     77  \n",
       "103955                    32  \n",
       "78933                      3  \n",
       "78106                     20  \n",
       "67535                     11  \n",
       "63094                   244D  \n",
       "146550                    15  \n",
       "141594                     2  \n",
       "141602                    30  \n",
       "141608                     6  \n",
       "143170                     8  \n",
       "149972                    12  \n",
       "142449                    23  \n",
       "109218                    27  \n",
       "140252                    69  \n",
       "120946                   50A  \n",
       "121771                    28  \n",
       "130252                     4  \n",
       "121660                    68  \n",
       "378633                   164  \n",
       "511410                    20  \n",
       "499959                   131  "
      ]
     },
     "execution_count": 67,
     "metadata": {},
     "output_type": "execute_result"
    }
   ],
   "source": [
    "# If not using timeline but RNN to predict, better to NOT use house prices before 2008?\n",
    "\n",
    "# Other \"O\" being mainly garages... or old sales prices\n",
    "\n",
    "df_sample[(df_sample['price']<=1000) & (df_sample['property_type']!='O')]"
   ]
  },
  {
   "cell_type": "code",
   "execution_count": 33,
   "metadata": {
    "scrolled": true
   },
   "outputs": [
    {
     "data": {
      "text/plain": [
       "<seaborn.axisgrid.FacetGrid at 0x138485960>"
      ]
     },
     "execution_count": 33,
     "metadata": {},
     "output_type": "execute_result"
    },
    {
     "data": {
      "image/png": "[encoded data removed]",
      "text/plain": [
       "<Figure size 500x500 with 1 Axes>"
      ]
     },
     "metadata": {},
     "output_type": "display_data"
    }
   ],
   "source": [
    "sn.displot(borough_table)"
   ]
  },
  {
   "cell_type": "code",
   "execution_count": 43,
   "metadata": {},
   "outputs": [
    {
     "ename": "TypeError",
     "evalue": "agg function failed [how->median,dtype->object]",
     "output_type": "error",
     "traceback": [
      "\u001b[0;31m---------------------------------------------------------------------------\u001b[0m",
      "\u001b[0;31mTypeError\u001b[0m                                 Traceback (most recent call last)",
      "File \u001b[0;32m~/.pyenv/versions/3.10.6/envs/re_value_predictor/lib/python3.10/site-packages/pandas/core/groupby/groupby.py:1942\u001b[0m, in \u001b[0;36mGroupBy._agg_py_fallback\u001b[0;34m(self, how, values, ndim, alt)\u001b[0m\n\u001b[1;32m   1941\u001b[0m \u001b[38;5;28;01mtry\u001b[39;00m:\n\u001b[0;32m-> 1942\u001b[0m     res_values \u001b[38;5;241m=\u001b[39m \u001b[38;5;28;43mself\u001b[39;49m\u001b[38;5;241;43m.\u001b[39;49m\u001b[43m_grouper\u001b[49m\u001b[38;5;241;43m.\u001b[39;49m\u001b[43magg_series\u001b[49m\u001b[43m(\u001b[49m\u001b[43mser\u001b[49m\u001b[43m,\u001b[49m\u001b[43m \u001b[49m\u001b[43malt\u001b[49m\u001b[43m,\u001b[49m\u001b[43m \u001b[49m\u001b[43mpreserve_dtype\u001b[49m\u001b[38;5;241;43m=\u001b[39;49m\u001b[38;5;28;43;01mTrue\u001b[39;49;00m\u001b[43m)\u001b[49m\n\u001b[1;32m   1943\u001b[0m \u001b[38;5;28;01mexcept\u001b[39;00m \u001b[38;5;167;01mException\u001b[39;00m \u001b[38;5;28;01mas\u001b[39;00m err:\n",
      "File \u001b[0;32m~/.pyenv/versions/3.10.6/envs/re_value_predictor/lib/python3.10/site-packages/pandas/core/groupby/ops.py:864\u001b[0m, in \u001b[0;36mBaseGrouper.agg_series\u001b[0;34m(self, obj, func, preserve_dtype)\u001b[0m\n\u001b[1;32m    862\u001b[0m     preserve_dtype \u001b[38;5;241m=\u001b[39m \u001b[38;5;28;01mTrue\u001b[39;00m\n\u001b[0;32m--> 864\u001b[0m result \u001b[38;5;241m=\u001b[39m \u001b[38;5;28;43mself\u001b[39;49m\u001b[38;5;241;43m.\u001b[39;49m\u001b[43m_aggregate_series_pure_python\u001b[49m\u001b[43m(\u001b[49m\u001b[43mobj\u001b[49m\u001b[43m,\u001b[49m\u001b[43m \u001b[49m\u001b[43mfunc\u001b[49m\u001b[43m)\u001b[49m\n\u001b[1;32m    866\u001b[0m npvalues \u001b[38;5;241m=\u001b[39m lib\u001b[38;5;241m.\u001b[39mmaybe_convert_objects(result, try_float\u001b[38;5;241m=\u001b[39m\u001b[38;5;28;01mFalse\u001b[39;00m)\n",
      "File \u001b[0;32m~/.pyenv/versions/3.10.6/envs/re_value_predictor/lib/python3.10/site-packages/pandas/core/groupby/ops.py:885\u001b[0m, in \u001b[0;36mBaseGrouper._aggregate_series_pure_python\u001b[0;34m(self, obj, func)\u001b[0m\n\u001b[1;32m    884\u001b[0m \u001b[38;5;28;01mfor\u001b[39;00m i, group \u001b[38;5;129;01min\u001b[39;00m \u001b[38;5;28menumerate\u001b[39m(splitter):\n\u001b[0;32m--> 885\u001b[0m     res \u001b[38;5;241m=\u001b[39m \u001b[43mfunc\u001b[49m\u001b[43m(\u001b[49m\u001b[43mgroup\u001b[49m\u001b[43m)\u001b[49m\n\u001b[1;32m    886\u001b[0m     res \u001b[38;5;241m=\u001b[39m extract_result(res)\n",
      "File \u001b[0;32m~/.pyenv/versions/3.10.6/envs/re_value_predictor/lib/python3.10/site-packages/pandas/core/groupby/groupby.py:2534\u001b[0m, in \u001b[0;36mGroupBy.median.<locals>.<lambda>\u001b[0;34m(x)\u001b[0m\n\u001b[1;32m   2461\u001b[0m \u001b[38;5;250m\u001b[39m\u001b[38;5;124;03m\"\"\"\u001b[39;00m\n\u001b[1;32m   2462\u001b[0m \u001b[38;5;124;03mCompute median of groups, excluding missing values.\u001b[39;00m\n\u001b[1;32m   2463\u001b[0m \n\u001b[0;32m   (...)\u001b[0m\n\u001b[1;32m   2530\u001b[0m \u001b[38;5;124;03mFreq: MS, dtype: float64\u001b[39;00m\n\u001b[1;32m   2531\u001b[0m \u001b[38;5;124;03m\"\"\"\u001b[39;00m\n\u001b[1;32m   2532\u001b[0m result \u001b[38;5;241m=\u001b[39m \u001b[38;5;28mself\u001b[39m\u001b[38;5;241m.\u001b[39m_cython_agg_general(\n\u001b[1;32m   2533\u001b[0m     \u001b[38;5;124m\"\u001b[39m\u001b[38;5;124mmedian\u001b[39m\u001b[38;5;124m\"\u001b[39m,\n\u001b[0;32m-> 2534\u001b[0m     alt\u001b[38;5;241m=\u001b[39m\u001b[38;5;28;01mlambda\u001b[39;00m x: \u001b[43mSeries\u001b[49m\u001b[43m(\u001b[49m\u001b[43mx\u001b[49m\u001b[43m,\u001b[49m\u001b[43m \u001b[49m\u001b[43mcopy\u001b[49m\u001b[38;5;241;43m=\u001b[39;49m\u001b[38;5;28;43;01mFalse\u001b[39;49;00m\u001b[43m)\u001b[49m\u001b[38;5;241;43m.\u001b[39;49m\u001b[43mmedian\u001b[49m\u001b[43m(\u001b[49m\u001b[43mnumeric_only\u001b[49m\u001b[38;5;241;43m=\u001b[39;49m\u001b[43mnumeric_only\u001b[49m\u001b[43m)\u001b[49m,\n\u001b[1;32m   2535\u001b[0m     numeric_only\u001b[38;5;241m=\u001b[39mnumeric_only,\n\u001b[1;32m   2536\u001b[0m )\n\u001b[1;32m   2537\u001b[0m \u001b[38;5;28;01mreturn\u001b[39;00m result\u001b[38;5;241m.\u001b[39m__finalize__(\u001b[38;5;28mself\u001b[39m\u001b[38;5;241m.\u001b[39mobj, method\u001b[38;5;241m=\u001b[39m\u001b[38;5;124m\"\u001b[39m\u001b[38;5;124mgroupby\u001b[39m\u001b[38;5;124m\"\u001b[39m)\n",
      "File \u001b[0;32m~/.pyenv/versions/3.10.6/envs/re_value_predictor/lib/python3.10/site-packages/pandas/core/series.py:6559\u001b[0m, in \u001b[0;36mSeries.median\u001b[0;34m(self, axis, skipna, numeric_only, **kwargs)\u001b[0m\n\u001b[1;32m   6551\u001b[0m \u001b[38;5;129m@doc\u001b[39m(make_doc(\u001b[38;5;124m\"\u001b[39m\u001b[38;5;124mmedian\u001b[39m\u001b[38;5;124m\"\u001b[39m, ndim\u001b[38;5;241m=\u001b[39m\u001b[38;5;241m1\u001b[39m))\n\u001b[1;32m   6552\u001b[0m \u001b[38;5;28;01mdef\u001b[39;00m \u001b[38;5;21mmedian\u001b[39m(\n\u001b[1;32m   6553\u001b[0m     \u001b[38;5;28mself\u001b[39m,\n\u001b[0;32m   (...)\u001b[0m\n\u001b[1;32m   6557\u001b[0m     \u001b[38;5;241m*\u001b[39m\u001b[38;5;241m*\u001b[39mkwargs,\n\u001b[1;32m   6558\u001b[0m ):\n\u001b[0;32m-> 6559\u001b[0m     \u001b[38;5;28;01mreturn\u001b[39;00m \u001b[43mNDFrame\u001b[49m\u001b[38;5;241;43m.\u001b[39;49m\u001b[43mmedian\u001b[49m\u001b[43m(\u001b[49m\u001b[38;5;28;43mself\u001b[39;49m\u001b[43m,\u001b[49m\u001b[43m \u001b[49m\u001b[43maxis\u001b[49m\u001b[43m,\u001b[49m\u001b[43m \u001b[49m\u001b[43mskipna\u001b[49m\u001b[43m,\u001b[49m\u001b[43m \u001b[49m\u001b[43mnumeric_only\u001b[49m\u001b[43m,\u001b[49m\u001b[43m \u001b[49m\u001b[38;5;241;43m*\u001b[39;49m\u001b[38;5;241;43m*\u001b[39;49m\u001b[43mkwargs\u001b[49m\u001b[43m)\u001b[49m\n",
      "File \u001b[0;32m~/.pyenv/versions/3.10.6/envs/re_value_predictor/lib/python3.10/site-packages/pandas/core/generic.py:12431\u001b[0m, in \u001b[0;36mNDFrame.median\u001b[0;34m(self, axis, skipna, numeric_only, **kwargs)\u001b[0m\n\u001b[1;32m  12424\u001b[0m \u001b[38;5;28;01mdef\u001b[39;00m \u001b[38;5;21mmedian\u001b[39m(\n\u001b[1;32m  12425\u001b[0m     \u001b[38;5;28mself\u001b[39m,\n\u001b[1;32m  12426\u001b[0m     axis: Axis \u001b[38;5;241m|\u001b[39m \u001b[38;5;28;01mNone\u001b[39;00m \u001b[38;5;241m=\u001b[39m \u001b[38;5;241m0\u001b[39m,\n\u001b[0;32m   (...)\u001b[0m\n\u001b[1;32m  12429\u001b[0m     \u001b[38;5;241m*\u001b[39m\u001b[38;5;241m*\u001b[39mkwargs,\n\u001b[1;32m  12430\u001b[0m ) \u001b[38;5;241m-\u001b[39m\u001b[38;5;241m>\u001b[39m Series \u001b[38;5;241m|\u001b[39m \u001b[38;5;28mfloat\u001b[39m:\n\u001b[0;32m> 12431\u001b[0m     \u001b[38;5;28;01mreturn\u001b[39;00m \u001b[38;5;28;43mself\u001b[39;49m\u001b[38;5;241;43m.\u001b[39;49m\u001b[43m_stat_function\u001b[49m\u001b[43m(\u001b[49m\n\u001b[1;32m  12432\u001b[0m \u001b[43m        \u001b[49m\u001b[38;5;124;43m\"\u001b[39;49m\u001b[38;5;124;43mmedian\u001b[39;49m\u001b[38;5;124;43m\"\u001b[39;49m\u001b[43m,\u001b[49m\u001b[43m \u001b[49m\u001b[43mnanops\u001b[49m\u001b[38;5;241;43m.\u001b[39;49m\u001b[43mnanmedian\u001b[49m\u001b[43m,\u001b[49m\u001b[43m \u001b[49m\u001b[43maxis\u001b[49m\u001b[43m,\u001b[49m\u001b[43m \u001b[49m\u001b[43mskipna\u001b[49m\u001b[43m,\u001b[49m\u001b[43m \u001b[49m\u001b[43mnumeric_only\u001b[49m\u001b[43m,\u001b[49m\u001b[43m \u001b[49m\u001b[38;5;241;43m*\u001b[39;49m\u001b[38;5;241;43m*\u001b[39;49m\u001b[43mkwargs\u001b[49m\n\u001b[1;32m  12433\u001b[0m \u001b[43m    \u001b[49m\u001b[43m)\u001b[49m\n",
      "File \u001b[0;32m~/.pyenv/versions/3.10.6/envs/re_value_predictor/lib/python3.10/site-packages/pandas/core/generic.py:12377\u001b[0m, in \u001b[0;36mNDFrame._stat_function\u001b[0;34m(self, name, func, axis, skipna, numeric_only, **kwargs)\u001b[0m\n\u001b[1;32m  12375\u001b[0m validate_bool_kwarg(skipna, \u001b[38;5;124m\"\u001b[39m\u001b[38;5;124mskipna\u001b[39m\u001b[38;5;124m\"\u001b[39m, none_allowed\u001b[38;5;241m=\u001b[39m\u001b[38;5;28;01mFalse\u001b[39;00m)\n\u001b[0;32m> 12377\u001b[0m \u001b[38;5;28;01mreturn\u001b[39;00m \u001b[38;5;28;43mself\u001b[39;49m\u001b[38;5;241;43m.\u001b[39;49m\u001b[43m_reduce\u001b[49m\u001b[43m(\u001b[49m\n\u001b[1;32m  12378\u001b[0m \u001b[43m    \u001b[49m\u001b[43mfunc\u001b[49m\u001b[43m,\u001b[49m\u001b[43m \u001b[49m\u001b[43mname\u001b[49m\u001b[38;5;241;43m=\u001b[39;49m\u001b[43mname\u001b[49m\u001b[43m,\u001b[49m\u001b[43m \u001b[49m\u001b[43maxis\u001b[49m\u001b[38;5;241;43m=\u001b[39;49m\u001b[43maxis\u001b[49m\u001b[43m,\u001b[49m\u001b[43m \u001b[49m\u001b[43mskipna\u001b[49m\u001b[38;5;241;43m=\u001b[39;49m\u001b[43mskipna\u001b[49m\u001b[43m,\u001b[49m\u001b[43m \u001b[49m\u001b[43mnumeric_only\u001b[49m\u001b[38;5;241;43m=\u001b[39;49m\u001b[43mnumeric_only\u001b[49m\n\u001b[1;32m  12379\u001b[0m \u001b[43m\u001b[49m\u001b[43m)\u001b[49m\n",
      "File \u001b[0;32m~/.pyenv/versions/3.10.6/envs/re_value_predictor/lib/python3.10/site-packages/pandas/core/series.py:6457\u001b[0m, in \u001b[0;36mSeries._reduce\u001b[0;34m(self, op, name, axis, skipna, numeric_only, filter_type, **kwds)\u001b[0m\n\u001b[1;32m   6453\u001b[0m     \u001b[38;5;28;01mraise\u001b[39;00m \u001b[38;5;167;01mTypeError\u001b[39;00m(\n\u001b[1;32m   6454\u001b[0m         \u001b[38;5;124mf\u001b[39m\u001b[38;5;124m\"\u001b[39m\u001b[38;5;124mSeries.\u001b[39m\u001b[38;5;132;01m{\u001b[39;00mname\u001b[38;5;132;01m}\u001b[39;00m\u001b[38;5;124m does not allow \u001b[39m\u001b[38;5;132;01m{\u001b[39;00mkwd_name\u001b[38;5;132;01m}\u001b[39;00m\u001b[38;5;124m=\u001b[39m\u001b[38;5;132;01m{\u001b[39;00mnumeric_only\u001b[38;5;132;01m}\u001b[39;00m\u001b[38;5;124m \u001b[39m\u001b[38;5;124m\"\u001b[39m\n\u001b[1;32m   6455\u001b[0m         \u001b[38;5;124m\"\u001b[39m\u001b[38;5;124mwith non-numeric dtypes.\u001b[39m\u001b[38;5;124m\"\u001b[39m\n\u001b[1;32m   6456\u001b[0m     )\n\u001b[0;32m-> 6457\u001b[0m \u001b[38;5;28;01mreturn\u001b[39;00m \u001b[43mop\u001b[49m\u001b[43m(\u001b[49m\u001b[43mdelegate\u001b[49m\u001b[43m,\u001b[49m\u001b[43m \u001b[49m\u001b[43mskipna\u001b[49m\u001b[38;5;241;43m=\u001b[39;49m\u001b[43mskipna\u001b[49m\u001b[43m,\u001b[49m\u001b[43m \u001b[49m\u001b[38;5;241;43m*\u001b[39;49m\u001b[38;5;241;43m*\u001b[39;49m\u001b[43mkwds\u001b[49m\u001b[43m)\u001b[49m\n",
      "File \u001b[0;32m~/.pyenv/versions/3.10.6/envs/re_value_predictor/lib/python3.10/site-packages/pandas/core/nanops.py:147\u001b[0m, in \u001b[0;36mbottleneck_switch.__call__.<locals>.f\u001b[0;34m(values, axis, skipna, **kwds)\u001b[0m\n\u001b[1;32m    146\u001b[0m \u001b[38;5;28;01melse\u001b[39;00m:\n\u001b[0;32m--> 147\u001b[0m     result \u001b[38;5;241m=\u001b[39m \u001b[43malt\u001b[49m\u001b[43m(\u001b[49m\u001b[43mvalues\u001b[49m\u001b[43m,\u001b[49m\u001b[43m \u001b[49m\u001b[43maxis\u001b[49m\u001b[38;5;241;43m=\u001b[39;49m\u001b[43maxis\u001b[49m\u001b[43m,\u001b[49m\u001b[43m \u001b[49m\u001b[43mskipna\u001b[49m\u001b[38;5;241;43m=\u001b[39;49m\u001b[43mskipna\u001b[49m\u001b[43m,\u001b[49m\u001b[43m \u001b[49m\u001b[38;5;241;43m*\u001b[39;49m\u001b[38;5;241;43m*\u001b[39;49m\u001b[43mkwds\u001b[49m\u001b[43m)\u001b[49m\n\u001b[1;32m    149\u001b[0m \u001b[38;5;28;01mreturn\u001b[39;00m result\n",
      "File \u001b[0;32m~/.pyenv/versions/3.10.6/envs/re_value_predictor/lib/python3.10/site-packages/pandas/core/nanops.py:787\u001b[0m, in \u001b[0;36mnanmedian\u001b[0;34m(values, axis, skipna, mask)\u001b[0m\n\u001b[1;32m    786\u001b[0m     \u001b[38;5;28;01mif\u001b[39;00m inferred \u001b[38;5;129;01min\u001b[39;00m [\u001b[38;5;124m\"\u001b[39m\u001b[38;5;124mstring\u001b[39m\u001b[38;5;124m\"\u001b[39m, \u001b[38;5;124m\"\u001b[39m\u001b[38;5;124mmixed\u001b[39m\u001b[38;5;124m\"\u001b[39m]:\n\u001b[0;32m--> 787\u001b[0m         \u001b[38;5;28;01mraise\u001b[39;00m \u001b[38;5;167;01mTypeError\u001b[39;00m(\u001b[38;5;124mf\u001b[39m\u001b[38;5;124m\"\u001b[39m\u001b[38;5;124mCannot convert \u001b[39m\u001b[38;5;132;01m{\u001b[39;00mvalues\u001b[38;5;132;01m}\u001b[39;00m\u001b[38;5;124m to numeric\u001b[39m\u001b[38;5;124m\"\u001b[39m)\n\u001b[1;32m    788\u001b[0m \u001b[38;5;28;01mtry\u001b[39;00m:\n",
      "\u001b[0;31mTypeError\u001b[0m: Cannot convert ['12-01-06 00:00' '12-01-09 00:00' '12-01-11 00:00' ... '23-03-23 00:00'\n '23-03-24 00:00' '23-03-30 00:00'] to numeric",
      "\nThe above exception was the direct cause of the following exception:\n",
      "\u001b[0;31mTypeError\u001b[0m                                 Traceback (most recent call last)",
      "Cell \u001b[0;32mIn[43], line 1\u001b[0m\n\u001b[0;32m----> 1\u001b[0m borough_recent\u001b[38;5;241m=\u001b[39m\u001b[43mdf_sample\u001b[49m\u001b[43m[\u001b[49m\u001b[43mdf_sample\u001b[49m\u001b[43m[\u001b[49m\u001b[38;5;124;43m'\u001b[39;49m\u001b[38;5;124;43myear\u001b[39;49m\u001b[38;5;124;43m'\u001b[39;49m\u001b[43m]\u001b[49m\u001b[38;5;241;43m>\u001b[39;49m\u001b[38;5;241;43m2011\u001b[39;49m\u001b[43m]\u001b[49m\u001b[38;5;241;43m.\u001b[39;49m\u001b[43mgroupby\u001b[49m\u001b[43m(\u001b[49m\u001b[38;5;124;43m'\u001b[39;49m\u001b[38;5;124;43mborough\u001b[39;49m\u001b[38;5;124;43m'\u001b[39;49m\u001b[43m)\u001b[49m\u001b[38;5;241;43m.\u001b[39;49m\u001b[43mmedian\u001b[49m\u001b[43m(\u001b[49m\u001b[43m)\u001b[49m[\u001b[38;5;124m'\u001b[39m\u001b[38;5;124mprice\u001b[39m\u001b[38;5;124m'\u001b[39m]\u001b[38;5;241m.\u001b[39msort_values(ascending\u001b[38;5;241m=\u001b[39m\u001b[38;5;28;01mFalse\u001b[39;00m)\n\u001b[1;32m      2\u001b[0m borough_recent\n",
      "File \u001b[0;32m~/.pyenv/versions/3.10.6/envs/re_value_predictor/lib/python3.10/site-packages/pandas/core/groupby/groupby.py:2532\u001b[0m, in \u001b[0;36mGroupBy.median\u001b[0;34m(self, numeric_only)\u001b[0m\n\u001b[1;32m   2459\u001b[0m \u001b[38;5;129m@final\u001b[39m\n\u001b[1;32m   2460\u001b[0m \u001b[38;5;28;01mdef\u001b[39;00m \u001b[38;5;21mmedian\u001b[39m(\u001b[38;5;28mself\u001b[39m, numeric_only: \u001b[38;5;28mbool\u001b[39m \u001b[38;5;241m=\u001b[39m \u001b[38;5;28;01mFalse\u001b[39;00m) \u001b[38;5;241m-\u001b[39m\u001b[38;5;241m>\u001b[39m NDFrameT:\n\u001b[1;32m   2461\u001b[0m \u001b[38;5;250m    \u001b[39m\u001b[38;5;124;03m\"\"\"\u001b[39;00m\n\u001b[1;32m   2462\u001b[0m \u001b[38;5;124;03m    Compute median of groups, excluding missing values.\u001b[39;00m\n\u001b[1;32m   2463\u001b[0m \n\u001b[0;32m   (...)\u001b[0m\n\u001b[1;32m   2530\u001b[0m \u001b[38;5;124;03m    Freq: MS, dtype: float64\u001b[39;00m\n\u001b[1;32m   2531\u001b[0m \u001b[38;5;124;03m    \"\"\"\u001b[39;00m\n\u001b[0;32m-> 2532\u001b[0m     result \u001b[38;5;241m=\u001b[39m \u001b[38;5;28;43mself\u001b[39;49m\u001b[38;5;241;43m.\u001b[39;49m\u001b[43m_cython_agg_general\u001b[49m\u001b[43m(\u001b[49m\n\u001b[1;32m   2533\u001b[0m \u001b[43m        \u001b[49m\u001b[38;5;124;43m\"\u001b[39;49m\u001b[38;5;124;43mmedian\u001b[39;49m\u001b[38;5;124;43m\"\u001b[39;49m\u001b[43m,\u001b[49m\n\u001b[1;32m   2534\u001b[0m \u001b[43m        \u001b[49m\u001b[43malt\u001b[49m\u001b[38;5;241;43m=\u001b[39;49m\u001b[38;5;28;43;01mlambda\u001b[39;49;00m\u001b[43m \u001b[49m\u001b[43mx\u001b[49m\u001b[43m:\u001b[49m\u001b[43m \u001b[49m\u001b[43mSeries\u001b[49m\u001b[43m(\u001b[49m\u001b[43mx\u001b[49m\u001b[43m,\u001b[49m\u001b[43m \u001b[49m\u001b[43mcopy\u001b[49m\u001b[38;5;241;43m=\u001b[39;49m\u001b[38;5;28;43;01mFalse\u001b[39;49;00m\u001b[43m)\u001b[49m\u001b[38;5;241;43m.\u001b[39;49m\u001b[43mmedian\u001b[49m\u001b[43m(\u001b[49m\u001b[43mnumeric_only\u001b[49m\u001b[38;5;241;43m=\u001b[39;49m\u001b[43mnumeric_only\u001b[49m\u001b[43m)\u001b[49m\u001b[43m,\u001b[49m\n\u001b[1;32m   2535\u001b[0m \u001b[43m        \u001b[49m\u001b[43mnumeric_only\u001b[49m\u001b[38;5;241;43m=\u001b[39;49m\u001b[43mnumeric_only\u001b[49m\u001b[43m,\u001b[49m\n\u001b[1;32m   2536\u001b[0m \u001b[43m    \u001b[49m\u001b[43m)\u001b[49m\n\u001b[1;32m   2537\u001b[0m     \u001b[38;5;28;01mreturn\u001b[39;00m result\u001b[38;5;241m.\u001b[39m__finalize__(\u001b[38;5;28mself\u001b[39m\u001b[38;5;241m.\u001b[39mobj, method\u001b[38;5;241m=\u001b[39m\u001b[38;5;124m\"\u001b[39m\u001b[38;5;124mgroupby\u001b[39m\u001b[38;5;124m\"\u001b[39m)\n",
      "File \u001b[0;32m~/.pyenv/versions/3.10.6/envs/re_value_predictor/lib/python3.10/site-packages/pandas/core/groupby/groupby.py:1998\u001b[0m, in \u001b[0;36mGroupBy._cython_agg_general\u001b[0;34m(self, how, alt, numeric_only, min_count, **kwargs)\u001b[0m\n\u001b[1;32m   1995\u001b[0m     result \u001b[38;5;241m=\u001b[39m \u001b[38;5;28mself\u001b[39m\u001b[38;5;241m.\u001b[39m_agg_py_fallback(how, values, ndim\u001b[38;5;241m=\u001b[39mdata\u001b[38;5;241m.\u001b[39mndim, alt\u001b[38;5;241m=\u001b[39malt)\n\u001b[1;32m   1996\u001b[0m     \u001b[38;5;28;01mreturn\u001b[39;00m result\n\u001b[0;32m-> 1998\u001b[0m new_mgr \u001b[38;5;241m=\u001b[39m \u001b[43mdata\u001b[49m\u001b[38;5;241;43m.\u001b[39;49m\u001b[43mgrouped_reduce\u001b[49m\u001b[43m(\u001b[49m\u001b[43marray_func\u001b[49m\u001b[43m)\u001b[49m\n\u001b[1;32m   1999\u001b[0m res \u001b[38;5;241m=\u001b[39m \u001b[38;5;28mself\u001b[39m\u001b[38;5;241m.\u001b[39m_wrap_agged_manager(new_mgr)\n\u001b[1;32m   2000\u001b[0m \u001b[38;5;28;01mif\u001b[39;00m how \u001b[38;5;129;01min\u001b[39;00m [\u001b[38;5;124m\"\u001b[39m\u001b[38;5;124midxmin\u001b[39m\u001b[38;5;124m\"\u001b[39m, \u001b[38;5;124m\"\u001b[39m\u001b[38;5;124midxmax\u001b[39m\u001b[38;5;124m\"\u001b[39m]:\n",
      "File \u001b[0;32m~/.pyenv/versions/3.10.6/envs/re_value_predictor/lib/python3.10/site-packages/pandas/core/internals/managers.py:1469\u001b[0m, in \u001b[0;36mBlockManager.grouped_reduce\u001b[0;34m(self, func)\u001b[0m\n\u001b[1;32m   1465\u001b[0m \u001b[38;5;28;01mif\u001b[39;00m blk\u001b[38;5;241m.\u001b[39mis_object:\n\u001b[1;32m   1466\u001b[0m     \u001b[38;5;66;03m# split on object-dtype blocks bc some columns may raise\u001b[39;00m\n\u001b[1;32m   1467\u001b[0m     \u001b[38;5;66;03m#  while others do not.\u001b[39;00m\n\u001b[1;32m   1468\u001b[0m     \u001b[38;5;28;01mfor\u001b[39;00m sb \u001b[38;5;129;01min\u001b[39;00m blk\u001b[38;5;241m.\u001b[39m_split():\n\u001b[0;32m-> 1469\u001b[0m         applied \u001b[38;5;241m=\u001b[39m \u001b[43msb\u001b[49m\u001b[38;5;241;43m.\u001b[39;49m\u001b[43mapply\u001b[49m\u001b[43m(\u001b[49m\u001b[43mfunc\u001b[49m\u001b[43m)\u001b[49m\n\u001b[1;32m   1470\u001b[0m         result_blocks \u001b[38;5;241m=\u001b[39m extend_blocks(applied, result_blocks)\n\u001b[1;32m   1471\u001b[0m \u001b[38;5;28;01melse\u001b[39;00m:\n",
      "File \u001b[0;32m~/.pyenv/versions/3.10.6/envs/re_value_predictor/lib/python3.10/site-packages/pandas/core/internals/blocks.py:393\u001b[0m, in \u001b[0;36mBlock.apply\u001b[0;34m(self, func, **kwargs)\u001b[0m\n\u001b[1;32m    387\u001b[0m \u001b[38;5;129m@final\u001b[39m\n\u001b[1;32m    388\u001b[0m \u001b[38;5;28;01mdef\u001b[39;00m \u001b[38;5;21mapply\u001b[39m(\u001b[38;5;28mself\u001b[39m, func, \u001b[38;5;241m*\u001b[39m\u001b[38;5;241m*\u001b[39mkwargs) \u001b[38;5;241m-\u001b[39m\u001b[38;5;241m>\u001b[39m \u001b[38;5;28mlist\u001b[39m[Block]:\n\u001b[1;32m    389\u001b[0m \u001b[38;5;250m    \u001b[39m\u001b[38;5;124;03m\"\"\"\u001b[39;00m\n\u001b[1;32m    390\u001b[0m \u001b[38;5;124;03m    apply the function to my values; return a block if we are not\u001b[39;00m\n\u001b[1;32m    391\u001b[0m \u001b[38;5;124;03m    one\u001b[39;00m\n\u001b[1;32m    392\u001b[0m \u001b[38;5;124;03m    \"\"\"\u001b[39;00m\n\u001b[0;32m--> 393\u001b[0m     result \u001b[38;5;241m=\u001b[39m \u001b[43mfunc\u001b[49m\u001b[43m(\u001b[49m\u001b[38;5;28;43mself\u001b[39;49m\u001b[38;5;241;43m.\u001b[39;49m\u001b[43mvalues\u001b[49m\u001b[43m,\u001b[49m\u001b[43m \u001b[49m\u001b[38;5;241;43m*\u001b[39;49m\u001b[38;5;241;43m*\u001b[39;49m\u001b[43mkwargs\u001b[49m\u001b[43m)\u001b[49m\n\u001b[1;32m    395\u001b[0m     result \u001b[38;5;241m=\u001b[39m maybe_coerce_values(result)\n\u001b[1;32m    396\u001b[0m     \u001b[38;5;28;01mreturn\u001b[39;00m \u001b[38;5;28mself\u001b[39m\u001b[38;5;241m.\u001b[39m_split_op_result(result)\n",
      "File \u001b[0;32m~/.pyenv/versions/3.10.6/envs/re_value_predictor/lib/python3.10/site-packages/pandas/core/groupby/groupby.py:1995\u001b[0m, in \u001b[0;36mGroupBy._cython_agg_general.<locals>.array_func\u001b[0;34m(values)\u001b[0m\n\u001b[1;32m   1992\u001b[0m     \u001b[38;5;28;01mreturn\u001b[39;00m result\n\u001b[1;32m   1994\u001b[0m \u001b[38;5;28;01massert\u001b[39;00m alt \u001b[38;5;129;01mis\u001b[39;00m \u001b[38;5;129;01mnot\u001b[39;00m \u001b[38;5;28;01mNone\u001b[39;00m\n\u001b[0;32m-> 1995\u001b[0m result \u001b[38;5;241m=\u001b[39m \u001b[38;5;28;43mself\u001b[39;49m\u001b[38;5;241;43m.\u001b[39;49m\u001b[43m_agg_py_fallback\u001b[49m\u001b[43m(\u001b[49m\u001b[43mhow\u001b[49m\u001b[43m,\u001b[49m\u001b[43m \u001b[49m\u001b[43mvalues\u001b[49m\u001b[43m,\u001b[49m\u001b[43m \u001b[49m\u001b[43mndim\u001b[49m\u001b[38;5;241;43m=\u001b[39;49m\u001b[43mdata\u001b[49m\u001b[38;5;241;43m.\u001b[39;49m\u001b[43mndim\u001b[49m\u001b[43m,\u001b[49m\u001b[43m \u001b[49m\u001b[43malt\u001b[49m\u001b[38;5;241;43m=\u001b[39;49m\u001b[43malt\u001b[49m\u001b[43m)\u001b[49m\n\u001b[1;32m   1996\u001b[0m \u001b[38;5;28;01mreturn\u001b[39;00m result\n",
      "File \u001b[0;32m~/.pyenv/versions/3.10.6/envs/re_value_predictor/lib/python3.10/site-packages/pandas/core/groupby/groupby.py:1946\u001b[0m, in \u001b[0;36mGroupBy._agg_py_fallback\u001b[0;34m(self, how, values, ndim, alt)\u001b[0m\n\u001b[1;32m   1944\u001b[0m     msg \u001b[38;5;241m=\u001b[39m \u001b[38;5;124mf\u001b[39m\u001b[38;5;124m\"\u001b[39m\u001b[38;5;124magg function failed [how->\u001b[39m\u001b[38;5;132;01m{\u001b[39;00mhow\u001b[38;5;132;01m}\u001b[39;00m\u001b[38;5;124m,dtype->\u001b[39m\u001b[38;5;132;01m{\u001b[39;00mser\u001b[38;5;241m.\u001b[39mdtype\u001b[38;5;132;01m}\u001b[39;00m\u001b[38;5;124m]\u001b[39m\u001b[38;5;124m\"\u001b[39m\n\u001b[1;32m   1945\u001b[0m     \u001b[38;5;66;03m# preserve the kind of exception that raised\u001b[39;00m\n\u001b[0;32m-> 1946\u001b[0m     \u001b[38;5;28;01mraise\u001b[39;00m \u001b[38;5;28mtype\u001b[39m(err)(msg) \u001b[38;5;28;01mfrom\u001b[39;00m \u001b[38;5;21;01merr\u001b[39;00m\n\u001b[1;32m   1948\u001b[0m \u001b[38;5;28;01mif\u001b[39;00m ser\u001b[38;5;241m.\u001b[39mdtype \u001b[38;5;241m==\u001b[39m \u001b[38;5;28mobject\u001b[39m:\n\u001b[1;32m   1949\u001b[0m     res_values \u001b[38;5;241m=\u001b[39m res_values\u001b[38;5;241m.\u001b[39mastype(\u001b[38;5;28mobject\u001b[39m, copy\u001b[38;5;241m=\u001b[39m\u001b[38;5;28;01mFalse\u001b[39;00m)\n",
      "\u001b[0;31mTypeError\u001b[0m: agg function failed [how->median,dtype->object]"
     ]
    }
   ],
   "source": [
    "borough_recent=df_sample[df_sample['year']>2011].groupby('borough').median()['price'].sort_values(ascending=False)\n",
    "borough_recent"
   ]
  },
  {
   "cell_type": "markdown",
   "metadata": {},
   "source": [
    "# FEATURE ENGINEERING"
   ]
  },
  {
   "cell_type": "markdown",
   "metadata": {
    "jp-MarkdownHeadingCollapsed": true
   },
   "source": [
    "## Extract first 2 & 3 lines of postcode"
   ]
  },
  {
   "cell_type": "code",
   "execution_count": 62,
   "metadata": {
    "scrolled": true
   },
   "outputs": [],
   "source": [
    "# ignores nan values (considered float)\n",
    "df['short2_pc']=df[['postcode']].apply(lambda x: x.str[:2])"
   ]
  },
  {
   "cell_type": "code",
   "execution_count": 63,
   "metadata": {
    "scrolled": true
   },
   "outputs": [
    {
     "data": {
      "text/plain": [
       "51"
      ]
     },
     "execution_count": 63,
     "metadata": {},
     "output_type": "execute_result"
    }
   ],
   "source": [
    "# check how many unique shortened postcodes we now have\n",
    "df['short2_pc'].nunique()"
   ]
  },
  {
   "cell_type": "code",
   "execution_count": 56,
   "metadata": {},
   "outputs": [
    {
     "data": {
      "text/html": [
       "<div>\n",
       "<style scoped>\n",
       "    .dataframe tbody tr th:only-of-type {\n",
       "        vertical-align: middle;\n",
       "    }\n",
       "\n",
       "    .dataframe tbody tr th {\n",
       "        vertical-align: top;\n",
       "    }\n",
       "\n",
       "    .dataframe thead th {\n",
       "        text-align: right;\n",
       "    }\n",
       "</style>\n",
       "<table border=\"1\" class=\"dataframe\">\n",
       "  <thead>\n",
       "    <tr style=\"text-align: right;\">\n",
       "      <th></th>\n",
       "      <th>price</th>\n",
       "      <th>date</th>\n",
       "      <th>postcode</th>\n",
       "      <th>property_type</th>\n",
       "      <th>property_age</th>\n",
       "      <th>ground</th>\n",
       "      <th>street</th>\n",
       "      <th>borough</th>\n",
       "      <th>year</th>\n",
       "      <th>month</th>\n",
       "      <th>day</th>\n",
       "      <th>full_property_number</th>\n",
       "      <th>short2_pc</th>\n",
       "    </tr>\n",
       "  </thead>\n",
       "  <tbody>\n",
       "    <tr>\n",
       "      <th>0</th>\n",
       "      <td>62750</td>\n",
       "      <td>95-10-02 00:00</td>\n",
       "      <td>BR3 4AT</td>\n",
       "      <td>T</td>\n",
       "      <td>N</td>\n",
       "      <td>F</td>\n",
       "      <td>EDEN ROAD</td>\n",
       "      <td>BROMLEY</td>\n",
       "      <td>1995</td>\n",
       "      <td>10</td>\n",
       "      <td>2</td>\n",
       "      <td>56</td>\n",
       "      <td>BR3 4AT</td>\n",
       "    </tr>\n",
       "    <tr>\n",
       "      <th>1</th>\n",
       "      <td>78000</td>\n",
       "      <td>95-09-29 00:00</td>\n",
       "      <td>SW16 3BL</td>\n",
       "      <td>S</td>\n",
       "      <td>N</td>\n",
       "      <td>F</td>\n",
       "      <td>GREEN LANE</td>\n",
       "      <td>CROYDON</td>\n",
       "      <td>1995</td>\n",
       "      <td>9</td>\n",
       "      <td>29</td>\n",
       "      <td>208</td>\n",
       "      <td>SW16 3BL</td>\n",
       "    </tr>\n",
       "    <tr>\n",
       "      <th>2</th>\n",
       "      <td>51000</td>\n",
       "      <td>95-10-31 00:00</td>\n",
       "      <td>UB5 5LH</td>\n",
       "      <td>S</td>\n",
       "      <td>N</td>\n",
       "      <td>F</td>\n",
       "      <td>BENGARTH ROAD</td>\n",
       "      <td>EALING</td>\n",
       "      <td>1995</td>\n",
       "      <td>10</td>\n",
       "      <td>31</td>\n",
       "      <td>57</td>\n",
       "      <td>NaN</td>\n",
       "    </tr>\n",
       "    <tr>\n",
       "      <th>3</th>\n",
       "      <td>405000</td>\n",
       "      <td>95-04-07 00:00</td>\n",
       "      <td>N1 2JU</td>\n",
       "      <td>S</td>\n",
       "      <td>N</td>\n",
       "      <td>F</td>\n",
       "      <td>CANONBURY PARK NORTH</td>\n",
       "      <td>ISLINGTON</td>\n",
       "      <td>1995</td>\n",
       "      <td>4</td>\n",
       "      <td>7</td>\n",
       "      <td>49</td>\n",
       "      <td>NaN</td>\n",
       "    </tr>\n",
       "    <tr>\n",
       "      <th>4</th>\n",
       "      <td>60000</td>\n",
       "      <td>95-12-21 00:00</td>\n",
       "      <td>IG1 1PP</td>\n",
       "      <td>T</td>\n",
       "      <td>N</td>\n",
       "      <td>F</td>\n",
       "      <td>HAMPTON ROAD</td>\n",
       "      <td>REDBRIDGE</td>\n",
       "      <td>1995</td>\n",
       "      <td>12</td>\n",
       "      <td>21</td>\n",
       "      <td>209</td>\n",
       "      <td>NaN</td>\n",
       "    </tr>\n",
       "  </tbody>\n",
       "</table>\n",
       "</div>"
      ],
      "text/plain": [
       "    price            date  postcode property_type property_age ground  \\\n",
       "0   62750  95-10-02 00:00   BR3 4AT             T            N      F   \n",
       "1   78000  95-09-29 00:00  SW16 3BL             S            N      F   \n",
       "2   51000  95-10-31 00:00   UB5 5LH             S            N      F   \n",
       "3  405000  95-04-07 00:00    N1 2JU             S            N      F   \n",
       "4   60000  95-12-21 00:00   IG1 1PP             T            N      F   \n",
       "\n",
       "                 street    borough  year  month  day full_property_number  \\\n",
       "0             EDEN ROAD    BROMLEY  1995     10    2                   56   \n",
       "1            GREEN LANE    CROYDON  1995      9   29                  208   \n",
       "2         BENGARTH ROAD     EALING  1995     10   31                   57   \n",
       "3  CANONBURY PARK NORTH  ISLINGTON  1995      4    7                   49   \n",
       "4          HAMPTON ROAD  REDBRIDGE  1995     12   21                  209   \n",
       "\n",
       "  short2_pc  \n",
       "0   BR3 4AT  \n",
       "1  SW16 3BL  \n",
       "2       NaN  \n",
       "3       NaN  \n",
       "4       NaN  "
      ]
     },
     "execution_count": 56,
     "metadata": {},
     "output_type": "execute_result"
    }
   ],
   "source": [
    "df.head()"
   ]
  },
  {
   "cell_type": "code",
   "execution_count": 60,
   "metadata": {},
   "outputs": [],
   "source": [
    "df['short3_pc']=df[['postcode']].apply(lambda x: x.str[:3])"
   ]
  },
  {
   "cell_type": "code",
   "execution_count": 64,
   "metadata": {},
   "outputs": [
    {
     "data": {
      "text/plain": [
       "210"
      ]
     },
     "execution_count": 64,
     "metadata": {},
     "output_type": "execute_result"
    }
   ],
   "source": [
    "# check how many unique shortened postcodes we now have\n",
    "df['short3_pc'].nunique()"
   ]
  },
  {
   "cell_type": "code",
   "execution_count": 51,
   "metadata": {},
   "outputs": [
    {
     "data": {
      "text/plain": [
       "'N1'"
      ]
     },
     "execution_count": 51,
     "metadata": {},
     "output_type": "execute_result"
    }
   ],
   "source": [
    "# columns to scale:\n",
    "# target : price (= y, will need to separate from feature list)\n",
    "# features: month, year, sin, cos"
   ]
  },
  {
   "cell_type": "code",
   "execution_count": 71,
   "metadata": {},
   "outputs": [
    {
     "data": {
      "text/plain": [
       "Index(['price', 'date', 'postcode', 'property_type', 'property_age', 'ground',\n",
       "       'street', 'borough', 'year', 'month', 'day', 'full_property_number',\n",
       "       'short2_pc', 'short3_pc'],\n",
       "      dtype='object')"
      ]
     },
     "execution_count": 71,
     "metadata": {},
     "output_type": "execute_result"
    }
   ],
   "source": [
    "df.columns"
   ]
  },
  {
   "cell_type": "code",
   "execution_count": null,
   "metadata": {},
   "outputs": [],
   "source": []
  },
  {
   "cell_type": "markdown",
   "metadata": {
    "jp-MarkdownHeadingCollapsed": true
   },
   "source": [
    "## Exploring Street vs Postcode"
   ]
  },
  {
   "cell_type": "code",
   "execution_count": 76,
   "metadata": {},
   "outputs": [
    {
     "data": {
      "text/plain": [
       "134347"
      ]
     },
     "execution_count": 76,
     "metadata": {},
     "output_type": "execute_result"
    }
   ],
   "source": [
    "# exploring unique postcodes  (+ ca. 3000 nans)\n",
    "df['postcode'].nunique()"
   ]
  },
  {
   "cell_type": "code",
   "execution_count": 75,
   "metadata": {},
   "outputs": [
    {
     "data": {
      "text/plain": [
       "37688"
      ]
     },
     "execution_count": 75,
     "metadata": {},
     "output_type": "execute_result"
    }
   ],
   "source": [
    "# exploring unique street names  (+ ca. 3000 nans)\n",
    "df['street'].nunique()"
   ]
  },
  {
   "cell_type": "markdown",
   "metadata": {},
   "source": [
    "# Reducing features"
   ]
  },
  {
   "cell_type": "code",
   "execution_count": 80,
   "metadata": {},
   "outputs": [
    {
     "data": {
      "text/html": [
       "<div>\n",
       "<style scoped>\n",
       "    .dataframe tbody tr th:only-of-type {\n",
       "        vertical-align: middle;\n",
       "    }\n",
       "\n",
       "    .dataframe tbody tr th {\n",
       "        vertical-align: top;\n",
       "    }\n",
       "\n",
       "    .dataframe thead th {\n",
       "        text-align: right;\n",
       "    }\n",
       "</style>\n",
       "<table border=\"1\" class=\"dataframe\">\n",
       "  <thead>\n",
       "    <tr style=\"text-align: right;\">\n",
       "      <th></th>\n",
       "      <th>price</th>\n",
       "      <th>date</th>\n",
       "      <th>postcode</th>\n",
       "      <th>property_type</th>\n",
       "      <th>property_age</th>\n",
       "      <th>ground</th>\n",
       "      <th>street</th>\n",
       "      <th>borough</th>\n",
       "      <th>year</th>\n",
       "      <th>month</th>\n",
       "      <th>day</th>\n",
       "      <th>full_property_number</th>\n",
       "      <th>short2_pc</th>\n",
       "      <th>short3_pc</th>\n",
       "    </tr>\n",
       "  </thead>\n",
       "  <tbody>\n",
       "    <tr>\n",
       "      <th>0</th>\n",
       "      <td>62750</td>\n",
       "      <td>95-10-02 00:00</td>\n",
       "      <td>BR3 4AT</td>\n",
       "      <td>T</td>\n",
       "      <td>N</td>\n",
       "      <td>F</td>\n",
       "      <td>EDEN ROAD</td>\n",
       "      <td>BROMLEY</td>\n",
       "      <td>1995</td>\n",
       "      <td>10</td>\n",
       "      <td>2</td>\n",
       "      <td>56</td>\n",
       "      <td>BR</td>\n",
       "      <td>BR3</td>\n",
       "    </tr>\n",
       "    <tr>\n",
       "      <th>1</th>\n",
       "      <td>78000</td>\n",
       "      <td>95-09-29 00:00</td>\n",
       "      <td>SW16 3BL</td>\n",
       "      <td>S</td>\n",
       "      <td>N</td>\n",
       "      <td>F</td>\n",
       "      <td>GREEN LANE</td>\n",
       "      <td>CROYDON</td>\n",
       "      <td>1995</td>\n",
       "      <td>9</td>\n",
       "      <td>29</td>\n",
       "      <td>208</td>\n",
       "      <td>SW</td>\n",
       "      <td>SW1</td>\n",
       "    </tr>\n",
       "    <tr>\n",
       "      <th>2</th>\n",
       "      <td>51000</td>\n",
       "      <td>95-10-31 00:00</td>\n",
       "      <td>UB5 5LH</td>\n",
       "      <td>S</td>\n",
       "      <td>N</td>\n",
       "      <td>F</td>\n",
       "      <td>BENGARTH ROAD</td>\n",
       "      <td>EALING</td>\n",
       "      <td>1995</td>\n",
       "      <td>10</td>\n",
       "      <td>31</td>\n",
       "      <td>57</td>\n",
       "      <td>UB</td>\n",
       "      <td>UB5</td>\n",
       "    </tr>\n",
       "    <tr>\n",
       "      <th>3</th>\n",
       "      <td>405000</td>\n",
       "      <td>95-04-07 00:00</td>\n",
       "      <td>N1 2JU</td>\n",
       "      <td>S</td>\n",
       "      <td>N</td>\n",
       "      <td>F</td>\n",
       "      <td>CANONBURY PARK NORTH</td>\n",
       "      <td>ISLINGTON</td>\n",
       "      <td>1995</td>\n",
       "      <td>4</td>\n",
       "      <td>7</td>\n",
       "      <td>49</td>\n",
       "      <td>N1</td>\n",
       "      <td>N1</td>\n",
       "    </tr>\n",
       "    <tr>\n",
       "      <th>4</th>\n",
       "      <td>60000</td>\n",
       "      <td>95-12-21 00:00</td>\n",
       "      <td>IG1 1PP</td>\n",
       "      <td>T</td>\n",
       "      <td>N</td>\n",
       "      <td>F</td>\n",
       "      <td>HAMPTON ROAD</td>\n",
       "      <td>REDBRIDGE</td>\n",
       "      <td>1995</td>\n",
       "      <td>12</td>\n",
       "      <td>21</td>\n",
       "      <td>209</td>\n",
       "      <td>IG</td>\n",
       "      <td>IG1</td>\n",
       "    </tr>\n",
       "    <tr>\n",
       "      <th>...</th>\n",
       "      <td>...</td>\n",
       "      <td>...</td>\n",
       "      <td>...</td>\n",
       "      <td>...</td>\n",
       "      <td>...</td>\n",
       "      <td>...</td>\n",
       "      <td>...</td>\n",
       "      <td>...</td>\n",
       "      <td>...</td>\n",
       "      <td>...</td>\n",
       "      <td>...</td>\n",
       "      <td>...</td>\n",
       "      <td>...</td>\n",
       "      <td>...</td>\n",
       "    </tr>\n",
       "    <tr>\n",
       "      <th>3623314</th>\n",
       "      <td>1180000</td>\n",
       "      <td>23-01-06 00:00</td>\n",
       "      <td>W12 7GR</td>\n",
       "      <td>F</td>\n",
       "      <td>N</td>\n",
       "      <td>L</td>\n",
       "      <td>WOOD CRESCENT</td>\n",
       "      <td>HAMMERSMITH AND FULHAM</td>\n",
       "      <td>2023</td>\n",
       "      <td>1</td>\n",
       "      <td>6</td>\n",
       "      <td>5APARTMENT 106</td>\n",
       "      <td>W1</td>\n",
       "      <td>W12</td>\n",
       "    </tr>\n",
       "    <tr>\n",
       "      <th>3623315</th>\n",
       "      <td>365000</td>\n",
       "      <td>23-01-11 00:00</td>\n",
       "      <td>E4 9QB</td>\n",
       "      <td>F</td>\n",
       "      <td>N</td>\n",
       "      <td>L</td>\n",
       "      <td>CASTLE AVENUE</td>\n",
       "      <td>WALTHAM FOREST</td>\n",
       "      <td>2023</td>\n",
       "      <td>1</td>\n",
       "      <td>11</td>\n",
       "      <td>BAILEY COURT6</td>\n",
       "      <td>E4</td>\n",
       "      <td>E4</td>\n",
       "    </tr>\n",
       "    <tr>\n",
       "      <th>3623316</th>\n",
       "      <td>370000</td>\n",
       "      <td>23-01-17 00:00</td>\n",
       "      <td>RM6 6SX</td>\n",
       "      <td>S</td>\n",
       "      <td>N</td>\n",
       "      <td>F</td>\n",
       "      <td>HENLEY GARDENS</td>\n",
       "      <td>BARKING AND DAGENHAM</td>\n",
       "      <td>2023</td>\n",
       "      <td>1</td>\n",
       "      <td>17</td>\n",
       "      <td>12</td>\n",
       "      <td>RM</td>\n",
       "      <td>RM6</td>\n",
       "    </tr>\n",
       "    <tr>\n",
       "      <th>3623317</th>\n",
       "      <td>310000</td>\n",
       "      <td>23-01-06 00:00</td>\n",
       "      <td>E4 9SY</td>\n",
       "      <td>F</td>\n",
       "      <td>N</td>\n",
       "      <td>L</td>\n",
       "      <td>NEW ROAD</td>\n",
       "      <td>WALTHAM FOREST</td>\n",
       "      <td>2023</td>\n",
       "      <td>1</td>\n",
       "      <td>6</td>\n",
       "      <td>108B</td>\n",
       "      <td>E4</td>\n",
       "      <td>E4</td>\n",
       "    </tr>\n",
       "    <tr>\n",
       "      <th>3623318</th>\n",
       "      <td>490000</td>\n",
       "      <td>23-01-13 00:00</td>\n",
       "      <td>RM1 4SR</td>\n",
       "      <td>T</td>\n",
       "      <td>N</td>\n",
       "      <td>F</td>\n",
       "      <td>HEATHER GLEN</td>\n",
       "      <td>HAVERING</td>\n",
       "      <td>2023</td>\n",
       "      <td>1</td>\n",
       "      <td>13</td>\n",
       "      <td>12</td>\n",
       "      <td>RM</td>\n",
       "      <td>RM1</td>\n",
       "    </tr>\n",
       "  </tbody>\n",
       "</table>\n",
       "<p>3561297 rows × 14 columns</p>\n",
       "</div>"
      ],
      "text/plain": [
       "           price            date  postcode property_type property_age ground  \\\n",
       "0          62750  95-10-02 00:00   BR3 4AT             T            N      F   \n",
       "1          78000  95-09-29 00:00  SW16 3BL             S            N      F   \n",
       "2          51000  95-10-31 00:00   UB5 5LH             S            N      F   \n",
       "3         405000  95-04-07 00:00    N1 2JU             S            N      F   \n",
       "4          60000  95-12-21 00:00   IG1 1PP             T            N      F   \n",
       "...          ...             ...       ...           ...          ...    ...   \n",
       "3623314  1180000  23-01-06 00:00   W12 7GR             F            N      L   \n",
       "3623315   365000  23-01-11 00:00    E4 9QB             F            N      L   \n",
       "3623316   370000  23-01-17 00:00   RM6 6SX             S            N      F   \n",
       "3623317   310000  23-01-06 00:00    E4 9SY             F            N      L   \n",
       "3623318   490000  23-01-13 00:00   RM1 4SR             T            N      F   \n",
       "\n",
       "                       street                 borough  year  month  day  \\\n",
       "0                   EDEN ROAD                 BROMLEY  1995     10    2   \n",
       "1                  GREEN LANE                 CROYDON  1995      9   29   \n",
       "2               BENGARTH ROAD                  EALING  1995     10   31   \n",
       "3        CANONBURY PARK NORTH               ISLINGTON  1995      4    7   \n",
       "4                HAMPTON ROAD               REDBRIDGE  1995     12   21   \n",
       "...                       ...                     ...   ...    ...  ...   \n",
       "3623314         WOOD CRESCENT  HAMMERSMITH AND FULHAM  2023      1    6   \n",
       "3623315         CASTLE AVENUE          WALTHAM FOREST  2023      1   11   \n",
       "3623316        HENLEY GARDENS    BARKING AND DAGENHAM  2023      1   17   \n",
       "3623317              NEW ROAD          WALTHAM FOREST  2023      1    6   \n",
       "3623318          HEATHER GLEN                HAVERING  2023      1   13   \n",
       "\n",
       "        full_property_number short2_pc short3_pc  \n",
       "0                         56        BR       BR3  \n",
       "1                        208        SW       SW1  \n",
       "2                         57        UB       UB5  \n",
       "3                         49        N1       N1   \n",
       "4                        209        IG       IG1  \n",
       "...                      ...       ...       ...  \n",
       "3623314       5APARTMENT 106        W1       W12  \n",
       "3623315        BAILEY COURT6        E4       E4   \n",
       "3623316                   12        RM       RM6  \n",
       "3623317                 108B        E4       E4   \n",
       "3623318                   12        RM       RM1  \n",
       "\n",
       "[3561297 rows x 14 columns]"
      ]
     },
     "execution_count": 80,
     "metadata": {},
     "output_type": "execute_result"
    }
   ],
   "source": [
    "df.dropna(axis=0, how='any')"
   ]
  },
  {
   "cell_type": "code",
   "execution_count": 83,
   "metadata": {},
   "outputs": [
    {
     "data": {
      "text/html": [
       "<div>\n",
       "<style scoped>\n",
       "    .dataframe tbody tr th:only-of-type {\n",
       "        vertical-align: middle;\n",
       "    }\n",
       "\n",
       "    .dataframe tbody tr th {\n",
       "        vertical-align: top;\n",
       "    }\n",
       "\n",
       "    .dataframe thead th {\n",
       "        text-align: right;\n",
       "    }\n",
       "</style>\n",
       "<table border=\"1\" class=\"dataframe\">\n",
       "  <thead>\n",
       "    <tr style=\"text-align: right;\">\n",
       "      <th></th>\n",
       "      <th>price</th>\n",
       "      <th>date</th>\n",
       "      <th>postcode</th>\n",
       "      <th>property_type</th>\n",
       "      <th>property_age</th>\n",
       "      <th>ground</th>\n",
       "      <th>year</th>\n",
       "      <th>month</th>\n",
       "    </tr>\n",
       "  </thead>\n",
       "  <tbody>\n",
       "    <tr>\n",
       "      <th>0</th>\n",
       "      <td>62750</td>\n",
       "      <td>95-10-02 00:00</td>\n",
       "      <td>BR3 4AT</td>\n",
       "      <td>T</td>\n",
       "      <td>N</td>\n",
       "      <td>F</td>\n",
       "      <td>1995</td>\n",
       "      <td>10</td>\n",
       "    </tr>\n",
       "    <tr>\n",
       "      <th>1</th>\n",
       "      <td>78000</td>\n",
       "      <td>95-09-29 00:00</td>\n",
       "      <td>SW16 3BL</td>\n",
       "      <td>S</td>\n",
       "      <td>N</td>\n",
       "      <td>F</td>\n",
       "      <td>1995</td>\n",
       "      <td>9</td>\n",
       "    </tr>\n",
       "    <tr>\n",
       "      <th>2</th>\n",
       "      <td>51000</td>\n",
       "      <td>95-10-31 00:00</td>\n",
       "      <td>UB5 5LH</td>\n",
       "      <td>S</td>\n",
       "      <td>N</td>\n",
       "      <td>F</td>\n",
       "      <td>1995</td>\n",
       "      <td>10</td>\n",
       "    </tr>\n",
       "    <tr>\n",
       "      <th>3</th>\n",
       "      <td>405000</td>\n",
       "      <td>95-04-07 00:00</td>\n",
       "      <td>N1 2JU</td>\n",
       "      <td>S</td>\n",
       "      <td>N</td>\n",
       "      <td>F</td>\n",
       "      <td>1995</td>\n",
       "      <td>4</td>\n",
       "    </tr>\n",
       "    <tr>\n",
       "      <th>4</th>\n",
       "      <td>60000</td>\n",
       "      <td>95-12-21 00:00</td>\n",
       "      <td>IG1 1PP</td>\n",
       "      <td>T</td>\n",
       "      <td>N</td>\n",
       "      <td>F</td>\n",
       "      <td>1995</td>\n",
       "      <td>12</td>\n",
       "    </tr>\n",
       "  </tbody>\n",
       "</table>\n",
       "</div>"
      ],
      "text/plain": [
       "    price            date  postcode property_type property_age ground  year  \\\n",
       "0   62750  95-10-02 00:00   BR3 4AT             T            N      F  1995   \n",
       "1   78000  95-09-29 00:00  SW16 3BL             S            N      F  1995   \n",
       "2   51000  95-10-31 00:00   UB5 5LH             S            N      F  1995   \n",
       "3  405000  95-04-07 00:00    N1 2JU             S            N      F  1995   \n",
       "4   60000  95-12-21 00:00   IG1 1PP             T            N      F  1995   \n",
       "\n",
       "   month  \n",
       "0     10  \n",
       "1      9  \n",
       "2     10  \n",
       "3      4  \n",
       "4     12  "
      ]
     },
     "execution_count": 83,
     "metadata": {},
     "output_type": "execute_result"
    }
   ],
   "source": [
    "tmp=df.drop(columns=['borough','street','day','full_property_number','short2_pc','short3_pc'])\n",
    "tmp.head()"
   ]
  },
  {
   "cell_type": "code",
   "execution_count": 129,
   "metadata": {},
   "outputs": [],
   "source": [
    "tmp.dropna(axis=0,how='any', inplace=True)\n",
    "tmp=tmp[tmp['property_type']!='O']\n",
    "tmp=tmp[tmp['ground']!='U']"
   ]
  },
  {
   "cell_type": "code",
   "execution_count": 91,
   "metadata": {},
   "outputs": [
    {
     "data": {
      "text/html": [
       "<div>\n",
       "<style scoped>\n",
       "    .dataframe tbody tr th:only-of-type {\n",
       "        vertical-align: middle;\n",
       "    }\n",
       "\n",
       "    .dataframe tbody tr th {\n",
       "        vertical-align: top;\n",
       "    }\n",
       "\n",
       "    .dataframe thead th {\n",
       "        text-align: right;\n",
       "    }\n",
       "</style>\n",
       "<table border=\"1\" class=\"dataframe\">\n",
       "  <thead>\n",
       "    <tr style=\"text-align: right;\">\n",
       "      <th></th>\n",
       "      <th>price</th>\n",
       "      <th>date</th>\n",
       "      <th>postcode</th>\n",
       "      <th>property_type</th>\n",
       "      <th>property_age</th>\n",
       "      <th>ground</th>\n",
       "      <th>year</th>\n",
       "      <th>month</th>\n",
       "    </tr>\n",
       "  </thead>\n",
       "  <tbody>\n",
       "    <tr>\n",
       "      <th>0</th>\n",
       "      <td>62750</td>\n",
       "      <td>95-10-02 00:00</td>\n",
       "      <td>BR3 4AT</td>\n",
       "      <td>T</td>\n",
       "      <td>N</td>\n",
       "      <td>F</td>\n",
       "      <td>1995</td>\n",
       "      <td>10</td>\n",
       "    </tr>\n",
       "    <tr>\n",
       "      <th>1</th>\n",
       "      <td>78000</td>\n",
       "      <td>95-09-29 00:00</td>\n",
       "      <td>SW16 3BL</td>\n",
       "      <td>S</td>\n",
       "      <td>N</td>\n",
       "      <td>F</td>\n",
       "      <td>1995</td>\n",
       "      <td>9</td>\n",
       "    </tr>\n",
       "    <tr>\n",
       "      <th>2</th>\n",
       "      <td>51000</td>\n",
       "      <td>95-10-31 00:00</td>\n",
       "      <td>UB5 5LH</td>\n",
       "      <td>S</td>\n",
       "      <td>N</td>\n",
       "      <td>F</td>\n",
       "      <td>1995</td>\n",
       "      <td>10</td>\n",
       "    </tr>\n",
       "    <tr>\n",
       "      <th>3</th>\n",
       "      <td>405000</td>\n",
       "      <td>95-04-07 00:00</td>\n",
       "      <td>N1 2JU</td>\n",
       "      <td>S</td>\n",
       "      <td>N</td>\n",
       "      <td>F</td>\n",
       "      <td>1995</td>\n",
       "      <td>4</td>\n",
       "    </tr>\n",
       "    <tr>\n",
       "      <th>4</th>\n",
       "      <td>60000</td>\n",
       "      <td>95-12-21 00:00</td>\n",
       "      <td>IG1 1PP</td>\n",
       "      <td>T</td>\n",
       "      <td>N</td>\n",
       "      <td>F</td>\n",
       "      <td>1995</td>\n",
       "      <td>12</td>\n",
       "    </tr>\n",
       "  </tbody>\n",
       "</table>\n",
       "</div>"
      ],
      "text/plain": [
       "    price            date  postcode property_type property_age ground  year  \\\n",
       "0   62750  95-10-02 00:00   BR3 4AT             T            N      F  1995   \n",
       "1   78000  95-09-29 00:00  SW16 3BL             S            N      F  1995   \n",
       "2   51000  95-10-31 00:00   UB5 5LH             S            N      F  1995   \n",
       "3  405000  95-04-07 00:00    N1 2JU             S            N      F  1995   \n",
       "4   60000  95-12-21 00:00   IG1 1PP             T            N      F  1995   \n",
       "\n",
       "   month  \n",
       "0     10  \n",
       "1      9  \n",
       "2     10  \n",
       "3      4  \n",
       "4     12  "
      ]
     },
     "execution_count": 91,
     "metadata": {},
     "output_type": "execute_result"
    }
   ],
   "source": [
    "tmp.head()"
   ]
  },
  {
   "cell_type": "code",
   "execution_count": 111,
   "metadata": {},
   "outputs": [
    {
     "data": {
      "text/plain": [
       "1218"
      ]
     },
     "execution_count": 111,
     "metadata": {},
     "output_type": "execute_result"
    }
   ],
   "source": [
    "df=pd.DataFrame(tmp)\n",
    "# exploring amount of flats w prices above 10M (a lot of historic data)\n",
    "len(df[df['price']>10_000_000])"
   ]
  },
  {
   "cell_type": "code",
   "execution_count": 128,
   "metadata": {},
   "outputs": [
    {
     "data": {
      "text/plain": [
       "1390721"
      ]
     },
     "execution_count": 128,
     "metadata": {},
     "output_type": "execute_result"
    }
   ],
   "source": [
    "# exploring amount of flats w prices below 200k (a lot of historic data)\n",
    "len(df[df['price']<200_000])"
   ]
  },
  {
   "cell_type": "markdown",
   "metadata": {},
   "source": [
    "# Using formulas to retrieve and clean data"
   ]
  },
  {
   "cell_type": "code",
   "execution_count": 4,
   "metadata": {},
   "outputs": [],
   "source": [
    "def load_csv():\n",
    "    ''' loads london csv file from raw_data folder '''\n",
    "    file='../raw_data/london_real_estate_data.zip'\n",
    "    df=pd.read_csv(file,\n",
    "                compression='zip',\n",
    "                dtype={'price': np.int32,'day':np.int16, 'month':np.int16,'year':np.int16}\n",
    "    )\n",
    "    return df\n",
    "\n",
    "# columns of tidy_df= ['price', 'date', 'postcode', 'property_type', 'property_age', 'ownership',\n",
    "#     'year', 'month']\n",
    "\n",
    "def tidy_df(df: pd.DataFrame) -> pd.DataFrame:\n",
    "    '''\n",
    "    takes london re df and deletes all columns not needed as features for model,\n",
    "    merges number and additional info to create new column and deleting the former individual ones,\n",
    "    and renames various columns.\n",
    "    '''\n",
    "\n",
    "    # replace nan values w empty strings\n",
    "    df.fillna({'additional_info':''}, inplace=True)\n",
    "    \n",
    "    # merging number and additional number\n",
    "    df['full_property_number']=df['number']+ '' + df['additional_info']\n",
    "\n",
    "    df.rename(columns={'district':'borough', 'ground':'ownership'}, inplace=True)\n",
    "\n",
    "    # dropping columns\n",
    "    df.drop(columns=['day', 'number', 'street', 'additional_info',\\\n",
    "        'full_property_number', 'borough', 'locality','town','county'], inplace=True)\n",
    "\n",
    "    # drop rows with NaN (3000 in postcode)\n",
    "    df.dropna(axis=0, how='any', inplace=True)\n",
    "\n",
    "    # dropping rows where 'type'=='O'\n",
    "    df=df[df['property_type']!='O']\n",
    "\n",
    "    # dropping rows where 'ownership' == 'U'\n",
    "    df=df[df['ownership']!='U']\n",
    "\n",
    "    return df"
   ]
  },
  {
   "cell_type": "code",
   "execution_count": 5,
   "metadata": {},
   "outputs": [],
   "source": [
    "df=load_csv()"
   ]
  },
  {
   "cell_type": "code",
   "execution_count": 6,
   "metadata": {},
   "outputs": [],
   "source": [
    "df=tidy_df(df)"
   ]
  },
  {
   "cell_type": "code",
   "execution_count": 8,
   "metadata": {},
   "outputs": [
    {
     "data": {
      "text/plain": [
       "(3563541, 8)"
      ]
     },
     "execution_count": 8,
     "metadata": {},
     "output_type": "execute_result"
    }
   ],
   "source": [
    "df.shape"
   ]
  },
  {
   "cell_type": "code",
   "execution_count": 10,
   "metadata": {},
   "outputs": [
    {
     "data": {
      "text/plain": [
       "price            0\n",
       "date             0\n",
       "postcode         0\n",
       "property_type    0\n",
       "property_age     0\n",
       "ownership        0\n",
       "year             0\n",
       "month            0\n",
       "dtype: int64"
      ]
     },
     "execution_count": 10,
     "metadata": {},
     "output_type": "execute_result"
    }
   ],
   "source": [
    "df.isna().sum()"
   ]
  },
  {
   "cell_type": "markdown",
   "metadata": {},
   "source": [
    "## Plotting distribution of prices (histogram)"
   ]
  },
  {
   "cell_type": "code",
   "execution_count": 16,
   "metadata": {},
   "outputs": [
    {
     "data": {
      "image/png": "[encoded data removed]",
      "text/plain": [
       "<Figure size 500x500 with 1 Axes>"
      ]
     },
     "metadata": {},
     "output_type": "display_data"
    }
   ],
   "source": [
    "sns.displot(data=df, x='price')\n",
    "#plt.ylim(5000,00_000)\n",
    "plt.xlim(50_000,100_000_000)\n",
    "plt.show()"
   ]
  },
  {
   "cell_type": "code",
   "execution_count": 20,
   "metadata": {},
   "outputs": [
    {
     "data": {
      "image/png": "[encoded data removed]",
      "text/plain": [
       "<Figure size 640x480 with 1 Axes>"
      ]
     },
     "metadata": {},
     "output_type": "display_data"
    }
   ],
   "source": [
    "sns.histplot(data=df, x='price', bins=40)\n",
    "#plt.ylim(5000,500_000)\n",
    "plt.xlim(30_000,100_000_000)\n",
    "plt.show()"
   ]
  },
  {
   "cell_type": "code",
   "execution_count": 12,
   "metadata": {},
   "outputs": [
    {
     "data": {
      "image/png": "[encoded data removed]",
      "text/plain": [
       "<Figure size 640x480 with 1 Axes>"
      ]
     },
     "metadata": {},
     "output_type": "display_data"
    }
   ],
   "source": [
    "plt.hist(df['price'], bins=30)\n",
    "plt.ylim(5000,500_000)\n",
    "plt.xlim(50_000,100_000_000)\n",
    "plt.show()"
   ]
  },
  {
   "cell_type": "code",
   "execution_count": 138,
   "metadata": {},
   "outputs": [
    {
     "data": {
      "image/png": "[encoded data removed]",
      "text/plain": [
       "<Figure size 640x480 with 2 Axes>"
      ]
     },
     "metadata": {},
     "output_type": "display_data"
    }
   ],
   "source": [
    "fig, axs = plt.subplots(1, 2, sharey=True, tight_layout=True)\n",
    "# We can set the number of bins with the *bins* keyword argument.\n",
    "axs[0].hist(df['price'], bins=30)\n",
    "#axs[1].hist(dist2, bins=30)\n",
    "axs[0].set_ylim(5000,500_000)\n",
    "axs[0].set_xlim(50_000,100_000_000)\n",
    "plt.show()"
   ]
  },
  {
   "cell_type": "code",
   "execution_count": 13,
   "metadata": {},
   "outputs": [
    {
     "ename": "ModuleNotFoundError",
     "evalue": "No module named 'tenacity.asyncio'",
     "output_type": "error",
     "traceback": [
      "\u001b[0;31m---------------------------------------------------------------------------\u001b[0m",
      "\u001b[0;31mModuleNotFoundError\u001b[0m                       Traceback (most recent call last)",
      "Cell \u001b[0;32mIn[13], line 2\u001b[0m\n\u001b[1;32m      1\u001b[0m fig \u001b[38;5;241m=\u001b[39m px\u001b[38;5;241m.\u001b[39mhistogram(df, x\u001b[38;5;241m=\u001b[39m\u001b[38;5;124m\"\u001b[39m\u001b[38;5;124mprice\u001b[39m\u001b[38;5;124m\"\u001b[39m)\n\u001b[0;32m----> 2\u001b[0m \u001b[43mfig\u001b[49m\u001b[38;5;241;43m.\u001b[39;49m\u001b[43mshow\u001b[49m\u001b[43m(\u001b[49m\u001b[43m)\u001b[49m\n",
      "File \u001b[0;32m~/.pyenv/versions/3.10.6/envs/re_value_predictor/lib/python3.10/site-packages/plotly/basedatatypes.py:3410\u001b[0m, in \u001b[0;36mBaseFigure.show\u001b[0;34m(self, *args, **kwargs)\u001b[0m\n\u001b[1;32m   3377\u001b[0m \u001b[38;5;250m\u001b[39m\u001b[38;5;124;03m\"\"\"\u001b[39;00m\n\u001b[1;32m   3378\u001b[0m \u001b[38;5;124;03mShow a figure using either the default renderer(s) or the renderer(s)\u001b[39;00m\n\u001b[1;32m   3379\u001b[0m \u001b[38;5;124;03mspecified by the renderer argument\u001b[39;00m\n\u001b[0;32m   (...)\u001b[0m\n\u001b[1;32m   3406\u001b[0m \u001b[38;5;124;03mNone\u001b[39;00m\n\u001b[1;32m   3407\u001b[0m \u001b[38;5;124;03m\"\"\"\u001b[39;00m\n\u001b[1;32m   3408\u001b[0m \u001b[38;5;28;01mimport\u001b[39;00m \u001b[38;5;21;01mplotly\u001b[39;00m\u001b[38;5;21;01m.\u001b[39;00m\u001b[38;5;21;01mio\u001b[39;00m \u001b[38;5;28;01mas\u001b[39;00m \u001b[38;5;21;01mpio\u001b[39;00m\n\u001b[0;32m-> 3410\u001b[0m \u001b[38;5;28;01mreturn\u001b[39;00m \u001b[43mpio\u001b[49m\u001b[38;5;241;43m.\u001b[39;49m\u001b[43mshow\u001b[49m(\u001b[38;5;28mself\u001b[39m, \u001b[38;5;241m*\u001b[39margs, \u001b[38;5;241m*\u001b[39m\u001b[38;5;241m*\u001b[39mkwargs)\n",
      "File \u001b[0;32m~/.pyenv/versions/3.10.6/envs/re_value_predictor/lib/python3.10/site-packages/_plotly_utils/importers.py:36\u001b[0m, in \u001b[0;36mrelative_import.<locals>.__getattr__\u001b[0;34m(import_name)\u001b[0m\n\u001b[1;32m     34\u001b[0m     rel_module \u001b[38;5;241m=\u001b[39m \u001b[38;5;124m\"\u001b[39m\u001b[38;5;124m.\u001b[39m\u001b[38;5;124m\"\u001b[39m\u001b[38;5;241m.\u001b[39mjoin(rel_path_parts[:\u001b[38;5;241m-\u001b[39m\u001b[38;5;241m1\u001b[39m])\n\u001b[1;32m     35\u001b[0m     class_name \u001b[38;5;241m=\u001b[39m import_name\n\u001b[0;32m---> 36\u001b[0m     class_module \u001b[38;5;241m=\u001b[39m \u001b[43mimportlib\u001b[49m\u001b[38;5;241;43m.\u001b[39;49m\u001b[43mimport_module\u001b[49m\u001b[43m(\u001b[49m\u001b[43mrel_module\u001b[49m\u001b[43m,\u001b[49m\u001b[43m \u001b[49m\u001b[43mparent_name\u001b[49m\u001b[43m)\u001b[49m\n\u001b[1;32m     37\u001b[0m     \u001b[38;5;28;01mreturn\u001b[39;00m \u001b[38;5;28mgetattr\u001b[39m(class_module, class_name)\n\u001b[1;32m     39\u001b[0m \u001b[38;5;28;01mraise\u001b[39;00m \u001b[38;5;167;01mAttributeError\u001b[39;00m(\n\u001b[1;32m     40\u001b[0m     \u001b[38;5;124m\"\u001b[39m\u001b[38;5;124mmodule \u001b[39m\u001b[38;5;132;01m{__name__!r}\u001b[39;00m\u001b[38;5;124m has no attribute \u001b[39m\u001b[38;5;132;01m{name!r}\u001b[39;00m\u001b[38;5;124m\"\u001b[39m\u001b[38;5;241m.\u001b[39mformat(\n\u001b[1;32m     41\u001b[0m         name\u001b[38;5;241m=\u001b[39mimport_name, \u001b[38;5;18m__name__\u001b[39m\u001b[38;5;241m=\u001b[39mparent_name\n\u001b[1;32m     42\u001b[0m     )\n\u001b[1;32m     43\u001b[0m )\n",
      "File \u001b[0;32m~/.pyenv/versions/3.10.6/lib/python3.10/importlib/__init__.py:126\u001b[0m, in \u001b[0;36mimport_module\u001b[0;34m(name, package)\u001b[0m\n\u001b[1;32m    124\u001b[0m             \u001b[38;5;28;01mbreak\u001b[39;00m\n\u001b[1;32m    125\u001b[0m         level \u001b[38;5;241m+\u001b[39m\u001b[38;5;241m=\u001b[39m \u001b[38;5;241m1\u001b[39m\n\u001b[0;32m--> 126\u001b[0m \u001b[38;5;28;01mreturn\u001b[39;00m \u001b[43m_bootstrap\u001b[49m\u001b[38;5;241;43m.\u001b[39;49m\u001b[43m_gcd_import\u001b[49m\u001b[43m(\u001b[49m\u001b[43mname\u001b[49m\u001b[43m[\u001b[49m\u001b[43mlevel\u001b[49m\u001b[43m:\u001b[49m\u001b[43m]\u001b[49m\u001b[43m,\u001b[49m\u001b[43m \u001b[49m\u001b[43mpackage\u001b[49m\u001b[43m,\u001b[49m\u001b[43m \u001b[49m\u001b[43mlevel\u001b[49m\u001b[43m)\u001b[49m\n",
      "File \u001b[0;32m<frozen importlib._bootstrap>:1050\u001b[0m, in \u001b[0;36m_gcd_import\u001b[0;34m(name, package, level)\u001b[0m\n",
      "File \u001b[0;32m<frozen importlib._bootstrap>:1027\u001b[0m, in \u001b[0;36m_find_and_load\u001b[0;34m(name, import_)\u001b[0m\n",
      "File \u001b[0;32m<frozen importlib._bootstrap>:1006\u001b[0m, in \u001b[0;36m_find_and_load_unlocked\u001b[0;34m(name, import_)\u001b[0m\n",
      "File \u001b[0;32m<frozen importlib._bootstrap>:688\u001b[0m, in \u001b[0;36m_load_unlocked\u001b[0;34m(spec)\u001b[0m\n",
      "File \u001b[0;32m<frozen importlib._bootstrap_external>:883\u001b[0m, in \u001b[0;36mexec_module\u001b[0;34m(self, module)\u001b[0m\n",
      "File \u001b[0;32m<frozen importlib._bootstrap>:241\u001b[0m, in \u001b[0;36m_call_with_frames_removed\u001b[0;34m(f, *args, **kwds)\u001b[0m\n",
      "File \u001b[0;32m~/.pyenv/versions/3.10.6/envs/re_value_predictor/lib/python3.10/site-packages/plotly/io/_renderers.py:9\u001b[0m\n\u001b[1;32m      5\u001b[0m \u001b[38;5;28;01mfrom\u001b[39;00m \u001b[38;5;21;01mpackaging\u001b[39;00m\u001b[38;5;21;01m.\u001b[39;00m\u001b[38;5;21;01mversion\u001b[39;00m \u001b[38;5;28;01mimport\u001b[39;00m Version\n\u001b[1;32m      7\u001b[0m \u001b[38;5;28;01mfrom\u001b[39;00m \u001b[38;5;21;01mplotly\u001b[39;00m \u001b[38;5;28;01mimport\u001b[39;00m optional_imports\n\u001b[0;32m----> 9\u001b[0m \u001b[38;5;28;01mfrom\u001b[39;00m \u001b[38;5;21;01mplotly\u001b[39;00m\u001b[38;5;21;01m.\u001b[39;00m\u001b[38;5;21;01mio\u001b[39;00m\u001b[38;5;21;01m.\u001b[39;00m\u001b[38;5;21;01m_base_renderers\u001b[39;00m \u001b[38;5;28;01mimport\u001b[39;00m (\n\u001b[1;32m     10\u001b[0m     MimetypeRenderer,\n\u001b[1;32m     11\u001b[0m     ExternalRenderer,\n\u001b[1;32m     12\u001b[0m     PlotlyRenderer,\n\u001b[1;32m     13\u001b[0m     NotebookRenderer,\n\u001b[1;32m     14\u001b[0m     KaggleRenderer,\n\u001b[1;32m     15\u001b[0m     AzureRenderer,\n\u001b[1;32m     16\u001b[0m     ColabRenderer,\n\u001b[1;32m     17\u001b[0m     JsonRenderer,\n\u001b[1;32m     18\u001b[0m     PngRenderer,\n\u001b[1;32m     19\u001b[0m     JpegRenderer,\n\u001b[1;32m     20\u001b[0m     SvgRenderer,\n\u001b[1;32m     21\u001b[0m     PdfRenderer,\n\u001b[1;32m     22\u001b[0m     BrowserRenderer,\n\u001b[1;32m     23\u001b[0m     IFrameRenderer,\n\u001b[1;32m     24\u001b[0m     SphinxGalleryHtmlRenderer,\n\u001b[1;32m     25\u001b[0m     SphinxGalleryOrcaRenderer,\n\u001b[1;32m     26\u001b[0m     CoCalcRenderer,\n\u001b[1;32m     27\u001b[0m     DatabricksRenderer,\n\u001b[1;32m     28\u001b[0m )\n\u001b[1;32m     29\u001b[0m \u001b[38;5;28;01mfrom\u001b[39;00m \u001b[38;5;21;01mplotly\u001b[39;00m\u001b[38;5;21;01m.\u001b[39;00m\u001b[38;5;21;01mio\u001b[39;00m\u001b[38;5;21;01m.\u001b[39;00m\u001b[38;5;21;01m_utils\u001b[39;00m \u001b[38;5;28;01mimport\u001b[39;00m validate_coerce_fig_to_dict\n\u001b[1;32m     31\u001b[0m ipython \u001b[38;5;241m=\u001b[39m optional_imports\u001b[38;5;241m.\u001b[39mget_module(\u001b[38;5;124m\"\u001b[39m\u001b[38;5;124mIPython\u001b[39m\u001b[38;5;124m\"\u001b[39m)\n",
      "File \u001b[0;32m~/.pyenv/versions/3.10.6/envs/re_value_predictor/lib/python3.10/site-packages/plotly/io/_base_renderers.py:10\u001b[0m\n\u001b[1;32m      8\u001b[0m \u001b[38;5;28;01mfrom\u001b[39;00m \u001b[38;5;21;01mplotly\u001b[39;00m \u001b[38;5;28;01mimport\u001b[39;00m utils, optional_imports\n\u001b[1;32m      9\u001b[0m \u001b[38;5;28;01mfrom\u001b[39;00m \u001b[38;5;21;01mplotly\u001b[39;00m\u001b[38;5;21;01m.\u001b[39;00m\u001b[38;5;21;01mio\u001b[39;00m \u001b[38;5;28;01mimport\u001b[39;00m to_json, to_image, write_image, write_html\n\u001b[0;32m---> 10\u001b[0m \u001b[38;5;28;01mfrom\u001b[39;00m \u001b[38;5;21;01mplotly\u001b[39;00m\u001b[38;5;21;01m.\u001b[39;00m\u001b[38;5;21;01mio\u001b[39;00m\u001b[38;5;21;01m.\u001b[39;00m\u001b[38;5;21;01m_orca\u001b[39;00m \u001b[38;5;28;01mimport\u001b[39;00m ensure_server\n\u001b[1;32m     11\u001b[0m \u001b[38;5;28;01mfrom\u001b[39;00m \u001b[38;5;21;01mplotly\u001b[39;00m\u001b[38;5;21;01m.\u001b[39;00m\u001b[38;5;21;01mio\u001b[39;00m\u001b[38;5;21;01m.\u001b[39;00m\u001b[38;5;21;01m_utils\u001b[39;00m \u001b[38;5;28;01mimport\u001b[39;00m plotly_cdn_url\n\u001b[1;32m     12\u001b[0m \u001b[38;5;28;01mfrom\u001b[39;00m \u001b[38;5;21;01mplotly\u001b[39;00m\u001b[38;5;21;01m.\u001b[39;00m\u001b[38;5;21;01moffline\u001b[39;00m\u001b[38;5;21;01m.\u001b[39;00m\u001b[38;5;21;01moffline\u001b[39;00m \u001b[38;5;28;01mimport\u001b[39;00m _get_jconfig, get_plotlyjs\n",
      "File \u001b[0;32m~/.pyenv/versions/3.10.6/envs/re_value_predictor/lib/python3.10/site-packages/plotly/io/_orca.py:14\u001b[0m\n\u001b[1;32m     11\u001b[0m \u001b[38;5;28;01mfrom\u001b[39;00m \u001b[38;5;21;01mpathlib\u001b[39;00m \u001b[38;5;28;01mimport\u001b[39;00m Path\n\u001b[1;32m     12\u001b[0m \u001b[38;5;28;01mfrom\u001b[39;00m \u001b[38;5;21;01mshutil\u001b[39;00m \u001b[38;5;28;01mimport\u001b[39;00m which\n\u001b[0;32m---> 14\u001b[0m \u001b[38;5;28;01mimport\u001b[39;00m \u001b[38;5;21;01mtenacity\u001b[39;00m\n\u001b[1;32m     16\u001b[0m \u001b[38;5;28;01mimport\u001b[39;00m \u001b[38;5;21;01mplotly\u001b[39;00m\n\u001b[1;32m     17\u001b[0m \u001b[38;5;28;01mfrom\u001b[39;00m \u001b[38;5;21;01mplotly\u001b[39;00m\u001b[38;5;21;01m.\u001b[39;00m\u001b[38;5;21;01mfiles\u001b[39;00m \u001b[38;5;28;01mimport\u001b[39;00m PLOTLY_DIR, ensure_writable_plotly_dir\n",
      "File \u001b[0;32m~/.pyenv/versions/3.10.6/envs/re_value_predictor/lib/python3.10/site-packages/tenacity/__init__.py:653\u001b[0m\n\u001b[1;32m    648\u001b[0m             \u001b[38;5;28;01mreturn\u001b[39;00m r\u001b[38;5;241m.\u001b[39mwraps(f)\n\u001b[1;32m    650\u001b[0m         \u001b[38;5;28;01mreturn\u001b[39;00m wrap\n\u001b[0;32m--> 653\u001b[0m \u001b[38;5;28;01mfrom\u001b[39;00m \u001b[38;5;21;01mtenacity\u001b[39;00m\u001b[38;5;21;01m.\u001b[39;00m\u001b[38;5;21;01masyncio\u001b[39;00m \u001b[38;5;28;01mimport\u001b[39;00m AsyncRetrying  \u001b[38;5;66;03m# noqa:E402,I100\u001b[39;00m\n\u001b[1;32m    655\u001b[0m \u001b[38;5;28;01mif\u001b[39;00m tornado:\n\u001b[1;32m    656\u001b[0m     \u001b[38;5;28;01mfrom\u001b[39;00m \u001b[38;5;21;01mtenacity\u001b[39;00m\u001b[38;5;21;01m.\u001b[39;00m\u001b[38;5;21;01mtornadoweb\u001b[39;00m \u001b[38;5;28;01mimport\u001b[39;00m TornadoRetrying\n",
      "\u001b[0;31mModuleNotFoundError\u001b[0m: No module named 'tenacity.asyncio'"
     ]
    }
   ],
   "source": [
    "fig = px.histogram(df, x=\"price\")\n",
    "fig.show()"
   ]
  },
  {
   "cell_type": "code",
   "execution_count": null,
   "metadata": {},
   "outputs": [],
   "source": []
  }
 ],
 "metadata": {
  "kernelspec": {
   "display_name": "Python 3 (ipykernel)",
   "language": "python",
   "name": "python3"
  },
  "language_info": {
   "codemirror_mode": {
    "name": "ipython",
    "version": 3
   },
   "file_extension": ".py",
   "mimetype": "text/x-python",
   "name": "python",
   "nbconvert_exporter": "python",
   "pygments_lexer": "ipython3",
   "version": "3.10.6"
  },
  "widgets": {
   "application/vnd.jupyter.widget-state+json": {
    "state": {},
    "version_major": 2,
    "version_minor": 0
   }
  }
 },
 "nbformat": 4,
 "nbformat_minor": 4
}
