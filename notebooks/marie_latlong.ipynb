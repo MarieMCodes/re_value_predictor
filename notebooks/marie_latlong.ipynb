{
 "cells": [
  {
   "cell_type": "markdown",
   "metadata": {},
   "source": [
    "### Imports"
   ]
  },
  {
   "cell_type": "code",
   "execution_count": 8,
   "metadata": {},
   "outputs": [],
   "source": [
    "import requests\n",
    "import pandas as pd\n",
    "import numpy as np"
   ]
  },
  {
   "cell_type": "code",
   "execution_count": 145,
   "metadata": {},
   "outputs": [
    {
     "name": "stdout",
     "output_type": "stream",
     "text": [
      "/Users/Marie/code/MarieMCodes/re_value_predictor\n"
     ]
    },
    {
     "name": "stderr",
     "output_type": "stream",
     "text": [
      "/Users/Marie/.pyenv/versions/3.10.6/envs/re_value_predictor/lib/python3.10/site-packages/IPython/core/magics/osm.py:417: UserWarning: This is now an optional IPython functionality, setting dhist requires you to install the `pickleshare` library.\n",
      "  self.shell.db['dhist'] = compress_dhist(dhist)[-100:]\n"
     ]
    }
   ],
   "source": [
    "%cd .."
   ]
  },
  {
   "cell_type": "code",
   "execution_count": 155,
   "metadata": {},
   "outputs": [],
   "source": [
    "from project_code.data import load_csv, tidy_df"
   ]
  },
  {
   "cell_type": "code",
   "execution_count": 156,
   "metadata": {},
   "outputs": [
    {
     "name": "stdout",
     "output_type": "stream",
     "text": [
      "The autoreload extension is already loaded. To reload it, use:\n",
      "  %reload_ext autoreload\n"
     ]
    }
   ],
   "source": [
    "#%load_ext autoreload\n",
    "#%autoreload 2"
   ]
  },
  {
   "cell_type": "markdown",
   "metadata": {},
   "source": [
    "### Build and test API function"
   ]
  },
  {
   "cell_type": "code",
   "execution_count": null,
   "metadata": {},
   "outputs": [],
   "source": [
    "# sample http request\n",
    "#https://nominatim.openstreetmap.org/search.php?q=26+corporation+street+london&dedupe=0&limit=3&format=jsonv2"
   ]
  },
  {
   "cell_type": "code",
   "execution_count": 99,
   "metadata": {},
   "outputs": [],
   "source": [
    "def get_lat(address):\n",
    "    url=\"https://nominatim.openstreetmap.org/\"\n",
    "    params={\"q\": address, \"format\": \"json\"}\n",
    "    response=requests.get(url,params=params).json()\n",
    "    lat=response[0][\"lat\"]\n",
    "    return lat\n",
    "\n",
    "#url=f\"https://nominatim.openstreetmap.org/search?q={address}&format=json\""
   ]
  },
  {
   "cell_type": "code",
   "execution_count": 93,
   "metadata": {},
   "outputs": [],
   "source": [
    "def get_lon(address):\n",
    "    url=\"https://nominatim.openstreetmap.org/\"\n",
    "    params={\"q\": address, \"format\": \"json\"}\n",
    "    response=requests.get(url,params=params).json()\n",
    "    lon=response[0][\"lon\"]\n",
    "    return lon\n"
   ]
  },
  {
   "cell_type": "code",
   "execution_count": 35,
   "metadata": {},
   "outputs": [
    {
     "data": {
      "text/plain": [
       "'10 oxford street'"
      ]
     },
     "execution_count": 35,
     "metadata": {},
     "output_type": "execute_result"
    }
   ],
   "source": [
    "test['street_name'][1]"
   ]
  },
  {
   "cell_type": "code",
   "execution_count": 223,
   "metadata": {},
   "outputs": [],
   "source": [
    "def get_coordinates(address):\n",
    "    url=\"https://nominatim.openstreetmap.org/\"\n",
    "    try:\n",
    "        params={\"q\": address, \"format\": \"json\"}\n",
    "        response=requests.get(url,params=params).json()\n",
    "        lat=response[0][\"lat\"]\n",
    "        lon=response[0][\"lon\"]\n",
    "        full_address=response[0][\"display_name\"]\n",
    "        return lat, lon, full_address\n",
    "    except:\n",
    "        return \"ERROR\"\n",
    "        "
   ]
  },
  {
   "cell_type": "code",
   "execution_count": 188,
   "metadata": {},
   "outputs": [
    {
     "data": {
      "text/plain": [
       "('51.53216985',\n",
       " '0.01500748219379946',\n",
       " '2, Corporation Street, West Ham, London Borough of Newham, London, Greater London, England, E15 3DY, United Kingdom')"
      ]
     },
     "execution_count": 188,
     "metadata": {},
     "output_type": "execute_result"
    }
   ],
   "source": [
    "address='2 CORPORATION STREET, London, N7 9EE'\n",
    "#get_lat(address) \n",
    "#get_lon(address)\n",
    "get_coordinates(address)"
   ]
  },
  {
   "cell_type": "code",
   "execution_count": 56,
   "metadata": {},
   "outputs": [],
   "source": [
    "test=pd.DataFrame({'street_name':['2 corporation street', '10 oxford street', '3 ranston street']})\n",
    "test['lat']=''\n",
    "test['lon']=''"
   ]
  },
  {
   "cell_type": "code",
   "execution_count": 57,
   "metadata": {},
   "outputs": [
    {
     "data": {
      "text/html": [
       "<div>\n",
       "<style scoped>\n",
       "    .dataframe tbody tr th:only-of-type {\n",
       "        vertical-align: middle;\n",
       "    }\n",
       "\n",
       "    .dataframe tbody tr th {\n",
       "        vertical-align: top;\n",
       "    }\n",
       "\n",
       "    .dataframe thead th {\n",
       "        text-align: right;\n",
       "    }\n",
       "</style>\n",
       "<table border=\"1\" class=\"dataframe\">\n",
       "  <thead>\n",
       "    <tr style=\"text-align: right;\">\n",
       "      <th></th>\n",
       "      <th>street_name</th>\n",
       "      <th>lat</th>\n",
       "      <th>lon</th>\n",
       "    </tr>\n",
       "  </thead>\n",
       "  <tbody>\n",
       "    <tr>\n",
       "      <th>0</th>\n",
       "      <td>2 corporation street</td>\n",
       "      <td></td>\n",
       "      <td></td>\n",
       "    </tr>\n",
       "    <tr>\n",
       "      <th>1</th>\n",
       "      <td>10 oxford street</td>\n",
       "      <td></td>\n",
       "      <td></td>\n",
       "    </tr>\n",
       "    <tr>\n",
       "      <th>2</th>\n",
       "      <td>3 ranston street</td>\n",
       "      <td></td>\n",
       "      <td></td>\n",
       "    </tr>\n",
       "  </tbody>\n",
       "</table>\n",
       "</div>"
      ],
      "text/plain": [
       "            street_name lat lon\n",
       "0  2 corporation street        \n",
       "1      10 oxford street        \n",
       "2      3 ranston street        "
      ]
     },
     "execution_count": 57,
     "metadata": {},
     "output_type": "execute_result"
    }
   ],
   "source": [
    "test"
   ]
  },
  {
   "cell_type": "code",
   "execution_count": 91,
   "metadata": {},
   "outputs": [],
   "source": [
    "# Make API call and fill new column in df with results\n",
    "test['lat']=test['street_name'].apply(get_lat)"
   ]
  },
  {
   "cell_type": "code",
   "execution_count": 158,
   "metadata": {},
   "outputs": [],
   "source": [
    "test['lat_lon_a']=test['street_name'].apply(get_coordinates)"
   ]
  },
  {
   "cell_type": "code",
   "execution_count": 102,
   "metadata": {},
   "outputs": [],
   "source": [
    "test['lon']=test['street_name'].apply(get_lon)\n",
    "# now separate list out into 2 fields as float \n",
    "test"
   ]
  },
  {
   "cell_type": "code",
   "execution_count": 159,
   "metadata": {},
   "outputs": [],
   "source": [
    "test['lat1']=test['lat_lon_a'].apply(lambda x: x[0])\n",
    "test['lon2']=test['lat_lon_a'].apply(lambda x: x[1])\n",
    "test['full_address_api']=test['lat_lon_a'].apply(lambda x: x[2])"
   ]
  },
  {
   "cell_type": "code",
   "execution_count": 160,
   "metadata": {},
   "outputs": [
    {
     "data": {
      "text/html": [
       "<div>\n",
       "<style scoped>\n",
       "    .dataframe tbody tr th:only-of-type {\n",
       "        vertical-align: middle;\n",
       "    }\n",
       "\n",
       "    .dataframe tbody tr th {\n",
       "        vertical-align: top;\n",
       "    }\n",
       "\n",
       "    .dataframe thead th {\n",
       "        text-align: right;\n",
       "    }\n",
       "</style>\n",
       "<table border=\"1\" class=\"dataframe\">\n",
       "  <thead>\n",
       "    <tr style=\"text-align: right;\">\n",
       "      <th></th>\n",
       "      <th>street_name</th>\n",
       "      <th>lat</th>\n",
       "      <th>lon</th>\n",
       "      <th>lat_lon</th>\n",
       "      <th>lat1</th>\n",
       "      <th>lon2</th>\n",
       "      <th>lat_lon_a</th>\n",
       "      <th>full_address_api</th>\n",
       "    </tr>\n",
       "  </thead>\n",
       "  <tbody>\n",
       "    <tr>\n",
       "      <th>0</th>\n",
       "      <td>2 corporation street</td>\n",
       "      <td>53.5377638</td>\n",
       "      <td>-2.6335841399051487</td>\n",
       "      <td>(53.5377638, -2.6335841399051487)</td>\n",
       "      <td>53.5377638</td>\n",
       "      <td>-2.6335841399051487</td>\n",
       "      <td>(53.5377638, -2.6335841399051487, Philbin Offi...</td>\n",
       "      <td>Philbin Office, 2, Corporation Street, Wigan P...</td>\n",
       "    </tr>\n",
       "    <tr>\n",
       "      <th>1</th>\n",
       "      <td>10 oxford street</td>\n",
       "      <td>-36.1572186</td>\n",
       "      <td>174.2378783</td>\n",
       "      <td>(-36.1572186, 174.2378783)</td>\n",
       "      <td>-36.1572186</td>\n",
       "      <td>174.2378783</td>\n",
       "      <td>(-36.1572186, 174.2378783, 10, Oxford Street, ...</td>\n",
       "      <td>10, Oxford Street, Whakapirau, Pahi, Kaipara D...</td>\n",
       "    </tr>\n",
       "    <tr>\n",
       "      <th>2</th>\n",
       "      <td>3 ranston street</td>\n",
       "      <td>51.521691000000004</td>\n",
       "      <td>-0.1676722360616832</td>\n",
       "      <td>(51.521691000000004, -0.1676722360616832)</td>\n",
       "      <td>51.521691000000004</td>\n",
       "      <td>-0.1676722360616832</td>\n",
       "      <td>(51.521691000000004, -0.1676722360616832, 3, R...</td>\n",
       "      <td>3, Ranston Street, St. John's Wood, London, Gr...</td>\n",
       "    </tr>\n",
       "  </tbody>\n",
       "</table>\n",
       "</div>"
      ],
      "text/plain": [
       "            street_name                 lat                  lon  \\\n",
       "0  2 corporation street          53.5377638  -2.6335841399051487   \n",
       "1      10 oxford street         -36.1572186          174.2378783   \n",
       "2      3 ranston street  51.521691000000004  -0.1676722360616832   \n",
       "\n",
       "                                     lat_lon                lat1  \\\n",
       "0          (53.5377638, -2.6335841399051487)          53.5377638   \n",
       "1                 (-36.1572186, 174.2378783)         -36.1572186   \n",
       "2  (51.521691000000004, -0.1676722360616832)  51.521691000000004   \n",
       "\n",
       "                  lon2                                          lat_lon_a  \\\n",
       "0  -2.6335841399051487  (53.5377638, -2.6335841399051487, Philbin Offi...   \n",
       "1          174.2378783  (-36.1572186, 174.2378783, 10, Oxford Street, ...   \n",
       "2  -0.1676722360616832  (51.521691000000004, -0.1676722360616832, 3, R...   \n",
       "\n",
       "                                    full_address_api  \n",
       "0  Philbin Office, 2, Corporation Street, Wigan P...  \n",
       "1  10, Oxford Street, Whakapirau, Pahi, Kaipara D...  \n",
       "2  3, Ranston Street, St. John's Wood, London, Gr...  "
      ]
     },
     "execution_count": 160,
     "metadata": {},
     "output_type": "execute_result"
    }
   ],
   "source": [
    "test"
   ]
  },
  {
   "cell_type": "code",
   "execution_count": 87,
   "metadata": {},
   "outputs": [
    {
     "data": {
      "text/plain": [
       "'51.53216985'"
      ]
     },
     "execution_count": 87,
     "metadata": {},
     "output_type": "execute_result"
    }
   ],
   "source": [
    "get_coordinate('2 Corporation Street London')"
   ]
  },
  {
   "cell_type": "markdown",
   "metadata": {},
   "source": [
    "### Get DF and explore same street name - different postcode scenario"
   ]
  },
  {
   "cell_type": "code",
   "execution_count": 169,
   "metadata": {},
   "outputs": [],
   "source": [
    "data=load_csv()"
   ]
  },
  {
   "cell_type": "code",
   "execution_count": 170,
   "metadata": {},
   "outputs": [],
   "source": [
    "df=tidy_df(data)"
   ]
  },
  {
   "cell_type": "code",
   "execution_count": 163,
   "metadata": {},
   "outputs": [
    {
     "name": "stdout",
     "output_type": "stream",
     "text": [
      "/Users/Marie/code/MarieMCodes/re_value_predictor\n"
     ]
    }
   ],
   "source": [
    "!pwd"
   ]
  },
  {
   "cell_type": "code",
   "execution_count": 171,
   "metadata": {},
   "outputs": [
    {
     "data": {
      "text/html": [
       "<div>\n",
       "<style scoped>\n",
       "    .dataframe tbody tr th:only-of-type {\n",
       "        vertical-align: middle;\n",
       "    }\n",
       "\n",
       "    .dataframe tbody tr th {\n",
       "        vertical-align: top;\n",
       "    }\n",
       "\n",
       "    .dataframe thead th {\n",
       "        text-align: right;\n",
       "    }\n",
       "</style>\n",
       "<table border=\"1\" class=\"dataframe\">\n",
       "  <thead>\n",
       "    <tr style=\"text-align: right;\">\n",
       "      <th></th>\n",
       "      <th>price</th>\n",
       "      <th>date</th>\n",
       "      <th>postcode</th>\n",
       "      <th>property_type</th>\n",
       "      <th>property_age</th>\n",
       "      <th>ownership</th>\n",
       "      <th>number</th>\n",
       "      <th>additional_info</th>\n",
       "      <th>street</th>\n",
       "      <th>locality</th>\n",
       "      <th>town</th>\n",
       "      <th>borough</th>\n",
       "      <th>county</th>\n",
       "      <th>year</th>\n",
       "      <th>month</th>\n",
       "      <th>day</th>\n",
       "      <th>full_property_number</th>\n",
       "    </tr>\n",
       "  </thead>\n",
       "  <tbody>\n",
       "    <tr>\n",
       "      <th>3</th>\n",
       "      <td>405000</td>\n",
       "      <td>95-04-07 00:00</td>\n",
       "      <td>N1 2JU</td>\n",
       "      <td>S</td>\n",
       "      <td>N</td>\n",
       "      <td>F</td>\n",
       "      <td>49</td>\n",
       "      <td></td>\n",
       "      <td>CANONBURY PARK NORTH</td>\n",
       "      <td>LONDON</td>\n",
       "      <td>LONDON</td>\n",
       "      <td>ISLINGTON</td>\n",
       "      <td>GREATER LONDON</td>\n",
       "      <td>1995</td>\n",
       "      <td>4</td>\n",
       "      <td>7</td>\n",
       "      <td>49</td>\n",
       "    </tr>\n",
       "    <tr>\n",
       "      <th>120</th>\n",
       "      <td>620000</td>\n",
       "      <td>95-09-01 00:00</td>\n",
       "      <td>SW15 2NU</td>\n",
       "      <td>T</td>\n",
       "      <td>N</td>\n",
       "      <td>F</td>\n",
       "      <td>77</td>\n",
       "      <td></td>\n",
       "      <td>DEODAR ROAD</td>\n",
       "      <td>LONDON</td>\n",
       "      <td>LONDON</td>\n",
       "      <td>WANDSWORTH</td>\n",
       "      <td>GREATER LONDON</td>\n",
       "      <td>1995</td>\n",
       "      <td>9</td>\n",
       "      <td>1</td>\n",
       "      <td>77</td>\n",
       "    </tr>\n",
       "    <tr>\n",
       "      <th>132</th>\n",
       "      <td>200500</td>\n",
       "      <td>95-11-20 00:00</td>\n",
       "      <td>SE23 2QA</td>\n",
       "      <td>D</td>\n",
       "      <td>N</td>\n",
       "      <td>F</td>\n",
       "      <td>40</td>\n",
       "      <td></td>\n",
       "      <td>SUNDERLAND ROAD</td>\n",
       "      <td>LONDON</td>\n",
       "      <td>LONDON</td>\n",
       "      <td>LEWISHAM</td>\n",
       "      <td>GREATER LONDON</td>\n",
       "      <td>1995</td>\n",
       "      <td>11</td>\n",
       "      <td>20</td>\n",
       "      <td>40</td>\n",
       "    </tr>\n",
       "    <tr>\n",
       "      <th>138</th>\n",
       "      <td>270000</td>\n",
       "      <td>95-09-01 00:00</td>\n",
       "      <td>SW5 0DU</td>\n",
       "      <td>F</td>\n",
       "      <td>N</td>\n",
       "      <td>L</td>\n",
       "      <td>COLEHERNE COURT</td>\n",
       "      <td>FLAT 188</td>\n",
       "      <td>REDCLIFFE GARDENS</td>\n",
       "      <td>LONDON</td>\n",
       "      <td>LONDON</td>\n",
       "      <td>KENSINGTON AND CHELSEA</td>\n",
       "      <td>GREATER LONDON</td>\n",
       "      <td>1995</td>\n",
       "      <td>9</td>\n",
       "      <td>1</td>\n",
       "      <td>COLEHERNE COURTFLAT 188</td>\n",
       "    </tr>\n",
       "    <tr>\n",
       "      <th>251</th>\n",
       "      <td>210000</td>\n",
       "      <td>95-05-19 00:00</td>\n",
       "      <td>SW19 7HD</td>\n",
       "      <td>T</td>\n",
       "      <td>N</td>\n",
       "      <td>F</td>\n",
       "      <td>21</td>\n",
       "      <td></td>\n",
       "      <td>PINE GROVE</td>\n",
       "      <td>LONDON</td>\n",
       "      <td>LONDON</td>\n",
       "      <td>MERTON</td>\n",
       "      <td>GREATER LONDON</td>\n",
       "      <td>1995</td>\n",
       "      <td>5</td>\n",
       "      <td>19</td>\n",
       "      <td>21</td>\n",
       "    </tr>\n",
       "  </tbody>\n",
       "</table>\n",
       "</div>"
      ],
      "text/plain": [
       "      price            date  postcode property_type property_age ownership  \\\n",
       "3    405000  95-04-07 00:00    N1 2JU             S            N         F   \n",
       "120  620000  95-09-01 00:00  SW15 2NU             T            N         F   \n",
       "132  200500  95-11-20 00:00  SE23 2QA             D            N         F   \n",
       "138  270000  95-09-01 00:00   SW5 0DU             F            N         L   \n",
       "251  210000  95-05-19 00:00  SW19 7HD             T            N         F   \n",
       "\n",
       "              number additional_info                street locality    town  \\\n",
       "3                 49                  CANONBURY PARK NORTH   LONDON  LONDON   \n",
       "120               77                           DEODAR ROAD   LONDON  LONDON   \n",
       "132               40                       SUNDERLAND ROAD   LONDON  LONDON   \n",
       "138  COLEHERNE COURT        FLAT 188     REDCLIFFE GARDENS   LONDON  LONDON   \n",
       "251               21                            PINE GROVE   LONDON  LONDON   \n",
       "\n",
       "                    borough          county  year  month  day  \\\n",
       "3                 ISLINGTON  GREATER LONDON  1995      4    7   \n",
       "120              WANDSWORTH  GREATER LONDON  1995      9    1   \n",
       "132                LEWISHAM  GREATER LONDON  1995     11   20   \n",
       "138  KENSINGTON AND CHELSEA  GREATER LONDON  1995      9    1   \n",
       "251                  MERTON  GREATER LONDON  1995      5   19   \n",
       "\n",
       "        full_property_number  \n",
       "3                         49  \n",
       "120                       77  \n",
       "132                       40  \n",
       "138  COLEHERNE COURTFLAT 188  \n",
       "251                       21  "
      ]
     },
     "execution_count": 171,
     "metadata": {},
     "output_type": "execute_result"
    }
   ],
   "source": [
    "df.head()"
   ]
  },
  {
   "cell_type": "code",
   "execution_count": 176,
   "metadata": {},
   "outputs": [],
   "source": [
    "street_data=df.groupby('street').count()['postcode'].sort_values(ascending=True)"
   ]
  },
  {
   "cell_type": "code",
   "execution_count": 179,
   "metadata": {},
   "outputs": [
    {
     "data": {
      "text/plain": [
       "street\n",
       "HALFORD CLOSE        2\n",
       "TILLETT WAY          2\n",
       "HALIFAX CLOSE        2\n",
       "TIVERTON CLOSE       2\n",
       "TODD CLOSE           2\n",
       "                  ... \n",
       "THE AVENUE        3266\n",
       "CHURCH ROAD       3342\n",
       "PARK ROAD         3703\n",
       "LONDON ROAD       3773\n",
       "HIGH STREET       6179\n",
       "Name: postcode, Length: 35486, dtype: int64"
      ]
     },
     "execution_count": 179,
     "metadata": {},
     "output_type": "execute_result"
    }
   ],
   "source": [
    "street_data[street_data>1]"
   ]
  },
  {
   "cell_type": "code",
   "execution_count": null,
   "metadata": {},
   "outputs": [],
   "source": [
    "# can take a sample and then compare postcode from api w postcode from address \n",
    "df.columns\n",
    "\n",
    "# dropping unneccessary columns\n",
    "df.drop(columns=['price', 'date', 'property_type', 'property_age',\n",
    "       'ownership', 'locality', 'town', 'county', 'year', 'month', 'day'],  inplace=True)"
   ]
  },
  {
   "cell_type": "code",
   "execution_count": 222,
   "metadata": {
    "scrolled": true
   },
   "outputs": [
    {
     "data": {
      "text/html": [
       "<div>\n",
       "<style scoped>\n",
       "    .dataframe tbody tr th:only-of-type {\n",
       "        vertical-align: middle;\n",
       "    }\n",
       "\n",
       "    .dataframe tbody tr th {\n",
       "        vertical-align: top;\n",
       "    }\n",
       "\n",
       "    .dataframe thead th {\n",
       "        text-align: right;\n",
       "    }\n",
       "</style>\n",
       "<table border=\"1\" class=\"dataframe\">\n",
       "  <thead>\n",
       "    <tr style=\"text-align: right;\">\n",
       "      <th></th>\n",
       "      <th>borough</th>\n",
       "      <th>postcode</th>\n",
       "      <th>additional_info</th>\n",
       "      <th>full_property_number</th>\n",
       "      <th>number</th>\n",
       "      <th>street</th>\n",
       "    </tr>\n",
       "  </thead>\n",
       "  <tbody>\n",
       "    <tr>\n",
       "      <th>3</th>\n",
       "      <td>ISLINGTON</td>\n",
       "      <td>N1 2JU</td>\n",
       "      <td></td>\n",
       "      <td>49</td>\n",
       "      <td>49</td>\n",
       "      <td>CANONBURY PARK NORTH</td>\n",
       "    </tr>\n",
       "    <tr>\n",
       "      <th>120</th>\n",
       "      <td>WANDSWORTH</td>\n",
       "      <td>SW15 2NU</td>\n",
       "      <td></td>\n",
       "      <td>77</td>\n",
       "      <td>77</td>\n",
       "      <td>DEODAR ROAD</td>\n",
       "    </tr>\n",
       "    <tr>\n",
       "      <th>132</th>\n",
       "      <td>LEWISHAM</td>\n",
       "      <td>SE23 2QA</td>\n",
       "      <td></td>\n",
       "      <td>40</td>\n",
       "      <td>40</td>\n",
       "      <td>SUNDERLAND ROAD</td>\n",
       "    </tr>\n",
       "    <tr>\n",
       "      <th>138</th>\n",
       "      <td>KENSINGTON AND CHELSEA</td>\n",
       "      <td>SW5 0DU</td>\n",
       "      <td>FLAT 188</td>\n",
       "      <td>COLEHERNE COURTFLAT 188</td>\n",
       "      <td>COLEHERNE COURT</td>\n",
       "      <td>REDCLIFFE GARDENS</td>\n",
       "    </tr>\n",
       "    <tr>\n",
       "      <th>251</th>\n",
       "      <td>MERTON</td>\n",
       "      <td>SW19 7HD</td>\n",
       "      <td></td>\n",
       "      <td>21</td>\n",
       "      <td>21</td>\n",
       "      <td>PINE GROVE</td>\n",
       "    </tr>\n",
       "    <tr>\n",
       "      <th>...</th>\n",
       "      <td>...</td>\n",
       "      <td>...</td>\n",
       "      <td>...</td>\n",
       "      <td>...</td>\n",
       "      <td>...</td>\n",
       "      <td>...</td>\n",
       "    </tr>\n",
       "    <tr>\n",
       "      <th>3623314</th>\n",
       "      <td>HAMMERSMITH AND FULHAM</td>\n",
       "      <td>W12 7GR</td>\n",
       "      <td>APARTMENT 106</td>\n",
       "      <td>5APARTMENT 106</td>\n",
       "      <td>5</td>\n",
       "      <td>WOOD CRESCENT</td>\n",
       "    </tr>\n",
       "    <tr>\n",
       "      <th>3623315</th>\n",
       "      <td>WALTHAM FOREST</td>\n",
       "      <td>E4 9QB</td>\n",
       "      <td>6</td>\n",
       "      <td>BAILEY COURT6</td>\n",
       "      <td>BAILEY COURT</td>\n",
       "      <td>CASTLE AVENUE</td>\n",
       "    </tr>\n",
       "    <tr>\n",
       "      <th>3623316</th>\n",
       "      <td>BARKING AND DAGENHAM</td>\n",
       "      <td>RM6 6SX</td>\n",
       "      <td></td>\n",
       "      <td>12</td>\n",
       "      <td>12</td>\n",
       "      <td>HENLEY GARDENS</td>\n",
       "    </tr>\n",
       "    <tr>\n",
       "      <th>3623317</th>\n",
       "      <td>WALTHAM FOREST</td>\n",
       "      <td>E4 9SY</td>\n",
       "      <td></td>\n",
       "      <td>108B</td>\n",
       "      <td>108B</td>\n",
       "      <td>NEW ROAD</td>\n",
       "    </tr>\n",
       "    <tr>\n",
       "      <th>3623318</th>\n",
       "      <td>HAVERING</td>\n",
       "      <td>RM1 4SR</td>\n",
       "      <td></td>\n",
       "      <td>12</td>\n",
       "      <td>12</td>\n",
       "      <td>HEATHER GLEN</td>\n",
       "    </tr>\n",
       "  </tbody>\n",
       "</table>\n",
       "<p>2173636 rows × 6 columns</p>\n",
       "</div>"
      ],
      "text/plain": [
       "                        borough  postcode additional_info  \\\n",
       "3                     ISLINGTON    N1 2JU                   \n",
       "120                  WANDSWORTH  SW15 2NU                   \n",
       "132                    LEWISHAM  SE23 2QA                   \n",
       "138      KENSINGTON AND CHELSEA   SW5 0DU        FLAT 188   \n",
       "251                      MERTON  SW19 7HD                   \n",
       "...                         ...       ...             ...   \n",
       "3623314  HAMMERSMITH AND FULHAM   W12 7GR   APARTMENT 106   \n",
       "3623315          WALTHAM FOREST    E4 9QB               6   \n",
       "3623316    BARKING AND DAGENHAM   RM6 6SX                   \n",
       "3623317          WALTHAM FOREST    E4 9SY                   \n",
       "3623318                HAVERING   RM1 4SR                   \n",
       "\n",
       "            full_property_number           number                street  \n",
       "3                             49               49  CANONBURY PARK NORTH  \n",
       "120                           77               77           DEODAR ROAD  \n",
       "132                           40               40       SUNDERLAND ROAD  \n",
       "138      COLEHERNE COURTFLAT 188  COLEHERNE COURT     REDCLIFFE GARDENS  \n",
       "251                           21               21            PINE GROVE  \n",
       "...                          ...              ...                   ...  \n",
       "3623314           5APARTMENT 106                5         WOOD CRESCENT  \n",
       "3623315            BAILEY COURT6     BAILEY COURT         CASTLE AVENUE  \n",
       "3623316                       12               12        HENLEY GARDENS  \n",
       "3623317                     108B             108B              NEW ROAD  \n",
       "3623318                       12               12          HEATHER GLEN  \n",
       "\n",
       "[2173636 rows x 6 columns]"
      ]
     },
     "execution_count": 222,
     "metadata": {},
     "output_type": "execute_result"
    }
   ],
   "source": [
    "# choosing remaining columns\n",
    "cols=['borough','postcode','additional_info','full_property_number', 'number','street']\n",
    "df[cols]"
   ]
  },
  {
   "cell_type": "code",
   "execution_count": 215,
   "metadata": {},
   "outputs": [
    {
     "data": {
      "text/html": [
       "<div>\n",
       "<style scoped>\n",
       "    .dataframe tbody tr th:only-of-type {\n",
       "        vertical-align: middle;\n",
       "    }\n",
       "\n",
       "    .dataframe tbody tr th {\n",
       "        vertical-align: top;\n",
       "    }\n",
       "\n",
       "    .dataframe thead th {\n",
       "        text-align: right;\n",
       "    }\n",
       "</style>\n",
       "<table border=\"1\" class=\"dataframe\">\n",
       "  <thead>\n",
       "    <tr style=\"text-align: right;\">\n",
       "      <th></th>\n",
       "      <th>postcode</th>\n",
       "      <th>street</th>\n",
       "      <th>borough</th>\n",
       "      <th>address</th>\n",
       "    </tr>\n",
       "  </thead>\n",
       "  <tbody>\n",
       "    <tr>\n",
       "      <th>3</th>\n",
       "      <td>N1 2JU</td>\n",
       "      <td>CANONBURY PARK NORTH</td>\n",
       "      <td>ISLINGTON</td>\n",
       "      <td>49 CANONBURY PARK NORTH London N1 2JU</td>\n",
       "    </tr>\n",
       "    <tr>\n",
       "      <th>120</th>\n",
       "      <td>SW15 2NU</td>\n",
       "      <td>DEODAR ROAD</td>\n",
       "      <td>WANDSWORTH</td>\n",
       "      <td>77 DEODAR ROAD London SW15 2NU</td>\n",
       "    </tr>\n",
       "    <tr>\n",
       "      <th>132</th>\n",
       "      <td>SE23 2QA</td>\n",
       "      <td>SUNDERLAND ROAD</td>\n",
       "      <td>LEWISHAM</td>\n",
       "      <td>40 SUNDERLAND ROAD London SE23 2QA</td>\n",
       "    </tr>\n",
       "    <tr>\n",
       "      <th>138</th>\n",
       "      <td>SW5 0DU</td>\n",
       "      <td>REDCLIFFE GARDENS</td>\n",
       "      <td>KENSINGTON AND CHELSEA</td>\n",
       "      <td>COLEHERNE COURT REDCLIFFE GARDENS London SW5 0DU</td>\n",
       "    </tr>\n",
       "    <tr>\n",
       "      <th>251</th>\n",
       "      <td>SW19 7HD</td>\n",
       "      <td>PINE GROVE</td>\n",
       "      <td>MERTON</td>\n",
       "      <td>21 PINE GROVE London SW19 7HD</td>\n",
       "    </tr>\n",
       "  </tbody>\n",
       "</table>\n",
       "</div>"
      ],
      "text/plain": [
       "     postcode                street                 borough  \\\n",
       "3      N1 2JU  CANONBURY PARK NORTH               ISLINGTON   \n",
       "120  SW15 2NU           DEODAR ROAD              WANDSWORTH   \n",
       "132  SE23 2QA       SUNDERLAND ROAD                LEWISHAM   \n",
       "138   SW5 0DU     REDCLIFFE GARDENS  KENSINGTON AND CHELSEA   \n",
       "251  SW19 7HD            PINE GROVE                  MERTON   \n",
       "\n",
       "                                              address  \n",
       "3               49 CANONBURY PARK NORTH London N1 2JU  \n",
       "120                    77 DEODAR ROAD London SW15 2NU  \n",
       "132                40 SUNDERLAND ROAD London SE23 2QA  \n",
       "138  COLEHERNE COURT REDCLIFFE GARDENS London SW5 0DU  \n",
       "251                     21 PINE GROVE London SW19 7HD  "
      ]
     },
     "execution_count": 215,
     "metadata": {},
     "output_type": "execute_result"
    }
   ],
   "source": [
    "# creating new column to use for api call \n",
    "df['address']=df['number']+ ' ' + df['street'] + \" London \" + df['postcode']\n",
    "tmp=df.drop(columns=['number', 'additional_info', 'full_property_number'])\n",
    "tmp.head()"
   ]
  },
  {
   "cell_type": "markdown",
   "metadata": {},
   "source": [
    "### Making API call on sample data"
   ]
  },
  {
   "cell_type": "code",
   "execution_count": 216,
   "metadata": {},
   "outputs": [
    {
     "data": {
      "text/html": [
       "<div>\n",
       "<style scoped>\n",
       "    .dataframe tbody tr th:only-of-type {\n",
       "        vertical-align: middle;\n",
       "    }\n",
       "\n",
       "    .dataframe tbody tr th {\n",
       "        vertical-align: top;\n",
       "    }\n",
       "\n",
       "    .dataframe thead th {\n",
       "        text-align: right;\n",
       "    }\n",
       "</style>\n",
       "<table border=\"1\" class=\"dataframe\">\n",
       "  <thead>\n",
       "    <tr style=\"text-align: right;\">\n",
       "      <th></th>\n",
       "      <th>postcode</th>\n",
       "      <th>street</th>\n",
       "      <th>borough</th>\n",
       "      <th>address</th>\n",
       "    </tr>\n",
       "  </thead>\n",
       "  <tbody>\n",
       "    <tr>\n",
       "      <th>1154282</th>\n",
       "      <td>W1K 1HA</td>\n",
       "      <td>SOUTH AUDLEY STREET</td>\n",
       "      <td>CITY OF WESTMINSTER</td>\n",
       "      <td>CHESTERFIELD HOUSE SOUTH AUDLEY STREET London ...</td>\n",
       "    </tr>\n",
       "    <tr>\n",
       "      <th>1519721</th>\n",
       "      <td>NW11 6BS</td>\n",
       "      <td>BEAUFORT PARK</td>\n",
       "      <td>BARNET</td>\n",
       "      <td>30 BEAUFORT PARK London NW11 6BS</td>\n",
       "    </tr>\n",
       "    <tr>\n",
       "      <th>1675228</th>\n",
       "      <td>NW3 5TN</td>\n",
       "      <td>NETHERHALL GARDENS</td>\n",
       "      <td>CAMDEN</td>\n",
       "      <td>NETHERHALL MANSIONS, 30 NETHERHALL GARDENS Lon...</td>\n",
       "    </tr>\n",
       "    <tr>\n",
       "      <th>3101266</th>\n",
       "      <td>SW14 7PF</td>\n",
       "      <td>PENRHYN CRESCENT</td>\n",
       "      <td>RICHMOND UPON THAMES</td>\n",
       "      <td>3 PENRHYN CRESCENT London SW14 7PF</td>\n",
       "    </tr>\n",
       "    <tr>\n",
       "      <th>1565916</th>\n",
       "      <td>SW13 0NS</td>\n",
       "      <td>THE TERRACE</td>\n",
       "      <td>RICHMOND UPON THAMES</td>\n",
       "      <td>ELM BANK MANSIONS THE TERRACE London SW13 0NS</td>\n",
       "    </tr>\n",
       "    <tr>\n",
       "      <th>...</th>\n",
       "      <td>...</td>\n",
       "      <td>...</td>\n",
       "      <td>...</td>\n",
       "      <td>...</td>\n",
       "    </tr>\n",
       "    <tr>\n",
       "      <th>2991254</th>\n",
       "      <td>HA9 8PJ</td>\n",
       "      <td>AYLANDS CLOSE</td>\n",
       "      <td>BRENT</td>\n",
       "      <td>28 AYLANDS CLOSE London HA9 8PJ</td>\n",
       "    </tr>\n",
       "    <tr>\n",
       "      <th>3249935</th>\n",
       "      <td>EN2 8FJ</td>\n",
       "      <td>ENDERS CLOSE</td>\n",
       "      <td>ENFIELD</td>\n",
       "      <td>3 ENDERS CLOSE London EN2 8FJ</td>\n",
       "    </tr>\n",
       "    <tr>\n",
       "      <th>3020112</th>\n",
       "      <td>SE13 7EG</td>\n",
       "      <td>ELIOT PARK</td>\n",
       "      <td>LEWISHAM</td>\n",
       "      <td>21 ELIOT PARK London SE13 7EG</td>\n",
       "    </tr>\n",
       "    <tr>\n",
       "      <th>2936742</th>\n",
       "      <td>RM2 6GH</td>\n",
       "      <td>KIDMAN CLOSE</td>\n",
       "      <td>HAVERING</td>\n",
       "      <td>TALLIS COURT KIDMAN CLOSE London RM2 6GH</td>\n",
       "    </tr>\n",
       "    <tr>\n",
       "      <th>916554</th>\n",
       "      <td>SW10 9SA</td>\n",
       "      <td>DRAYTON GARDENS</td>\n",
       "      <td>KENSINGTON AND CHELSEA</td>\n",
       "      <td>32 DRAYTON GARDENS London SW10 9SA</td>\n",
       "    </tr>\n",
       "  </tbody>\n",
       "</table>\n",
       "<p>10000 rows × 4 columns</p>\n",
       "</div>"
      ],
      "text/plain": [
       "         postcode               street                 borough  \\\n",
       "1154282   W1K 1HA  SOUTH AUDLEY STREET     CITY OF WESTMINSTER   \n",
       "1519721  NW11 6BS        BEAUFORT PARK                  BARNET   \n",
       "1675228   NW3 5TN   NETHERHALL GARDENS                  CAMDEN   \n",
       "3101266  SW14 7PF     PENRHYN CRESCENT    RICHMOND UPON THAMES   \n",
       "1565916  SW13 0NS          THE TERRACE    RICHMOND UPON THAMES   \n",
       "...           ...                  ...                     ...   \n",
       "2991254   HA9 8PJ        AYLANDS CLOSE                   BRENT   \n",
       "3249935   EN2 8FJ         ENDERS CLOSE                 ENFIELD   \n",
       "3020112  SE13 7EG           ELIOT PARK                LEWISHAM   \n",
       "2936742   RM2 6GH         KIDMAN CLOSE                HAVERING   \n",
       "916554   SW10 9SA      DRAYTON GARDENS  KENSINGTON AND CHELSEA   \n",
       "\n",
       "                                                   address  \n",
       "1154282  CHESTERFIELD HOUSE SOUTH AUDLEY STREET London ...  \n",
       "1519721                   30 BEAUFORT PARK London NW11 6BS  \n",
       "1675228  NETHERHALL MANSIONS, 30 NETHERHALL GARDENS Lon...  \n",
       "3101266                 3 PENRHYN CRESCENT London SW14 7PF  \n",
       "1565916      ELM BANK MANSIONS THE TERRACE London SW13 0NS  \n",
       "...                                                    ...  \n",
       "2991254                    28 AYLANDS CLOSE London HA9 8PJ  \n",
       "3249935                      3 ENDERS CLOSE London EN2 8FJ  \n",
       "3020112                      21 ELIOT PARK London SE13 7EG  \n",
       "2936742           TALLIS COURT KIDMAN CLOSE London RM2 6GH  \n",
       "916554                  32 DRAYTON GARDENS London SW10 9SA  \n",
       "\n",
       "[10000 rows x 4 columns]"
      ]
     },
     "execution_count": 216,
     "metadata": {},
     "output_type": "execute_result"
    }
   ],
   "source": [
    "df_sample=tmp.sample(10000,random_state=42)\n",
    "df_sample"
   ]
  },
  {
   "cell_type": "code",
   "execution_count": 206,
   "metadata": {},
   "outputs": [
    {
     "data": {
      "text/plain": [
       "postcode    object\n",
       "street      object\n",
       "borough     object\n",
       "address     object\n",
       "dtype: object"
      ]
     },
     "execution_count": 206,
     "metadata": {},
     "output_type": "execute_result"
    }
   ],
   "source": [
    "df_sample.dtypes"
   ]
  },
  {
   "cell_type": "code",
   "execution_count": 219,
   "metadata": {
    "scrolled": true
   },
   "outputs": [
    {
     "data": {
      "text/plain": [
       "'W1K 1HA'"
      ]
     },
     "execution_count": 219,
     "metadata": {},
     "output_type": "execute_result"
    }
   ],
   "source": [
    "# because it's a sample, first row equals sample number... \n",
    "df_sample['postcode'][1154282]"
   ]
  },
  {
   "cell_type": "code",
   "execution_count": 211,
   "metadata": {},
   "outputs": [
    {
     "data": {
      "text/plain": [
       "('51.58911845',\n",
       " '-0.19421753291426574',\n",
       " 'Beaufort Park, Temple Fortune, London Borough of Barnet, London, Greater London, England, United Kingdom')"
      ]
     },
     "execution_count": 211,
     "metadata": {},
     "output_type": "execute_result"
    }
   ],
   "source": [
    "get_coordinates('30 BEAUFORT PARK, London, NW11 6BS')\n"
   ]
  },
  {
   "cell_type": "code",
   "execution_count": 224,
   "metadata": {},
   "outputs": [
    {
     "data": {
      "text/plain": [
       "('51.46722055',\n",
       " '-0.00798084600200604',\n",
       " '21, Eliot Park, Baizdon Road Estate, Deptford, London Borough of Lewisham, London, Greater London, England, SE13 7PJ, United Kingdom')"
      ]
     },
     "execution_count": 224,
     "metadata": {},
     "output_type": "execute_result"
    }
   ],
   "source": [
    "get_coordinates('21 ELIOT PARK London')"
   ]
  },
  {
   "cell_type": "code",
   "execution_count": null,
   "metadata": {},
   "outputs": [],
   "source": [
    "df_sample['lat_lon_a']=df_sample['address'].apply(get_coordinates)\n",
    "df_sample['lat']=df_sample['lat_lon_a'].apply(lambda x: x[0])\n",
    "df_sample['lon']=df_sample['lat_lon_a'].apply(lambda x: x[1])\n",
    "df_sample['full_address_api']=df_sample['lat_lon_a'].apply(lambda x: x[2])\n",
    "df_sample.head()"
   ]
  },
  {
   "cell_type": "code",
   "execution_count": null,
   "metadata": {},
   "outputs": [],
   "source": []
  },
  {
   "cell_type": "code",
   "execution_count": null,
   "metadata": {},
   "outputs": [],
   "source": []
  },
  {
   "cell_type": "code",
   "execution_count": null,
   "metadata": {},
   "outputs": [],
   "source": [
    "#next, need to merge street name and full address and postcode into string\n",
    "# better get address with one api call and fill both values in one column and separate after in df?  and not lat lon in 2 separate api calls. "
   ]
  }
 ],
 "metadata": {
  "kernelspec": {
   "display_name": "Python 3 (ipykernel)",
   "language": "python",
   "name": "python3"
  },
  "language_info": {
   "codemirror_mode": {
    "name": "ipython",
    "version": 3
   },
   "file_extension": ".py",
   "mimetype": "text/x-python",
   "name": "python",
   "nbconvert_exporter": "python",
   "pygments_lexer": "ipython3",
   "version": "3.10.6"
  },
  "widgets": {
   "application/vnd.jupyter.widget-state+json": {
    "state": {},
    "version_major": 2,
    "version_minor": 0
   }
  }
 },
 "nbformat": 4,
 "nbformat_minor": 4
}
