{
 "cells": [
  {
   "cell_type": "code",
   "execution_count": 1,
   "metadata": {},
   "outputs": [
    {
     "name": "stdout",
     "output_type": "stream",
     "text": [
      "/Users/Marie/code/MarieMCodes/re_value_predictor\n"
     ]
    },
    {
     "name": "stderr",
     "output_type": "stream",
     "text": [
      "/Users/Marie/.pyenv/versions/3.10.6/envs/re_value_predictor/lib/python3.10/site-packages/IPython/core/magics/osm.py:417: UserWarning: This is now an optional IPython functionality, setting dhist requires you to install the `pickleshare` library.\n",
      "  self.shell.db['dhist'] = compress_dhist(dhist)[-100:]\n"
     ]
    }
   ],
   "source": [
    "%cd .."
   ]
  },
  {
   "cell_type": "markdown",
   "metadata": {},
   "source": [
    "### imports"
   ]
  },
  {
   "cell_type": "code",
   "execution_count": null,
   "metadata": {},
   "outputs": [],
   "source": [
    "import pandas as pd\n",
    "import numpy as np\n",
    "from project_code.preprocessor import preprocess_fit_X, split_data, feature_target\n",
    "from project_code.model import initialize_model, compile_model, train_model, evaluate_model\n",
    "\n",
    "from tensorflow.keras.models import save_model, load_model\n",
    "import pickle"
   ]
  },
  {
   "cell_type": "code",
   "execution_count": 10,
   "metadata": {},
   "outputs": [],
   "source": [
    "import matplotlib.pyplot as plt\n",
    "%%timeit "
   ]
  },
  {
   "cell_type": "markdown",
   "metadata": {},
   "source": [
    "### Model 1: concise data, all years"
   ]
  },
  {
   "cell_type": "markdown",
   "metadata": {},
   "source": [
    "#### Run model"
   ]
  },
  {
   "cell_type": "code",
   "execution_count": 128,
   "metadata": {},
   "outputs": [],
   "source": [
    "def run_initial_training(data):\n",
    "    \"\"\"\n",
    "    runs initial training: from loading data, processing it, splitting data,\n",
    "    instantiating model, compiling, training and evaluating.\n",
    "    Output MAE and MSE\n",
    "    \"\"\"\n",
    "    #data=pd.read_csv('raw_data/london_re_postcodes_latlon_master.zip',\n",
    "   #                 dtype={'price': np.int32,'month':np.int16,'year':np.int16},\n",
    "    #                ).sample(600000)\n",
    "    # master: drop month, drop date\n",
    "    #data.drop(columns=['date','month'],inplace=True)\n",
    "\n",
    "    # remove premium price outliers and too low house prices\n",
    "    clean_data=data[(data['price']<1500000) & (data['price']>299000)]\n",
    "    print('✅ data loaded and cleaned')\n",
    "\n",
    "    # split X and y and take log of y\n",
    "    X,y=feature_target(clean_data)\n",
    "    # split the X and y\n",
    "    X_train, X_test, y_train, y_test= split_data(X,y)\n",
    "    print('✅ data split')\n",
    "\n",
    "    # fit preprocessor on training set\n",
    "    preprocessor_fitted=preprocess_fit_X(X_train)\n",
    "    print(\" ✅ X_train fitted and saved preprocessor\")\n",
    "\n",
    "    # Export processor as pickle file\n",
    "    with open(\"models/preprocessor_model1concise.pkl\",\"wb\") as file:\n",
    "        pickle.dump(preprocessor_fitted, file)\n",
    "\n",
    "    # transfrom X_train,X_test\n",
    "    X_train_processed= preprocessor_fitted.transform(X_train)\n",
    "    X_test_processed= preprocessor_fitted.transform(X_test)\n",
    "    print(f'✅ X_train processed with shape {X_train_processed.shape}')\n",
    "    print(f'✅ X_test processed with shape {X_test_processed.shape}')\n",
    "\n",
    "\n",
    "    # initialise_model\n",
    "    model=initialize_model()\n",
    "\n",
    "    # compile_model\n",
    "    model=compile_model(model)\n",
    "\n",
    "    # train_model\n",
    "    model=train_model(model,X_train_processed,y_train)[0]\n",
    "    print('✅ model finished training')\n",
    "\n",
    "    #save model\n",
    "    save_model(model, 'models/model_1concise.h5')\n",
    "    print('✅ model saved ')\n",
    "\n",
    "    # evaluate\n",
    "    mae, mse=evaluate_model(model,X_test_processed,y_test)\n",
    "    print(f'MAE is {mae}, and MSE is {mse}. Training is complete')\n",
    "    return  mae,mse,data,model,X_test_processed,y_test\n",
    "\n",
    "\n",
    "# def prediction(year=2023,\n",
    "#     property_type='F',\n",
    "#     property_age='N',\n",
    "#     ownership='L',\n",
    "#     lat=51.5487553,\n",
    "#     lon=-0.1235217,\n",
    "#     sin_time=-0.5,\n",
    "#     cos_time=-0.866025):\n",
    "    \n",
    "def prediction(X):\n",
    "    \"\"\"\n",
    "    takes new X, processes them and predicts\n",
    "    \"\"\"\n",
    "    #X_new=pd.DataFrame(locals(),index=[0])\n",
    "    X_new=pd.DataFrame(X, index=[0])\n",
    "    print(f\"✅ new data loaded in df with shape {X_new.shape}\")\n",
    "\n",
    "    # load preprocessor\n",
    "    preprocessor=pickle.load(open(\"models/preprocessor_model1concise.pkl\",\"rb\"))\n",
    "    X_new_processed=preprocessor.transform(X_new)\n",
    "    print(f\"✅ new data processed with shape {X_new_processed.shape}\")\n",
    "\n",
    "    #load model\n",
    "    model=load_model('models/model_1concise.h5')\n",
    "    print(\"✅ model loaded\")\n",
    "\n",
    "    # predict\n",
    "    ypred=model.predict(X_new_processed)\n",
    "    print(\"✅ model predicted\")\n",
    "\n",
    "    # reverse log price to actual price\n",
    "    prediction=np.exp(ypred)\n",
    "    print(f\" Your predicted price for the property is: {prediction}\")\n",
    "    return prediction\n"
   ]
  },
  {
   "cell_type": "code",
   "execution_count": 56,
   "metadata": {},
   "outputs": [
    {
     "name": "stdout",
     "output_type": "stream",
     "text": [
      "✅ data loaded and cleaned\n",
      "✅ data split\n"
     ]
    },
    {
     "name": "stderr",
     "output_type": "stream",
     "text": [
      "/Users/Marie/code/MarieMCodes/re_value_predictor/project_code/preprocessor.py:12: SettingWithCopyWarning: \n",
      "A value is trying to be set on a copy of a slice from a DataFrame.\n",
      "Try using .loc[row_indexer,col_indexer] = value instead\n",
      "\n",
      "See the caveats in the documentation: https://pandas.pydata.org/pandas-docs/stable/user_guide/indexing.html#returning-a-view-versus-a-copy\n",
      "  df['log_return'] = np.log(df['price'])\n"
     ]
    },
    {
     "name": "stdout",
     "output_type": "stream",
     "text": [
      " ✅ X_train fitted and saved preprocessor\n",
      "✅ X_train processed with shape (298104, 11)\n",
      "✅ X_test processed with shape (74526, 11)\n",
      "✅ Model compiled\n",
      "starting model training\n",
      "Restoring model weights from the end of the best epoch: 31.\n",
      "Epoch 41: early stopping\n",
      "✅ Model trained on 298104 rows with min val MAE: 0.21\n",
      "✅ model finished training\n",
      "✅ model saved \n",
      "2329/2329 [==============================] - 4s 2ms/step - loss: 0.0760 - mae: 0.2132\n",
      "Mean Absolute Error (MAE): 0.2132100611925125\n",
      "Mean Squared Error (MSE): 0.07597144693136215\n",
      "MAE is 0.2132100611925125, and MSE is 0.07597144693136215. Training is complete\n",
      "mae is0.2132100611925125, mse is0.07597144693136215\n"
     ]
    }
   ],
   "source": [
    "%timeit \n",
    "mae,mse,data,model_1,X_test_processed_1,y_test_1=run_initial_training()\n",
    "print(f'mae is{mae}, mse is{mse}')"
   ]
  },
  {
   "cell_type": "code",
   "execution_count": 129,
   "metadata": {},
   "outputs": [
    {
     "name": "stdout",
     "output_type": "stream",
     "text": [
      "✅ new data loaded in df with shape (1, 8)\n",
      "✅ new data processed with shape (1, 11)\n",
      "✅ model loaded\n",
      "WARNING:tensorflow:5 out of the last 2174 calls to <function Model.make_predict_function.<locals>.predict_function at 0x13e668f70> triggered tf.function retracing. Tracing is expensive and the excessive number of tracings could be due to (1) creating @tf.function repeatedly in a loop, (2) passing tensors with different shapes, (3) passing Python objects instead of tensors. For (1), please define your @tf.function outside of the loop. For (2), @tf.function has reduce_retracing=True option that can avoid unnecessary retracing. For (3), please refer to https://www.tensorflow.org/guide/function#controlling_retracing and https://www.tensorflow.org/api_docs/python/tf/function for  more details.\n",
      "1/1 [==============================] - 0s 137ms/step\n",
      "✅ model predicted\n",
      " Your predicted price for the property is: [[498776.4]]\n"
     ]
    },
    {
     "data": {
      "text/plain": [
       "array([[498776.4]], dtype=float32)"
      ]
     },
     "execution_count": 129,
     "metadata": {},
     "output_type": "execute_result"
    }
   ],
   "source": [
    "\n",
    "X_new={'year':2018,\n",
    "    'property_type':'F',\n",
    "    'property_age':'N',\n",
    "    'ownership':'L',\n",
    "    'lat':51.5487553,\n",
    "    'lon':-0.1235217,\n",
    "    'sin_time':-0.5,\n",
    "    'cos_time':-0.866025}\n",
    "\n",
    "prediction=prediction(X_new)\n",
    "prediction"
   ]
  },
  {
   "cell_type": "markdown",
   "metadata": {},
   "source": [
    "#### Run prediction of X_test and compare visually"
   ]
  },
  {
   "cell_type": "code",
   "execution_count": 66,
   "metadata": {},
   "outputs": [
    {
     "name": "stdout",
     "output_type": "stream",
     "text": [
      "2329/2329 [==============================] - 4s 1ms/step\n"
     ]
    },
    {
     "data": {
      "text/plain": [
       "array([[13.072778],\n",
       "       [13.413399],\n",
       "       [12.863276],\n",
       "       ...,\n",
       "       [13.210253],\n",
       "       [13.013265],\n",
       "       [12.87164 ]], dtype=float32)"
      ]
     },
     "execution_count": 66,
     "metadata": {},
     "output_type": "execute_result"
    }
   ],
   "source": [
    "# plotting both logged prediction against logged ytest\n",
    "ypred_1=model_1.predict(X_test_processed_1)\n",
    "ypred_1"
   ]
  },
  {
   "cell_type": "code",
   "execution_count": 71,
   "metadata": {},
   "outputs": [
    {
     "data": {
      "text/plain": [
       "(12.5, 14.5)"
      ]
     },
     "execution_count": 71,
     "metadata": {},
     "output_type": "execute_result"
    },
    {
     "data": {
      "image/png": "[encoded data removed]",
      "text/plain": [
       "<Figure size 640x480 with 1 Axes>"
      ]
     },
     "metadata": {},
     "output_type": "display_data"
    }
   ],
   "source": [
    "plt.scatter(x=ypred_1, y=y_test_1)\n",
    "plt.xlabel('Prediction')\n",
    "plt.ylabel('Actual y_test')\n",
    "plt.ylim(12.5,14.5)\n",
    "plt.xlim(12.5,14.5)"
   ]
  },
  {
   "cell_type": "code",
   "execution_count": 75,
   "metadata": {},
   "outputs": [],
   "source": [
    "# convert prices to actual pounds values\n",
    "ypred_1_exp=np.exp(ypred_1)\n",
    "y_test_1_exp=np.exp(y_test_1)"
   ]
  },
  {
   "cell_type": "code",
   "execution_count": 108,
   "metadata": {},
   "outputs": [
    {
     "data": {
      "text/plain": [
       "(0.0, 6000000.0)"
      ]
     },
     "execution_count": 108,
     "metadata": {},
     "output_type": "execute_result"
    },
    {
     "data": {
      "image/png": "[encoded data removed]",
      "text/plain": [
       "<Figure size 640x480 with 1 Axes>"
      ]
     },
     "metadata": {},
     "output_type": "display_data"
    }
   ],
   "source": [
    "# showing first 5000 rows of actual vs predicted prices\n",
    "plt.scatter(x=ypred_1_exp[:5000], y=y_test_1_exp[:5000])\n",
    "plt.xlabel('Prediction')\n",
    "plt.ylabel('Actual y_test')\n",
    "plt.ylim(0,6000000)\n",
    "plt.xlim(0,6000000)"
   ]
  },
  {
   "cell_type": "markdown",
   "metadata": {},
   "source": [
    "### Model 2: alldata, recent years"
   ]
  },
  {
   "cell_type": "markdown",
   "metadata": {
    "jp-MarkdownHeadingCollapsed": true
   },
   "source": [
    "#### Explore recent data and price outliers"
   ]
  },
  {
   "cell_type": "code",
   "execution_count": 57,
   "metadata": {},
   "outputs": [
    {
     "data": {
      "text/html": [
       "<div>\n",
       "<style scoped>\n",
       "    .dataframe tbody tr th:only-of-type {\n",
       "        vertical-align: middle;\n",
       "    }\n",
       "\n",
       "    .dataframe tbody tr th {\n",
       "        vertical-align: top;\n",
       "    }\n",
       "\n",
       "    .dataframe thead th {\n",
       "        text-align: right;\n",
       "    }\n",
       "</style>\n",
       "<table border=\"1\" class=\"dataframe\">\n",
       "  <thead>\n",
       "    <tr style=\"text-align: right;\">\n",
       "      <th></th>\n",
       "      <th>price</th>\n",
       "      <th>property_type</th>\n",
       "      <th>property_age</th>\n",
       "      <th>ownership</th>\n",
       "      <th>year</th>\n",
       "      <th>lat</th>\n",
       "      <th>lon</th>\n",
       "      <th>sin_time</th>\n",
       "      <th>cos_time</th>\n",
       "    </tr>\n",
       "  </thead>\n",
       "  <tbody>\n",
       "    <tr>\n",
       "      <th>1312570</th>\n",
       "      <td>232000</td>\n",
       "      <td>F</td>\n",
       "      <td>N</td>\n",
       "      <td>L</td>\n",
       "      <td>2015</td>\n",
       "      <td>51.641988</td>\n",
       "      <td>-0.009105</td>\n",
       "      <td>5.000000e-01</td>\n",
       "      <td>8.660254e-01</td>\n",
       "    </tr>\n",
       "    <tr>\n",
       "      <th>1067345</th>\n",
       "      <td>445000</td>\n",
       "      <td>S</td>\n",
       "      <td>N</td>\n",
       "      <td>F</td>\n",
       "      <td>2013</td>\n",
       "      <td>51.382595</td>\n",
       "      <td>-0.234050</td>\n",
       "      <td>-1.000000e+00</td>\n",
       "      <td>-1.836970e-16</td>\n",
       "    </tr>\n",
       "    <tr>\n",
       "      <th>1953821</th>\n",
       "      <td>365000</td>\n",
       "      <td>F</td>\n",
       "      <td>N</td>\n",
       "      <td>L</td>\n",
       "      <td>2022</td>\n",
       "      <td>51.458681</td>\n",
       "      <td>-0.018031</td>\n",
       "      <td>5.000000e-01</td>\n",
       "      <td>-8.660254e-01</td>\n",
       "    </tr>\n",
       "    <tr>\n",
       "      <th>620865</th>\n",
       "      <td>337616</td>\n",
       "      <td>F</td>\n",
       "      <td>Y</td>\n",
       "      <td>L</td>\n",
       "      <td>2007</td>\n",
       "      <td>51.564986</td>\n",
       "      <td>-0.336012</td>\n",
       "      <td>8.660254e-01</td>\n",
       "      <td>5.000000e-01</td>\n",
       "    </tr>\n",
       "    <tr>\n",
       "      <th>1205673</th>\n",
       "      <td>255000</td>\n",
       "      <td>F</td>\n",
       "      <td>N</td>\n",
       "      <td>L</td>\n",
       "      <td>2014</td>\n",
       "      <td>51.524391</td>\n",
       "      <td>-0.176083</td>\n",
       "      <td>1.224647e-16</td>\n",
       "      <td>-1.000000e+00</td>\n",
       "    </tr>\n",
       "    <tr>\n",
       "      <th>...</th>\n",
       "      <td>...</td>\n",
       "      <td>...</td>\n",
       "      <td>...</td>\n",
       "      <td>...</td>\n",
       "      <td>...</td>\n",
       "      <td>...</td>\n",
       "      <td>...</td>\n",
       "      <td>...</td>\n",
       "      <td>...</td>\n",
       "    </tr>\n",
       "    <tr>\n",
       "      <th>389032</th>\n",
       "      <td>340000</td>\n",
       "      <td>F</td>\n",
       "      <td>N</td>\n",
       "      <td>L</td>\n",
       "      <td>2004</td>\n",
       "      <td>51.475728</td>\n",
       "      <td>-0.154524</td>\n",
       "      <td>-5.000000e-01</td>\n",
       "      <td>8.660254e-01</td>\n",
       "    </tr>\n",
       "    <tr>\n",
       "      <th>1458694</th>\n",
       "      <td>297000</td>\n",
       "      <td>T</td>\n",
       "      <td>N</td>\n",
       "      <td>F</td>\n",
       "      <td>2017</td>\n",
       "      <td>51.560195</td>\n",
       "      <td>0.177977</td>\n",
       "      <td>8.660254e-01</td>\n",
       "      <td>-5.000000e-01</td>\n",
       "    </tr>\n",
       "    <tr>\n",
       "      <th>2043966</th>\n",
       "      <td>248000</td>\n",
       "      <td>F</td>\n",
       "      <td>N</td>\n",
       "      <td>L</td>\n",
       "      <td>2009</td>\n",
       "      <td>51.387975</td>\n",
       "      <td>-0.102388</td>\n",
       "      <td>-8.660254e-01</td>\n",
       "      <td>5.000000e-01</td>\n",
       "    </tr>\n",
       "    <tr>\n",
       "      <th>2142635</th>\n",
       "      <td>390000</td>\n",
       "      <td>S</td>\n",
       "      <td>N</td>\n",
       "      <td>F</td>\n",
       "      <td>2009</td>\n",
       "      <td>51.585648</td>\n",
       "      <td>-0.102388</td>\n",
       "      <td>-5.000000e-01</td>\n",
       "      <td>-8.660254e-01</td>\n",
       "    </tr>\n",
       "    <tr>\n",
       "      <th>1117516</th>\n",
       "      <td>1350000</td>\n",
       "      <td>F</td>\n",
       "      <td>N</td>\n",
       "      <td>L</td>\n",
       "      <td>2014</td>\n",
       "      <td>51.491547</td>\n",
       "      <td>-0.178720</td>\n",
       "      <td>1.224647e-16</td>\n",
       "      <td>-1.000000e+00</td>\n",
       "    </tr>\n",
       "  </tbody>\n",
       "</table>\n",
       "<p>599582 rows × 9 columns</p>\n",
       "</div>"
      ],
      "text/plain": [
       "           price property_type property_age ownership  year        lat  \\\n",
       "1312570   232000             F            N         L  2015  51.641988   \n",
       "1067345   445000             S            N         F  2013  51.382595   \n",
       "1953821   365000             F            N         L  2022  51.458681   \n",
       "620865    337616             F            Y         L  2007  51.564986   \n",
       "1205673   255000             F            N         L  2014  51.524391   \n",
       "...          ...           ...          ...       ...   ...        ...   \n",
       "389032    340000             F            N         L  2004  51.475728   \n",
       "1458694   297000             T            N         F  2017  51.560195   \n",
       "2043966   248000             F            N         L  2009  51.387975   \n",
       "2142635   390000             S            N         F  2009  51.585648   \n",
       "1117516  1350000             F            N         L  2014  51.491547   \n",
       "\n",
       "              lon      sin_time      cos_time  \n",
       "1312570 -0.009105  5.000000e-01  8.660254e-01  \n",
       "1067345 -0.234050 -1.000000e+00 -1.836970e-16  \n",
       "1953821 -0.018031  5.000000e-01 -8.660254e-01  \n",
       "620865  -0.336012  8.660254e-01  5.000000e-01  \n",
       "1205673 -0.176083  1.224647e-16 -1.000000e+00  \n",
       "...           ...           ...           ...  \n",
       "389032  -0.154524 -5.000000e-01  8.660254e-01  \n",
       "1458694  0.177977  8.660254e-01 -5.000000e-01  \n",
       "2043966 -0.102388 -8.660254e-01  5.000000e-01  \n",
       "2142635 -0.102388 -5.000000e-01 -8.660254e-01  \n",
       "1117516 -0.178720  1.224647e-16 -1.000000e+00  \n",
       "\n",
       "[599582 rows x 9 columns]"
      ]
     },
     "execution_count": 57,
     "metadata": {},
     "output_type": "execute_result"
    }
   ],
   "source": [
    "data_reduced=data[data['price']<8000000]\n",
    "data_reduced"
   ]
  },
  {
   "cell_type": "code",
   "execution_count": 31,
   "metadata": {},
   "outputs": [
    {
     "data": {
      "text/plain": [
       "(0.0, 8000000.0)"
      ]
     },
     "execution_count": 31,
     "metadata": {},
     "output_type": "execute_result"
    },
    {
     "data": {
      "image/png": "[encoded data removed]",
      "text/plain": [
       "<Figure size 640x480 with 1 Axes>"
      ]
     },
     "metadata": {},
     "output_type": "display_data"
    }
   ],
   "source": [
    "# first evaluate true outliers from data, look at histogram\n",
    "plt.hist(x=data_reduced['price'],bins=[300000,500000,1000000,3000000,5000000,8000000,11000000],density=True)\n",
    "plt.xlim(0,11000000)"
   ]
  },
  {
   "cell_type": "code",
   "execution_count": 54,
   "metadata": {},
   "outputs": [
    {
     "data": {
      "text/html": [
       "<div>\n",
       "<style scoped>\n",
       "    .dataframe tbody tr th:only-of-type {\n",
       "        vertical-align: middle;\n",
       "    }\n",
       "\n",
       "    .dataframe tbody tr th {\n",
       "        vertical-align: top;\n",
       "    }\n",
       "\n",
       "    .dataframe thead th {\n",
       "        text-align: right;\n",
       "    }\n",
       "</style>\n",
       "<table border=\"1\" class=\"dataframe\">\n",
       "  <thead>\n",
       "    <tr style=\"text-align: right;\">\n",
       "      <th></th>\n",
       "      <th>price</th>\n",
       "      <th>property_type</th>\n",
       "      <th>property_age</th>\n",
       "      <th>ownership</th>\n",
       "      <th>year</th>\n",
       "      <th>lat</th>\n",
       "      <th>lon</th>\n",
       "      <th>sin_time</th>\n",
       "      <th>cos_time</th>\n",
       "    </tr>\n",
       "  </thead>\n",
       "  <tbody>\n",
       "    <tr>\n",
       "      <th>1236413</th>\n",
       "      <td>10800000</td>\n",
       "      <td>D</td>\n",
       "      <td>N</td>\n",
       "      <td>F</td>\n",
       "      <td>2015</td>\n",
       "      <td>51.573907</td>\n",
       "      <td>-0.165920</td>\n",
       "      <td>-8.660254e-01</td>\n",
       "      <td>-0.500000</td>\n",
       "    </tr>\n",
       "    <tr>\n",
       "      <th>1338645</th>\n",
       "      <td>8860000</td>\n",
       "      <td>F</td>\n",
       "      <td>N</td>\n",
       "      <td>L</td>\n",
       "      <td>2016</td>\n",
       "      <td>51.500818</td>\n",
       "      <td>-0.182168</td>\n",
       "      <td>1.224647e-16</td>\n",
       "      <td>-1.000000</td>\n",
       "    </tr>\n",
       "    <tr>\n",
       "      <th>1867872</th>\n",
       "      <td>6350000</td>\n",
       "      <td>F</td>\n",
       "      <td>N</td>\n",
       "      <td>L</td>\n",
       "      <td>2021</td>\n",
       "      <td>51.504094</td>\n",
       "      <td>-0.198666</td>\n",
       "      <td>-2.449294e-16</td>\n",
       "      <td>1.000000</td>\n",
       "    </tr>\n",
       "    <tr>\n",
       "      <th>1923103</th>\n",
       "      <td>8500000</td>\n",
       "      <td>S</td>\n",
       "      <td>N</td>\n",
       "      <td>F</td>\n",
       "      <td>2022</td>\n",
       "      <td>51.485983</td>\n",
       "      <td>-0.178308</td>\n",
       "      <td>8.660254e-01</td>\n",
       "      <td>0.500000</td>\n",
       "    </tr>\n",
       "    <tr>\n",
       "      <th>1705837</th>\n",
       "      <td>7040000</td>\n",
       "      <td>T</td>\n",
       "      <td>N</td>\n",
       "      <td>F</td>\n",
       "      <td>2020</td>\n",
       "      <td>51.522516</td>\n",
       "      <td>-0.149952</td>\n",
       "      <td>-8.660254e-01</td>\n",
       "      <td>0.500000</td>\n",
       "    </tr>\n",
       "    <tr>\n",
       "      <th>...</th>\n",
       "      <td>...</td>\n",
       "      <td>...</td>\n",
       "      <td>...</td>\n",
       "      <td>...</td>\n",
       "      <td>...</td>\n",
       "      <td>...</td>\n",
       "      <td>...</td>\n",
       "      <td>...</td>\n",
       "      <td>...</td>\n",
       "    </tr>\n",
       "    <tr>\n",
       "      <th>1619613</th>\n",
       "      <td>8800000</td>\n",
       "      <td>S</td>\n",
       "      <td>N</td>\n",
       "      <td>F</td>\n",
       "      <td>2019</td>\n",
       "      <td>51.570151</td>\n",
       "      <td>-0.175912</td>\n",
       "      <td>8.660254e-01</td>\n",
       "      <td>-0.500000</td>\n",
       "    </tr>\n",
       "    <tr>\n",
       "      <th>762560</th>\n",
       "      <td>5250000</td>\n",
       "      <td>T</td>\n",
       "      <td>N</td>\n",
       "      <td>F</td>\n",
       "      <td>2009</td>\n",
       "      <td>51.498924</td>\n",
       "      <td>-0.160421</td>\n",
       "      <td>-8.660254e-01</td>\n",
       "      <td>0.500000</td>\n",
       "    </tr>\n",
       "    <tr>\n",
       "      <th>1302308</th>\n",
       "      <td>10100000</td>\n",
       "      <td>F</td>\n",
       "      <td>Y</td>\n",
       "      <td>L</td>\n",
       "      <td>2015</td>\n",
       "      <td>51.499803</td>\n",
       "      <td>-0.185724</td>\n",
       "      <td>-5.000000e-01</td>\n",
       "      <td>-0.866025</td>\n",
       "    </tr>\n",
       "    <tr>\n",
       "      <th>2055967</th>\n",
       "      <td>9000000</td>\n",
       "      <td>D</td>\n",
       "      <td>N</td>\n",
       "      <td>F</td>\n",
       "      <td>2012</td>\n",
       "      <td>51.541190</td>\n",
       "      <td>-0.102388</td>\n",
       "      <td>1.224647e-16</td>\n",
       "      <td>-1.000000</td>\n",
       "    </tr>\n",
       "    <tr>\n",
       "      <th>1439182</th>\n",
       "      <td>5200000</td>\n",
       "      <td>D</td>\n",
       "      <td>N</td>\n",
       "      <td>F</td>\n",
       "      <td>2017</td>\n",
       "      <td>51.443474</td>\n",
       "      <td>-0.304098</td>\n",
       "      <td>-8.660254e-01</td>\n",
       "      <td>-0.500000</td>\n",
       "    </tr>\n",
       "  </tbody>\n",
       "</table>\n",
       "<p>1410 rows × 9 columns</p>\n",
       "</div>"
      ],
      "text/plain": [
       "            price property_type property_age ownership  year        lat  \\\n",
       "1236413  10800000             D            N         F  2015  51.573907   \n",
       "1338645   8860000             F            N         L  2016  51.500818   \n",
       "1867872   6350000             F            N         L  2021  51.504094   \n",
       "1923103   8500000             S            N         F  2022  51.485983   \n",
       "1705837   7040000             T            N         F  2020  51.522516   \n",
       "...           ...           ...          ...       ...   ...        ...   \n",
       "1619613   8800000             S            N         F  2019  51.570151   \n",
       "762560    5250000             T            N         F  2009  51.498924   \n",
       "1302308  10100000             F            Y         L  2015  51.499803   \n",
       "2055967   9000000             D            N         F  2012  51.541190   \n",
       "1439182   5200000             D            N         F  2017  51.443474   \n",
       "\n",
       "              lon      sin_time  cos_time  \n",
       "1236413 -0.165920 -8.660254e-01 -0.500000  \n",
       "1338645 -0.182168  1.224647e-16 -1.000000  \n",
       "1867872 -0.198666 -2.449294e-16  1.000000  \n",
       "1923103 -0.178308  8.660254e-01  0.500000  \n",
       "1705837 -0.149952 -8.660254e-01  0.500000  \n",
       "...           ...           ...       ...  \n",
       "1619613 -0.175912  8.660254e-01 -0.500000  \n",
       "762560  -0.160421 -8.660254e-01  0.500000  \n",
       "1302308 -0.185724 -5.000000e-01 -0.866025  \n",
       "2055967 -0.102388  1.224647e-16 -1.000000  \n",
       "1439182 -0.304098 -8.660254e-01 -0.500000  \n",
       "\n",
       "[1410 rows x 9 columns]"
      ]
     },
     "execution_count": 54,
     "metadata": {},
     "output_type": "execute_result"
    }
   ],
   "source": [
    "# def. keep 4 million in. evaluate how many properties are btw 4 and 6 ml\n",
    "#data[(data['price']>4000000)&(data['price']<6000000)] # 1400 rows\n",
    "#data[(data['price']>5000000)&(data['price']<6000000)]  # 464 rows\n",
    "data[(data['price']>5000000)] # excluding 1410 properties out of 600k = 0.2% \n"
   ]
  },
  {
   "cell_type": "code",
   "execution_count": 79,
   "metadata": {},
   "outputs": [
    {
     "data": {
      "text/html": [
       "<div>\n",
       "<style scoped>\n",
       "    .dataframe tbody tr th:only-of-type {\n",
       "        vertical-align: middle;\n",
       "    }\n",
       "\n",
       "    .dataframe tbody tr th {\n",
       "        vertical-align: top;\n",
       "    }\n",
       "\n",
       "    .dataframe thead th {\n",
       "        text-align: right;\n",
       "    }\n",
       "</style>\n",
       "<table border=\"1\" class=\"dataframe\">\n",
       "  <thead>\n",
       "    <tr style=\"text-align: right;\">\n",
       "      <th></th>\n",
       "      <th>price</th>\n",
       "      <th>year</th>\n",
       "      <th>lat</th>\n",
       "      <th>lon</th>\n",
       "      <th>sin_time</th>\n",
       "      <th>cos_time</th>\n",
       "    </tr>\n",
       "  </thead>\n",
       "  <tbody>\n",
       "    <tr>\n",
       "      <th>count</th>\n",
       "      <td>3.528910e+05</td>\n",
       "      <td>352891.000000</td>\n",
       "      <td>352891.000000</td>\n",
       "      <td>352891.000000</td>\n",
       "      <td>3.528910e+05</td>\n",
       "      <td>3.528910e+05</td>\n",
       "    </tr>\n",
       "    <tr>\n",
       "      <th>mean</th>\n",
       "      <td>5.940703e+05</td>\n",
       "      <td>2016.353174</td>\n",
       "      <td>51.499407</td>\n",
       "      <td>-0.118100</td>\n",
       "      <td>-2.812014e-02</td>\n",
       "      <td>-1.398063e-02</td>\n",
       "    </tr>\n",
       "    <tr>\n",
       "      <th>std</th>\n",
       "      <td>6.361280e+05</td>\n",
       "      <td>3.636158</td>\n",
       "      <td>0.075106</td>\n",
       "      <td>0.143591</td>\n",
       "      <td>7.091146e-01</td>\n",
       "      <td>7.043956e-01</td>\n",
       "    </tr>\n",
       "    <tr>\n",
       "      <th>min</th>\n",
       "      <td>2.000000e+05</td>\n",
       "      <td>2010.000000</td>\n",
       "      <td>51.293401</td>\n",
       "      <td>-0.498166</td>\n",
       "      <td>-1.000000e+00</td>\n",
       "      <td>-1.000000e+00</td>\n",
       "    </tr>\n",
       "    <tr>\n",
       "      <th>25%</th>\n",
       "      <td>3.175000e+05</td>\n",
       "      <td>2013.000000</td>\n",
       "      <td>51.447037</td>\n",
       "      <td>-0.203605</td>\n",
       "      <td>-8.660254e-01</td>\n",
       "      <td>-8.660254e-01</td>\n",
       "    </tr>\n",
       "    <tr>\n",
       "      <th>50%</th>\n",
       "      <td>4.350000e+05</td>\n",
       "      <td>2016.000000</td>\n",
       "      <td>51.499518</td>\n",
       "      <td>-0.106983</td>\n",
       "      <td>-2.449294e-16</td>\n",
       "      <td>-1.836970e-16</td>\n",
       "    </tr>\n",
       "    <tr>\n",
       "      <th>75%</th>\n",
       "      <td>6.350000e+05</td>\n",
       "      <td>2019.000000</td>\n",
       "      <td>51.556050</td>\n",
       "      <td>-0.027142</td>\n",
       "      <td>5.000000e-01</td>\n",
       "      <td>5.000000e-01</td>\n",
       "    </tr>\n",
       "    <tr>\n",
       "      <th>max</th>\n",
       "      <td>1.490000e+07</td>\n",
       "      <td>2023.000000</td>\n",
       "      <td>51.687047</td>\n",
       "      <td>0.309380</td>\n",
       "      <td>1.000000e+00</td>\n",
       "      <td>1.000000e+00</td>\n",
       "    </tr>\n",
       "  </tbody>\n",
       "</table>\n",
       "</div>"
      ],
      "text/plain": [
       "              price           year            lat            lon  \\\n",
       "count  3.528910e+05  352891.000000  352891.000000  352891.000000   \n",
       "mean   5.940703e+05    2016.353174      51.499407      -0.118100   \n",
       "std    6.361280e+05       3.636158       0.075106       0.143591   \n",
       "min    2.000000e+05    2010.000000      51.293401      -0.498166   \n",
       "25%    3.175000e+05    2013.000000      51.447037      -0.203605   \n",
       "50%    4.350000e+05    2016.000000      51.499518      -0.106983   \n",
       "75%    6.350000e+05    2019.000000      51.556050      -0.027142   \n",
       "max    1.490000e+07    2023.000000      51.687047       0.309380   \n",
       "\n",
       "           sin_time      cos_time  \n",
       "count  3.528910e+05  3.528910e+05  \n",
       "mean  -2.812014e-02 -1.398063e-02  \n",
       "std    7.091146e-01  7.043956e-01  \n",
       "min   -1.000000e+00 -1.000000e+00  \n",
       "25%   -8.660254e-01 -8.660254e-01  \n",
       "50%   -2.449294e-16 -1.836970e-16  \n",
       "75%    5.000000e-01  5.000000e-01  \n",
       "max    1.000000e+00  1.000000e+00  "
      ]
     },
     "execution_count": 79,
     "metadata": {},
     "output_type": "execute_result"
    }
   ],
   "source": [
    "# look at price data only since 2009\n",
    "data_recent=data[data['year']>2009]\n",
    "data_recent.describe()"
   ]
  },
  {
   "cell_type": "code",
   "execution_count": 82,
   "metadata": {},
   "outputs": [
    {
     "data": {
      "text/plain": [
       "(0.0, 8000000.0)"
      ]
     },
     "execution_count": 82,
     "metadata": {},
     "output_type": "execute_result"
    },
    {
     "data": {
      "image/png": "[encoded data removed]",
      "text/plain": [
       "<Figure size 640x480 with 1 Axes>"
      ]
     },
     "metadata": {},
     "output_type": "display_data"
    }
   ],
   "source": [
    "plt.hist(x=data_recent['price'],bins=[300000,500000,1000000,3000000,5000000,8000000],density=True)\n",
    "plt.xlim(0,8000000)"
   ]
  },
  {
   "cell_type": "code",
   "execution_count": 86,
   "metadata": {},
   "outputs": [
    {
     "name": "stdout",
     "output_type": "stream",
     "text": [
      "352891\n"
     ]
    },
    {
     "data": {
      "text/html": [
       "<div>\n",
       "<style scoped>\n",
       "    .dataframe tbody tr th:only-of-type {\n",
       "        vertical-align: middle;\n",
       "    }\n",
       "\n",
       "    .dataframe tbody tr th {\n",
       "        vertical-align: top;\n",
       "    }\n",
       "\n",
       "    .dataframe thead th {\n",
       "        text-align: right;\n",
       "    }\n",
       "</style>\n",
       "<table border=\"1\" class=\"dataframe\">\n",
       "  <thead>\n",
       "    <tr style=\"text-align: right;\">\n",
       "      <th></th>\n",
       "      <th>price</th>\n",
       "      <th>property_type</th>\n",
       "      <th>property_age</th>\n",
       "      <th>ownership</th>\n",
       "      <th>year</th>\n",
       "      <th>lat</th>\n",
       "      <th>lon</th>\n",
       "      <th>sin_time</th>\n",
       "      <th>cos_time</th>\n",
       "    </tr>\n",
       "  </thead>\n",
       "  <tbody>\n",
       "    <tr>\n",
       "      <th>1658684</th>\n",
       "      <td>14000000</td>\n",
       "      <td>F</td>\n",
       "      <td>N</td>\n",
       "      <td>L</td>\n",
       "      <td>2019</td>\n",
       "      <td>51.487483</td>\n",
       "      <td>-0.171853</td>\n",
       "      <td>1.224647e-16</td>\n",
       "      <td>-1.000000e+00</td>\n",
       "    </tr>\n",
       "    <tr>\n",
       "      <th>2105637</th>\n",
       "      <td>7250000</td>\n",
       "      <td>S</td>\n",
       "      <td>N</td>\n",
       "      <td>F</td>\n",
       "      <td>2020</td>\n",
       "      <td>51.508666</td>\n",
       "      <td>-0.102388</td>\n",
       "      <td>-2.449294e-16</td>\n",
       "      <td>1.000000e+00</td>\n",
       "    </tr>\n",
       "    <tr>\n",
       "      <th>1303845</th>\n",
       "      <td>5500000</td>\n",
       "      <td>T</td>\n",
       "      <td>N</td>\n",
       "      <td>F</td>\n",
       "      <td>2015</td>\n",
       "      <td>51.497463</td>\n",
       "      <td>-0.189693</td>\n",
       "      <td>1.224647e-16</td>\n",
       "      <td>-1.000000e+00</td>\n",
       "    </tr>\n",
       "    <tr>\n",
       "      <th>1305285</th>\n",
       "      <td>6950000</td>\n",
       "      <td>F</td>\n",
       "      <td>N</td>\n",
       "      <td>L</td>\n",
       "      <td>2015</td>\n",
       "      <td>51.502803</td>\n",
       "      <td>-0.200705</td>\n",
       "      <td>5.000000e-01</td>\n",
       "      <td>8.660254e-01</td>\n",
       "    </tr>\n",
       "    <tr>\n",
       "      <th>1823702</th>\n",
       "      <td>11950000</td>\n",
       "      <td>T</td>\n",
       "      <td>N</td>\n",
       "      <td>F</td>\n",
       "      <td>2021</td>\n",
       "      <td>51.503419</td>\n",
       "      <td>-0.208015</td>\n",
       "      <td>-5.000000e-01</td>\n",
       "      <td>8.660254e-01</td>\n",
       "    </tr>\n",
       "    <tr>\n",
       "      <th>...</th>\n",
       "      <td>...</td>\n",
       "      <td>...</td>\n",
       "      <td>...</td>\n",
       "      <td>...</td>\n",
       "      <td>...</td>\n",
       "      <td>...</td>\n",
       "      <td>...</td>\n",
       "      <td>...</td>\n",
       "      <td>...</td>\n",
       "    </tr>\n",
       "    <tr>\n",
       "      <th>1484196</th>\n",
       "      <td>9300000</td>\n",
       "      <td>F</td>\n",
       "      <td>N</td>\n",
       "      <td>L</td>\n",
       "      <td>2017</td>\n",
       "      <td>51.518414</td>\n",
       "      <td>-0.144573</td>\n",
       "      <td>-2.449294e-16</td>\n",
       "      <td>1.000000e+00</td>\n",
       "    </tr>\n",
       "    <tr>\n",
       "      <th>1393265</th>\n",
       "      <td>9030751</td>\n",
       "      <td>F</td>\n",
       "      <td>N</td>\n",
       "      <td>L</td>\n",
       "      <td>2016</td>\n",
       "      <td>51.512887</td>\n",
       "      <td>-0.169539</td>\n",
       "      <td>1.000000e+00</td>\n",
       "      <td>6.123234e-17</td>\n",
       "    </tr>\n",
       "    <tr>\n",
       "      <th>900908</th>\n",
       "      <td>9950000</td>\n",
       "      <td>T</td>\n",
       "      <td>N</td>\n",
       "      <td>F</td>\n",
       "      <td>2011</td>\n",
       "      <td>51.500418</td>\n",
       "      <td>-0.197039</td>\n",
       "      <td>8.660254e-01</td>\n",
       "      <td>-5.000000e-01</td>\n",
       "    </tr>\n",
       "    <tr>\n",
       "      <th>1182547</th>\n",
       "      <td>6250000</td>\n",
       "      <td>D</td>\n",
       "      <td>N</td>\n",
       "      <td>F</td>\n",
       "      <td>2014</td>\n",
       "      <td>51.557613</td>\n",
       "      <td>-0.186772</td>\n",
       "      <td>5.000000e-01</td>\n",
       "      <td>8.660254e-01</td>\n",
       "    </tr>\n",
       "    <tr>\n",
       "      <th>2152504</th>\n",
       "      <td>5250000</td>\n",
       "      <td>T</td>\n",
       "      <td>N</td>\n",
       "      <td>F</td>\n",
       "      <td>2013</td>\n",
       "      <td>51.518548</td>\n",
       "      <td>-0.102388</td>\n",
       "      <td>-1.000000e+00</td>\n",
       "      <td>-1.836970e-16</td>\n",
       "    </tr>\n",
       "  </tbody>\n",
       "</table>\n",
       "<p>1257 rows × 9 columns</p>\n",
       "</div>"
      ],
      "text/plain": [
       "            price property_type property_age ownership  year        lat  \\\n",
       "1658684  14000000             F            N         L  2019  51.487483   \n",
       "2105637   7250000             S            N         F  2020  51.508666   \n",
       "1303845   5500000             T            N         F  2015  51.497463   \n",
       "1305285   6950000             F            N         L  2015  51.502803   \n",
       "1823702  11950000             T            N         F  2021  51.503419   \n",
       "...           ...           ...          ...       ...   ...        ...   \n",
       "1484196   9300000             F            N         L  2017  51.518414   \n",
       "1393265   9030751             F            N         L  2016  51.512887   \n",
       "900908    9950000             T            N         F  2011  51.500418   \n",
       "1182547   6250000             D            N         F  2014  51.557613   \n",
       "2152504   5250000             T            N         F  2013  51.518548   \n",
       "\n",
       "              lon      sin_time      cos_time  \n",
       "1658684 -0.171853  1.224647e-16 -1.000000e+00  \n",
       "2105637 -0.102388 -2.449294e-16  1.000000e+00  \n",
       "1303845 -0.189693  1.224647e-16 -1.000000e+00  \n",
       "1305285 -0.200705  5.000000e-01  8.660254e-01  \n",
       "1823702 -0.208015 -5.000000e-01  8.660254e-01  \n",
       "...           ...           ...           ...  \n",
       "1484196 -0.144573 -2.449294e-16  1.000000e+00  \n",
       "1393265 -0.169539  1.000000e+00  6.123234e-17  \n",
       "900908  -0.197039  8.660254e-01 -5.000000e-01  \n",
       "1182547 -0.186772  5.000000e-01  8.660254e-01  \n",
       "2152504 -0.102388 -1.000000e+00 -1.836970e-16  \n",
       "\n",
       "[1257 rows x 9 columns]"
      ]
     },
     "execution_count": 86,
     "metadata": {},
     "output_type": "execute_result"
    }
   ],
   "source": [
    "# how many properties would we cut out beyond 8 ml?\n",
    "print(len(data_recent)) # a little more than half the dataset \n",
    "data_recent[(data_recent['price']>6000000)] # at 6 ml excluding 829 = 0.2% "
   ]
  },
  {
   "cell_type": "markdown",
   "metadata": {},
   "source": [
    "#### Run model"
   ]
  },
  {
   "cell_type": "code",
   "execution_count": 133,
   "metadata": {},
   "outputs": [],
   "source": [
    "def run_initial_training2(data):\n",
    "    \"\"\"\n",
    "    uses all data but only since 2010\n",
    "    runs initial training: from loading data, splitting data, fitting and processing\n",
    "    instantiating model, compiling, training and evaluating.\n",
    "    Output MAE and MSE\n",
    "    \"\"\"\n",
    "    #data=pd.read_csv('raw_data/london_re_postcodes_latlon_master.zip',\n",
    "    #                dtype={'price': np.int32,'month':np.int16,'year':np.int16},\n",
    "    #                ).sample(600000)\n",
    "    # master: drop month, drop date\n",
    "    #data.drop(columns=['date','month'],inplace=True)\n",
    "\n",
    "    # remove  price outliers (anything 6ml or above) and data before 2010\n",
    "    #clean_data=data[(data['year']>2009) & (data['price']<6000000)]\n",
    "    clean_data=data[(data['price']>199000) & (data['price']<3500000)]\n",
    "    print('✅ data loaded and cleaned')\n",
    "\n",
    "    X,y=feature_target(clean_data)\n",
    "    # split the X and y\n",
    "    X_train, X_test, y_train, y_test= split_data(X,y)\n",
    "    print('✅ data split')\n",
    "\n",
    "    # fit preprocessor on training set\n",
    "    preprocessor_fitted=preprocess_fit_X(X_train)\n",
    "    print(\" ✅ X_train fitted and saved preprocessor\")\n",
    "\n",
    "    # Export processor as pickle file\n",
    "    with open(\"models/preprocessor_model2recent.pkl\",\"wb\") as file:\n",
    "        pickle.dump(preprocessor_fitted, file)\n",
    "\n",
    "    # transfrom X_train,X_test\n",
    "    X_train_processed= preprocessor_fitted.transform(X_train)\n",
    "    X_test_processed= preprocessor_fitted.transform(X_test)\n",
    "    print(f'✅ X_train processed with shape {X_train_processed.shape}')\n",
    "    print(f'✅ X_test processed with shape {X_test_processed.shape}')\n",
    "\n",
    "\n",
    "    # initialise_model\n",
    "    model=initialize_model()\n",
    "\n",
    "    # compile_model\n",
    "    model=compile_model(model)\n",
    "\n",
    "    # train_model\n",
    "    model=train_model(model,X_train_processed,y_train)[0]\n",
    "    print('✅ model finished training')\n",
    "\n",
    "    #save model\n",
    "    save_model(model, 'models/model_3recent.h5')\n",
    "    print('✅ model saved ')\n",
    "\n",
    "    # evaluate\n",
    "    mae, mse=evaluate_model(model,X_test_processed,y_test)\n",
    "    print(f'MAE is {mae}, and MSE is {mse}. Training is complete')\n",
    "    return  mae,mse,model,X_test_processed,y_test\n",
    "\n",
    "\n",
    "# def prediction(year=2023,\n",
    "#     property_type='F',\n",
    "#     property_age='N',\n",
    "#     ownership='L',\n",
    "#     lat=51.5487553,\n",
    "#     lon=-0.1235217,\n",
    "#     sin_time=-0.5,\n",
    "#     cos_time=-0.866025):\n",
    "    \n",
    "def prediction2(X):\n",
    "    \"\"\"\n",
    "    takes new X, processes them and predicts\n",
    "    \"\"\"\n",
    "    #X_new=pd.DataFrame(locals(),index=[0])\n",
    "    X_new=pd.DataFrame(X, index=[0])\n",
    "    print(f\"✅ new data loaded in df with shape {X_new.shape}\")\n",
    "\n",
    "    # load preprocessor\n",
    "    preprocessor=pickle.load(open(\"models/preprocessor_model2recent.pkl\",\"rb\"))\n",
    "    X_new_processed=preprocessor.transform(X_new)\n",
    "    print(f\"✅ new data processed with shape {X_new_processed.shape}\")\n",
    "\n",
    "    #load model\n",
    "    model=load_model('models/model_3recent.h5')\n",
    "    print(\"✅ model loaded\")\n",
    "\n",
    "    # predict\n",
    "    ypred=model.predict(X_new_processed)\n",
    "    print(\"✅ model predicted\")\n",
    "\n",
    "    # reverse log price to actual price\n",
    "    prediction=np.exp(ypred)\n",
    "    print(f\" Your predicted price for the property is: {prediction}\")\n",
    "    return prediction\n"
   ]
  },
  {
   "cell_type": "code",
   "execution_count": 134,
   "metadata": {},
   "outputs": [
    {
     "name": "stdout",
     "output_type": "stream",
     "text": [
      "✅ data loaded and cleaned\n"
     ]
    },
    {
     "name": "stderr",
     "output_type": "stream",
     "text": [
      "/Users/Marie/code/MarieMCodes/re_value_predictor/project_code/preprocessor.py:12: SettingWithCopyWarning: \n",
      "A value is trying to be set on a copy of a slice from a DataFrame.\n",
      "Try using .loc[row_indexer,col_indexer] = value instead\n",
      "\n",
      "See the caveats in the documentation: https://pandas.pydata.org/pandas-docs/stable/user_guide/indexing.html#returning-a-view-versus-a-copy\n",
      "  df['log_return'] = np.log(df['price'])\n"
     ]
    },
    {
     "name": "stdout",
     "output_type": "stream",
     "text": [
      "✅ data split\n",
      " ✅ X_train fitted and saved preprocessor\n",
      "✅ X_train processed with shape (477425, 11)\n",
      "✅ X_test processed with shape (119357, 11)\n",
      "✅ Model compiled\n",
      "starting model training\n",
      "Restoring model weights from the end of the best epoch: 36.\n",
      "Epoch 46: early stopping\n",
      "✅ Model trained on 477425 rows with min val MAE: 0.24\n",
      "✅ model finished training\n",
      "✅ model saved \n",
      "3730/3730 [==============================] - 6s 2ms/step - loss: 0.1066 - mae: 0.2390\n",
      "Mean Absolute Error (MAE): 0.23904381692409515\n",
      "Mean Squared Error (MSE): 0.10656095296144485\n",
      "MAE is 0.23904381692409515, and MSE is 0.10656095296144485. Training is complete\n",
      "mae is0.23904381692409515, mse is0.10656095296144485\n"
     ]
    }
   ],
   "source": [
    "%timeit  \n",
    "mae,mse,model_2,X_test_processed_2,y_test_2=run_initial_training2(data)\n",
    "print(f'mae is{mae}, mse is{mse}')"
   ]
  },
  {
   "cell_type": "code",
   "execution_count": 136,
   "metadata": {},
   "outputs": [
    {
     "name": "stdout",
     "output_type": "stream",
     "text": [
      "✅ new data loaded in df with shape (1, 8)\n",
      "✅ new data processed with shape (1, 11)\n",
      "✅ model loaded\n",
      "1/1 [==============================] - 0s 204ms/step\n",
      "✅ model predicted\n",
      " Your predicted price for the property is: [[524947.2]]\n"
     ]
    },
    {
     "data": {
      "text/plain": [
       "array([[524947.2]], dtype=float32)"
      ]
     },
     "execution_count": 136,
     "metadata": {},
     "output_type": "execute_result"
    }
   ],
   "source": [
    "X_new={'year':2023,\n",
    "    'property_type':'F',\n",
    "    'property_age':'N',\n",
    "    'ownership':'L',\n",
    "    'lat':51.5487553,\n",
    "    'lon':-0.1235217,\n",
    "    'sin_time':-0.5,\n",
    "    'cos_time':-0.866025}\n",
    "\n",
    "prediction=prediction2(X_new)\n",
    "prediction"
   ]
  },
  {
   "cell_type": "markdown",
   "metadata": {},
   "source": [
    "#### Run prediction of X_test against y_test"
   ]
  },
  {
   "cell_type": "code",
   "execution_count": 121,
   "metadata": {},
   "outputs": [
    {
     "name": "stdout",
     "output_type": "stream",
     "text": [
      "2170/2170 [==============================] - 3s 1ms/step\n"
     ]
    }
   ],
   "source": [
    "# plotting both logged prediction against logged ytest\n",
    "ypred_2=model_2.predict(X_test_processed_2)\n",
    "\n",
    "# convert prices to actual pounds values\n",
    "ypred_2_exp=np.exp(ypred_2)\n",
    "y_test_2_exp=np.exp(y_test_2)"
   ]
  },
  {
   "cell_type": "code",
   "execution_count": 122,
   "metadata": {},
   "outputs": [
    {
     "data": {
      "text/plain": [
       "(0.0, 5000000.0)"
      ]
     },
     "execution_count": 122,
     "metadata": {},
     "output_type": "execute_result"
    },
    {
     "data": {
      "image/png": "[encoded data removed]",
      "text/plain": [
       "<Figure size 640x480 with 1 Axes>"
      ]
     },
     "metadata": {},
     "output_type": "display_data"
    }
   ],
   "source": [
    "# showing first 5000 rows of actual vs predicted prices\n",
    "plt.scatter(x=ypred_2_exp[:5000], y=y_test_2_exp[:5000])\n",
    "plt.xlabel('Prediction')\n",
    "plt.ylabel('Actual y_test')\n",
    "plt.ylim(0,5000000)\n",
    "plt.xlim(0,5000000)"
   ]
  },
  {
   "cell_type": "markdown",
   "metadata": {},
   "source": [
    "### Model 3: concise data up to 1.8ml and above 249k, all years)"
   ]
  },
  {
   "cell_type": "markdown",
   "metadata": {},
   "source": [
    "#### Run model"
   ]
  },
  {
   "cell_type": "code",
   "execution_count": 130,
   "metadata": {},
   "outputs": [],
   "source": [
    "def run_initial_training3(data):\n",
    "    \"\"\"\n",
    "    runs initial training: from loading data, processing it, splitting data,\n",
    "    instantiating model, compiling, training and evaluating.\n",
    "    Output MAE and MSE\n",
    "    \"\"\"\n",
    "    #data=pd.read_csv('raw_data/london_re_postcodes_latlon_master.zip',\n",
    "     #               dtype={'price': np.int32,'month':np.int16,'year':np.int16},\n",
    "      #              ).sample(600000)\n",
    "    # master: drop month, drop date\n",
    "    #data.drop(columns=['date','month'],inplace=True)\n",
    "\n",
    "    # remove premium price outliers and too low house prices\n",
    "    #clean_data=data[(data['price']<3000000) & (data['price']>249000)] first run\n",
    "    #clean_data=data[(data['price']<4000000) & (data['price']>249000)]\n",
    "    clean_data=data[(data['price']<2500000) & (data['price']>199000)]\n",
    "    print('✅ data loaded and cleaned')\n",
    "\n",
    "    # split X and y and take log of y\n",
    "    X,y=feature_target(clean_data)\n",
    "    # split the X and y\n",
    "    X_train, X_test, y_train, y_test= split_data(X,y)\n",
    "    print('✅ data split')\n",
    "\n",
    "    # fit preprocessor on training set\n",
    "    preprocessor_fitted=preprocess_fit_X(X_train)\n",
    "    print(\" ✅ X_train fitted and saved preprocessor\")\n",
    "\n",
    "    # Export processor as pickle file\n",
    "    with open(\"models/preprocessor_model4concise.pkl\",\"wb\") as file:\n",
    "        pickle.dump(preprocessor_fitted, file)\n",
    "\n",
    "    # transfrom X_train,X_test\n",
    "    X_train_processed= preprocessor_fitted.transform(X_train)\n",
    "    X_test_processed= preprocessor_fitted.transform(X_test)\n",
    "    print(f'✅ X_train processed with shape {X_train_processed.shape}')\n",
    "    print(f'✅ X_test processed with shape {X_test_processed.shape}')\n",
    "\n",
    "\n",
    "    # initialise_model\n",
    "    model=initialize_model()\n",
    "\n",
    "    # compile_model\n",
    "    model=compile_model(model)\n",
    "\n",
    "    # train_model\n",
    "    model=train_model(model,X_train_processed,y_train)[0]\n",
    "    print('✅ model finished training')\n",
    "\n",
    "    #save model\n",
    "    save_model(model, 'models/model_4concise.h5')\n",
    "    print('✅ model saved ')\n",
    "\n",
    "    # evaluate\n",
    "    mae, mse=evaluate_model(model,X_test_processed,y_test)\n",
    "    print(f'MAE is {mae}, and MSE is {mse}. Training is complete')\n",
    "    return  mae,mse,model,X_test_processed,y_test\n",
    "\n",
    "\n",
    "# def prediction(year=2023,\n",
    "#     property_type='F',\n",
    "#     property_age='N',\n",
    "#     ownership='L',\n",
    "#     lat=51.5487553,\n",
    "#     lon=-0.1235217,\n",
    "#     sin_time=-0.5,\n",
    "#     cos_time=-0.866025):\n",
    "    \n",
    "def prediction3(X):\n",
    "    \"\"\"\n",
    "    takes new X, processes them and predicts\n",
    "    \"\"\"\n",
    "    #X_new=pd.DataFrame(locals(),index=[0])\n",
    "    X_new=pd.DataFrame(X,index=[0])\n",
    "    print(f\"✅ new data loaded in df with shape {X_new.shape}\")\n",
    "\n",
    "    # load preprocessor\n",
    "    preprocessor=pickle.load(open(\"models/preprocessor_model4concise.pkl\",\"rb\"))\n",
    "    X_new_processed=preprocessor.transform(X_new)\n",
    "    print(f\"✅ new data processed with shape {X_new_processed.shape}\")\n",
    "\n",
    "    #load model\n",
    "    model=load_model('models/model_4concise.h5')\n",
    "    print(\"✅ model loaded\")\n",
    "\n",
    "    # predict\n",
    "    ypred=model.predict(X_new_processed)\n",
    "    print(\"✅ model predicted\")\n",
    "\n",
    "    # reverse log price to actual price\n",
    "    prediction=np.exp(ypred)\n",
    "    print(f\" Your predicted price for the property is: {prediction}\")\n",
    "    return prediction\n"
   ]
  },
  {
   "cell_type": "code",
   "execution_count": 131,
   "metadata": {},
   "outputs": [
    {
     "name": "stdout",
     "output_type": "stream",
     "text": [
      "✅ data loaded and cleaned\n"
     ]
    },
    {
     "name": "stderr",
     "output_type": "stream",
     "text": [
      "/Users/Marie/code/MarieMCodes/re_value_predictor/project_code/preprocessor.py:12: SettingWithCopyWarning: \n",
      "A value is trying to be set on a copy of a slice from a DataFrame.\n",
      "Try using .loc[row_indexer,col_indexer] = value instead\n",
      "\n",
      "See the caveats in the documentation: https://pandas.pydata.org/pandas-docs/stable/user_guide/indexing.html#returning-a-view-versus-a-copy\n",
      "  df['log_return'] = np.log(df['price'])\n"
     ]
    },
    {
     "name": "stdout",
     "output_type": "stream",
     "text": [
      "✅ data split\n",
      " ✅ X_train fitted and saved preprocessor\n",
      "✅ X_train processed with shape (474598, 11)\n",
      "✅ X_test processed with shape (118650, 11)\n",
      "✅ Model compiled\n",
      "starting model training\n",
      "Restoring model weights from the end of the best epoch: 51.\n",
      "Epoch 61: early stopping\n",
      "✅ Model trained on 474598 rows with min val MAE: 0.23\n",
      "✅ model finished training\n",
      "✅ model saved \n",
      "3708/3708 [==============================] - 6s 2ms/step - loss: 0.0994 - mae: 0.2328\n",
      "Mean Absolute Error (MAE): 0.23277431726455688\n",
      "Mean Squared Error (MSE): 0.09935370832681656\n",
      "MAE is 0.23277431726455688, and MSE is 0.09935370832681656. Training is complete\n",
      "mae is0.23277431726455688, mse is0.09935370832681656\n"
     ]
    }
   ],
   "source": [
    "%timeit \n",
    "mae,mse,model_3,X_test_processed_3,y_test_3=run_initial_training3(data)\n",
    "print(f'mae is{mae}, mse is{mse}')"
   ]
  },
  {
   "cell_type": "code",
   "execution_count": 137,
   "metadata": {},
   "outputs": [
    {
     "name": "stdout",
     "output_type": "stream",
     "text": [
      "✅ new data loaded in df with shape (1, 8)\n",
      "✅ new data processed with shape (1, 11)\n",
      "✅ model loaded\n",
      "1/1 [==============================] - 0s 403ms/step\n",
      "✅ model predicted\n",
      " Your predicted price for the property is: [[544767.1]]\n"
     ]
    },
    {
     "data": {
      "text/plain": [
       "array([[544767.1]], dtype=float32)"
      ]
     },
     "execution_count": 137,
     "metadata": {},
     "output_type": "execute_result"
    }
   ],
   "source": [
    "%timeit \n",
    "X_new={'year':2023,\n",
    "    'property_type':'F',\n",
    "    'property_age':'N',\n",
    "    'ownership':'L',\n",
    "    'lat':51.5487553,\n",
    "    'lon':-0.1235217,\n",
    "    'sin_time':-0.5,\n",
    "    'cos_time':-0.866025}\n",
    "\n",
    "prediction=prediction3(X_new)\n",
    "prediction"
   ]
  },
  {
   "cell_type": "markdown",
   "metadata": {},
   "source": [
    "#### Run plot predictions vs actual"
   ]
  },
  {
   "cell_type": "code",
   "execution_count": 106,
   "metadata": {},
   "outputs": [
    {
     "name": "stdout",
     "output_type": "stream",
     "text": [
      "3005/3005 [==============================] - 4s 1ms/step\n"
     ]
    }
   ],
   "source": [
    "# plotting both logged prediction against logged ytest\n",
    "model_3=load_model('models/model_4concise.h5')\n",
    "ypred_3=model_3.predict(X_test_processed_3)\n",
    "\n",
    "# convert prices to actual pounds values\n",
    "ypred_3_exp=np.exp(ypred_3)\n",
    "y_test_3_exp=np.exp(y_test_3)"
   ]
  },
  {
   "cell_type": "code",
   "execution_count": 107,
   "metadata": {},
   "outputs": [
    {
     "data": {
      "text/plain": [
       "(0.0, 6000000.0)"
      ]
     },
     "execution_count": 107,
     "metadata": {},
     "output_type": "execute_result"
    },
    {
     "data": {
      "image/png": "[encoded data removed]",
      "text/plain": [
       "<Figure size 640x480 with 1 Axes>"
      ]
     },
     "metadata": {},
     "output_type": "display_data"
    }
   ],
   "source": [
    "# showing first 5000 rows of actual vs predicted prices\n",
    "plt.scatter(x=ypred_3_exp[:5000], y=y_test_3_exp[:5000])\n",
    "plt.xlabel('Prediction')\n",
    "plt.ylabel('Actual y_test')\n",
    "plt.ylim(0,6000000)\n",
    "plt.xlim(0,6000000)"
   ]
  },
  {
   "cell_type": "code",
   "execution_count": 141,
   "metadata": {},
   "outputs": [
    {
     "data": {
      "text/plain": [
       "593248"
      ]
     },
     "execution_count": 141,
     "metadata": {},
     "output_type": "execute_result"
    }
   ],
   "source": [
    "clean_data=data[(data['price']<2500000) & (data['price']>199000)]\n",
    "len(clean_data)"
   ]
  },
  {
   "cell_type": "code",
   "execution_count": 139,
   "metadata": {},
   "outputs": [
    {
     "data": {
      "text/plain": [
       "600000"
      ]
     },
     "execution_count": 139,
     "metadata": {},
     "output_type": "execute_result"
    }
   ],
   "source": [
    "len(data)"
   ]
  },
  {
   "cell_type": "code",
   "execution_count": 143,
   "metadata": {},
   "outputs": [],
   "source": [
    "length=1714660+428666\n"
   ]
  },
  {
   "cell_type": "code",
   "execution_count": 144,
   "metadata": {},
   "outputs": [
    {
     "data": {
      "text/plain": [
       "23576586"
      ]
     },
     "execution_count": 144,
     "metadata": {},
     "output_type": "execute_result"
    }
   ],
   "source": [
    "length*11"
   ]
  },
  {
   "cell_type": "code",
   "execution_count": null,
   "metadata": {},
   "outputs": [],
   "source": []
  }
 ],
 "metadata": {
  "kernelspec": {
   "display_name": "Python 3 (ipykernel)",
   "language": "python",
   "name": "python3"
  },
  "language_info": {
   "codemirror_mode": {
    "name": "ipython",
    "version": 3
   },
   "file_extension": ".py",
   "mimetype": "text/x-python",
   "name": "python",
   "nbconvert_exporter": "python",
   "pygments_lexer": "ipython3",
   "version": "3.10.6"
  },
  "widgets": {
   "application/vnd.jupyter.widget-state+json": {
    "state": {},
    "version_major": 2,
    "version_minor": 0
   }
  }
 },
 "nbformat": 4,
 "nbformat_minor": 4
}
